{
  "nbformat": 4,
  "nbformat_minor": 0,
  "metadata": {
    "colab": {
      "provenance": [],
      "toc_visible": true,
      "include_colab_link": true
    },
    "kernelspec": {
      "name": "python3",
      "display_name": "Python 3"
    },
    "language_info": {
      "name": "python"
    }
  },
  "cells": [
    {
      "cell_type": "markdown",
      "metadata": {
        "id": "view-in-github",
        "colab_type": "text"
      },
      "source": [
        "<a href=\"https://colab.research.google.com/github/PosgradoMNA/actividades-del-projecto-equipo-41/blob/main/Reto_Entrega_2_Equipo41.ipynb\" target=\"_parent\"><img src=\"https://colab.research.google.com/assets/colab-badge.svg\" alt=\"Open In Colab\"/></a>"
      ]
    },
    {
      "cell_type": "markdown",
      "source": [
        "# Portada\n",
        "---\n",
        "\n",
        "<br>\n",
        "<p align=center>Instituto Tecnológico y de Estudios Superiores de Monterrey</p>\n",
        "<p align=center>Escuela de Ingeniería y Ciencias</p>\n",
        "<p align=center>\n",
        "<br>\n",
        "<img src=\"https://github.com/PosgradoMNA/actividades-del-projecto-equipo-41/blob/main/tec.png?raw=true\" alt=\"Logo\" width=\"250\"/>\n",
        "</p>\n",
        "<br>\n",
        "<p align=center>Maestría en Inteligencia Artificial Aplicada (MNA)</p>\n",
        "<p align=center>TC4029. Ciencia y Analítica de Datos</p>\n",
        "<p align=center> Profesor Titular: María de la Paz Rico </p>\n",
        "<p align=center> <b>Reto Final - Parte II (Modelo)</b> </p>\n",
        "<br>\n",
        "<p align=center>Presentan:</p>\n",
        "<p align=center>A01150742 | Ovalle Alvarado José</p>\n",
        "<p align=center>A01793023 | Arroyo Chavelas Jorge Luis</p>\n",
        "<p align=center>18 de Noviembre de 2022</p>\n",
        "<br>\n",
        "<br>\n",
        "<p align=center><small><italic>“Por medio de la presente hacemos constar que el reporte que estamos enviando es de nuestra completa autoría y que no estamos haciendo plagio de ideas o escritos del trabajo de otras personas”</italic></small></p>\n",
        "\n",
        "---\n",
        "\n",
        "[GitHub Link](https://github.com/PosgradoMNA/actividades-del-projecto-equipo-41/blob/main/Reto_Entrega_1_Equipo41.ipynb)\n"
      ],
      "metadata": {
        "id": "FTy5JEpgXpC5"
      }
    },
    {
      "cell_type": "markdown",
      "source": [
        "# Introducción"
      ],
      "metadata": {
        "id": "wuYBhsuqXsme"
      }
    },
    {
      "cell_type": "markdown",
      "source": [
        "Este documento es una continuación del análsis realizado en la [entrega 1](https://github.com/PosgradoMNA/actividades-del-projecto-equipo-41/blob/main/Reto_Entrega_1_Equipo41.ipynb). Aquí trataremos de generar un modelo capaz de predecir al semáforo de calidad del agua basada en los datos que previamente análizamos."
      ],
      "metadata": {
        "id": "_APw_tw48zhM"
      }
    },
    {
      "cell_type": "markdown",
      "source": [
        "Preapremos primero nuestro ambiente de análisis:"
      ],
      "metadata": {
        "id": "VawbDUI0Oedi"
      }
    },
    {
      "cell_type": "code",
      "source": [
        "############################################################################################\n",
        "# Librerias y funciones:\n",
        "############################################################################################\n",
        "\n",
        "\n",
        "# Para obtener los datos\n",
        "import requests\n",
        "import zipfile\n",
        "import io\n",
        "\n",
        "\n",
        "\n",
        "# Para manipualr datos\n",
        "import pandas as pd\n",
        "import numpy as np\n",
        "import re\n",
        "import random\n",
        "\n",
        "\n",
        "# Para visualizaciones:\n",
        "from matplotlib import pyplot as plt\n",
        "from matplotlib.colors import ListedColormap\n",
        "import seaborn as sns\n",
        "\n",
        "\n",
        "\n",
        "# Para particiones y validaciones\n",
        "from sklearn.model_selection import train_test_split\n",
        "from sklearn.model_selection import RepeatedStratifiedKFold\n",
        "from sklearn.model_selection import cross_validate\n",
        "\n",
        "\n",
        "\n",
        "# Para transformaciones:\n",
        "from sklearn.base import BaseEstimator, TransformerMixin\n",
        "from sklearn.impute import SimpleImputer\n",
        "from sklearn.impute import KNNImputer\n",
        "from sklearn.preprocessing import LabelEncoder\n",
        "from sklearn.preprocessing import OneHotEncoder\n",
        "\n",
        "\n",
        "\n",
        "# Para pipelines:\n",
        "from sklearn.pipeline import Pipeline\n",
        "from sklearn.pipeline import make_pipeline\n",
        "from sklearn.compose import ColumnTransformer\n",
        "\n",
        "\n",
        "\n",
        "# Modelos de ML:\n",
        "from sklearn.tree import DecisionTreeClassifier\n",
        "from sklearn.ensemble import RandomForestClassifier\n",
        "\n",
        "\n",
        "\n",
        "# Para medir bondad de ajuste:\n",
        "from sklearn.metrics import classification_report\n",
        "from sklearn.metrics import confusion_matrix\n",
        "from sklearn.metrics import accuracy_score\n",
        "from sklearn.metrics import f1_score\n",
        "\n",
        "\n",
        "\n",
        "# Otras utilidades\n",
        "import functools\n",
        "import warnings\n",
        "sns.set_theme(style='white', palette=None)\n",
        "%matplotlib inline\n",
        "\n",
        "\n",
        "\n",
        "# Transformador basado en análisis de la entrega 1\n",
        "class NumericStrategy(BaseEstimator, TransformerMixin):\n",
        "  \"\"\"\n",
        "    Esta clase toma un valor de contaminante numérica o pseudonumérica.\n",
        "    Convierte todo a valores numéricos; cuando encuentra cadenas,\n",
        "    extrae el texto de estas para ahcer el input; si no existen valores,\n",
        "    lo pasa con nulos para que otros métodos generen el input.\n",
        "  \"\"\"\n",
        "  def __init__(self):\n",
        "    return None\n",
        "\n",
        "  def fit(self, X=None, y=None):\n",
        "    return self\n",
        "\n",
        "  def transform(self, X=None, y=None):\n",
        "    # Get all columns:\n",
        "    cols = X.columns\n",
        "    # Transform dataframe to numeric:\n",
        "    X_copy = pd.DataFrame([pd.to_numeric(X[col], errors='coerce') for col in cols], index=cols).T    \n",
        "    # Review the peseudonumber values:\n",
        "    list_str0 = list(X[X_copy.isna()].iloc[:,0].unique())\n",
        "    # Remoe the nans:\n",
        "    list_str = [x for x in list_str0 if str(x) != 'nan']\n",
        "    # Transform the structure <#.## to #.##\n",
        "    list_num = [float(re.sub(r'[^0-9.]', '', x)) for x in list_str]\n",
        "    # Get the minimal value of those\n",
        "    minval = min(list_num) if len(list_num) > 0 else np.nan\n",
        "    # This is the corresponding filling value, sometimes a number, sometimes a nan\n",
        "    X_copy = X_copy.fillna(minval)\n",
        "    # Return the dataframe:\n",
        "    return X_copy"
      ],
      "metadata": {
        "id": "iDIMwnHxu33a"
      },
      "execution_count": 1,
      "outputs": []
    },
    {
      "cell_type": "markdown",
      "source": [
        "Obtengamos los datos:"
      ],
      "metadata": {
        "id": "NvOnlPV9Onbo"
      }
    },
    {
      "cell_type": "code",
      "execution_count": 2,
      "metadata": {
        "id": "jT20qv_sh6Pg",
        "colab": {
          "base_uri": "https://localhost:8080/"
        },
        "outputId": "387ff5b2-f9af-45ff-d48f-1770347dc8d5"
      },
      "outputs": [
        {
          "output_type": "stream",
          "name": "stdout",
          "text": [
            "\n",
            " Dataframe con (1068, 57) dimensiones\n"
          ]
        }
      ],
      "source": [
        "############################################################################################\n",
        "# Llamar los datos:\n",
        "############################################################################################\n",
        "\n",
        "# Definir la url de donde obtener los datos:\n",
        "datos_url = 'http://201.116.60.46/Datos_de_calidad_del_agua_de_5000_sitios_de_monitoreo.zip'\n",
        "\n",
        "# Obtener la respuesta:\n",
        "datos_response = requests.get(datos_url, stream=True)\n",
        "\n",
        "# Tomar respuesta como zip en cache:\n",
        "datos_zip = zipfile.ZipFile(io.BytesIO(datos_response.content))\n",
        "\n",
        "# Extraer todos los archivos del zip en nuestro espacio local:\n",
        "datos_zip.extractall(\"./\")\n",
        "\n",
        "# Definir el lugar donde guardamos los archivos:\n",
        "datos_dir = './Datos_de_calidad_del_agua_2020'\n",
        "\n",
        "# Definir archivos a utilizar\n",
        "datos_file = '/Datos_de_calidad_del_agua_de_sitios_de_monitoreo_de_aguas_subterraneas_2020.csv'\n",
        "\n",
        "# Impotar los datos:\n",
        "df = pd.read_csv(datos_dir + datos_file, encoding = \"cp1252\")\n",
        "\n",
        "# Confirmemos que tenemos el dataset:\n",
        "print(f'\\n Dataframe con {df.shape} dimensiones')"
      ]
    },
    {
      "cell_type": "markdown",
      "source": [
        "Creemos nuestro conjunto de entrenamiento y de prueba. Esta vez, sin embargo, aseguremenos de hacerlo de forma estratificada para tener la misma proporción de semáforos en ambos conjuntos."
      ],
      "metadata": {
        "id": "AL3XxZsp_Vd5"
      }
    },
    {
      "cell_type": "code",
      "source": [
        "############################################################################################\n",
        "# Datos de entrenamiento y prueba:\n",
        "############################################################################################\n",
        "\n",
        "# Conjunto con features\n",
        "X = df.drop('SEMAFORO', axis=1)\n",
        "\n",
        "# Variable objetivo\n",
        "y = df['SEMAFORO']\n",
        "\n",
        "# Partir los datos en conjuntos de entrenamiento y prueba:\n",
        "X_train, X_test, y_train, y_test = train_test_split(X, y, test_size = 0.2, stratify=y, random_state = 42)\n",
        "\n",
        "print(f\"\"\"\n",
        "Tamaño de variables de entrenamiento: {X_train.shape} || tamaño de objetivo entrenamiento: {y_train.shape}\n",
        "Tamaño de variables de prueba: {X_test.shape} || tamaño de objetivo prueba: {y_test.shape}\n",
        "\"\"\")"
      ],
      "metadata": {
        "id": "k4AIlkGeIU6F",
        "colab": {
          "base_uri": "https://localhost:8080/"
        },
        "outputId": "2e2b984b-8265-4056-833c-0a4e6ff12695"
      },
      "execution_count": 3,
      "outputs": [
        {
          "output_type": "stream",
          "name": "stdout",
          "text": [
            "\n",
            "Tamaño de variables de entrenamiento: (854, 56) || tamaño de objetivo entrenamiento: (854,)\n",
            "Tamaño de variables de prueba: (214, 56) || tamaño de objetivo prueba: (214,)\n",
            "\n"
          ]
        }
      ]
    },
    {
      "cell_type": "markdown",
      "source": [
        "# Hipótesis iniciales"
      ],
      "metadata": {
        "id": "AOZtnPbw7FOK"
      }
    },
    {
      "cell_type": "markdown",
      "source": [
        "Tenemos 3 hipotesis; la primera es que los valores de cumplimiento en contaminación es lo que determina el nivel de semáforo; la segunda hipótesis es que estos valores de cumplimiento están determinados por sus clasificaciones de caldiad y por último establecemos que los valores de calidad se determinan por los niveles numéricos de contaminación."
      ],
      "metadata": {
        "id": "kIUFUxE02vHS"
      }
    },
    {
      "cell_type": "code",
      "source": [
        "# Definamos duplas de calidad y cumple, la hipótesis es que CUMPLE puede ser predicho por CALIDAD para cada contaminante:\n",
        "tuplas_calidad = [\n",
        " ('ALC_mg/L', 'CALIDAD_ALC', 'CUMPLE_CON_ALC'),\n",
        " ('CONDUCT_mS/cm', 'CALIDAD_CONDUC', 'CUMPLE_CON_COND'),\n",
        " ('SDT_M_mg/L', 'CALIDAD_SDT_ra', 'CUMPLE_CON_SDT_ra'),\n",
        " ('SDT_M_mg/L', 'CALIDAD_SDT_salin', 'CUMPLE_CON_SDT_salin'),\n",
        " ('FLUORUROS_mg/L', 'CALIDAD_FLUO', 'CUMPLE_CON_FLUO'),\n",
        " ('DUR_mg/L', 'CALIDAD_DUR', 'CUMPLE_CON_DUR'),\n",
        " ('COLI_FEC_NMP/100_mL', 'CALIDAD_COLI_FEC', 'CUMPLE_CON_CF'),\n",
        " ('N_NO3_mg/L', 'CALIDAD_N_NO3', 'CUMPLE_CON_NO3'),\n",
        " ('AS_TOT_mg/L', 'CALIDAD_AS', 'CUMPLE_CON_AS'),\n",
        " ('CD_TOT_mg/L', 'CALIDAD_CD', 'CUMPLE_CON_CD'),\n",
        " ('CR_TOT_mg/L', 'CALIDAD_CR', 'CUMPLE_CON_CR'),\n",
        " ('HG_TOT_mg/L', 'CALIDAD_HG', 'CUMPLE_CON_HG'),\n",
        " ('PB_TOT_mg/L', 'CALIDAD_PB', 'CUMPLE_CON_PB'),\n",
        " ('MN_TOT_mg/L', 'CALIDAD_MN', 'CUMPLE_CON_MN'),\n",
        " ('FE_TOT_mg/L', 'CALIDAD_FE', 'CUMPLE_CON_FE')\n",
        "]"
      ],
      "metadata": {
        "id": "FzBUO2fYOqAZ"
      },
      "execution_count": 4,
      "outputs": []
    },
    {
      "cell_type": "markdown",
      "source": [
        "## Hipótesis 1 - El semáforo se determina por el cumplimiento en los contaminantes"
      ],
      "metadata": {
        "id": "kzX_oQNF7Iiz"
      }
    },
    {
      "cell_type": "markdown",
      "source": [
        "Probemos la primer hipótesis con un árbol de decisión:"
      ],
      "metadata": {
        "id": "VwtWs-bTQSqX"
      }
    },
    {
      "cell_type": "code",
      "source": [
        "############################################################################################\n",
        "# Cross validation de hipótesis 1:\n",
        "############################################################################################\n",
        "\n",
        "# Ubiquemos las columnas de la hipotesis:\n",
        "columnas_cumple = [x[2] for x in tuplas_calidad]\n",
        "\n",
        "# Transformaremos estas mediante un one-hot-encoder:\n",
        "ct_cumple = ColumnTransformer(transformers=[\n",
        "    ( 'onehot', OneHotEncoder(handle_unknown='ignore'), columnas_cumple),\n",
        "])\n",
        "# Usaremos un árbol de decisión\n",
        "mo_cumple = DecisionTreeClassifier()\n",
        "\n",
        "# Y las etiquetas las modificaremos con LabelEncoder()\n",
        "le_cumple = LabelEncoder()\n",
        "le_cumple.fit(y_train)\n",
        "\n",
        "# Pipeline:\n",
        "pipeline_cumple = Pipeline([\n",
        "    ('ct', ct_cumple),\n",
        "    ('mo', mo_cumple)\n",
        "])\n",
        "\n",
        "# Hagamos una validación cruzada para concoer el grado de bondad de este modelo:\n",
        "kfold_cumple = RepeatedStratifiedKFold(n_splits=5, n_repeats=3, random_state=42)\n",
        "resultados_cumple = cross_validate(pipeline_cumple, X_train, y_train, scoring='accuracy', cv=kfold_cumple)\n",
        "\n",
        "# Grafiquemos los resultados de accuracy:\n",
        "print(f\"\"\"\n",
        "┌────────────────────────────────────────────────────┐\n",
        "│Cross Validation:                                   │\n",
        "│ > Contaminantes explican al semáforo               │\n",
        "└────────────────────────────────────────────────────┘\n",
        "\"\"\")\n",
        "fig, ax = plt.subplots(figsize=(6,3))\n",
        "plt.boxplot(resultados_cumple['test_score'], labels=['Accuracy'], vert=False, showmeans=True)\n",
        "plt.xlabel('Score')\n",
        "plt.show()\n",
        "\n",
        "print(f\"\"\"\n",
        "Accuracy media: { np.mean(resultados_cumple['test_score']):.3f} ({np.std(resultados_cumple['test_score']):.3f})\n",
        "\"\"\")"
      ],
      "metadata": {
        "colab": {
          "base_uri": "https://localhost:8080/",
          "height": 394
        },
        "id": "RVQ0zhs6PRqf",
        "outputId": "0f755227-bcf8-4f4d-97c2-929c3aad2ef8"
      },
      "execution_count": 5,
      "outputs": [
        {
          "output_type": "stream",
          "name": "stdout",
          "text": [
            "\n",
            "┌────────────────────────────────────────────────────┐\n",
            "│Cross Validation:                                   │\n",
            "│ > Contaminantes explican al semáforo               │\n",
            "└────────────────────────────────────────────────────┘\n",
            "\n"
          ]
        },
        {
          "output_type": "display_data",
          "data": {
            "text/plain": [
              "<Figure size 432x216 with 1 Axes>"
            ],
            "image/png": "[encoded data removed]"
          },
          "metadata": {
            "needs_background": "light"
          }
        },
        {
          "output_type": "stream",
          "name": "stdout",
          "text": [
            "\n",
            "Accuracy media: 0.991 (0.006)\n",
            "\n"
          ]
        }
      ]
    },
    {
      "cell_type": "markdown",
      "source": [
        "En este experimento cruzado vemos excelentes valores. Validemos contra los datos de prueba:"
      ],
      "metadata": {
        "id": "0-LL0sLHEtSR"
      }
    },
    {
      "cell_type": "code",
      "source": [
        "############################################################################################\n",
        "# Probando hipótesis 1 - árbol de decisión:\n",
        "############################################################################################\n",
        "\n",
        "# Declaramos un modelo:\n",
        "mo_cumple = DecisionTreeClassifier(random_state=42)\n",
        "ct_cumple.fit(X_train)\n",
        "le_cumple.fit(y_train)\n",
        "\n",
        "# Entrenamos el modelo:\n",
        "mo_cumple.fit(\n",
        "    ct_cumple.transform(X_train), \n",
        "    le_cumple.transform(y_train)\n",
        ")\n",
        "\n",
        "# Encontramos y verdadera y predicha:\n",
        "y_true = le_cumple.transform(y_test)\n",
        "y_pred = mo_cumple.predict(ct_cumple.transform(X_test))\n",
        "y_classes = le_cumple.classes_\n",
        "\n",
        "# Obetenemos la matriz de confusión y el reporte de accuracy\n",
        "cmdf_cumple = pd.DataFrame(confusion_matrix(y_true, y_pred), index = y_classes, columns = y_classes)\n",
        "#features = ct.transformers_[0][1].get_feature_names_out(columnas_cumple)\n",
        "print(f\"\"\"\n",
        "┌────────────────────────────────────────────────────────┐\n",
        "│Datos de prueba:                                        │\n",
        "│ > Contaminantes explican al semáforo                   |\n",
        "└────────────────────────────────────────────────────────┘\n",
        "\"\"\")\n",
        "\n",
        "plt.figure(figsize=(7,5))\n",
        "sns.heatmap(cmdf_cumple, annot=True, cmap='Blues', annot_kws={\"size\":12})\n",
        "plt.title('Matriz de confusión', pad=24)\n",
        "plt.ylabel('Valores reales', labelpad=24)\n",
        "plt.xlabel('Valores predichos', labelpad=24)\n",
        "plt.show()\n",
        "print('\\n')\n",
        "print(classification_report(y_true, y_pred, target_names=y_classes))"
      ],
      "metadata": {
        "colab": {
          "base_uri": "https://localhost:8080/",
          "height": 722
        },
        "id": "4jQJ5QFu4TAC",
        "outputId": "5d2883a7-7c7d-4884-933b-e6967d9389ab"
      },
      "execution_count": 6,
      "outputs": [
        {
          "output_type": "stream",
          "name": "stdout",
          "text": [
            "\n",
            "┌────────────────────────────────────────────────────────┐\n",
            "│Datos de prueba:                                        │\n",
            "│ > Contaminantes explican al semáforo                   |\n",
            "└────────────────────────────────────────────────────────┘\n",
            "\n"
          ]
        },
        {
          "output_type": "display_data",
          "data": {
            "text/plain": [
              "<Figure size 504x360 with 2 Axes>"
            ],
            "image/png": "[encoded data removed]"
          },
          "metadata": {
            "needs_background": "light"
          }
        },
        {
          "output_type": "stream",
          "name": "stdout",
          "text": [
            "\n",
            "\n",
            "              precision    recall  f1-score   support\n",
            "\n",
            "    Amarillo       0.98      1.00      0.99        49\n",
            "        Rojo       1.00      0.99      0.99        78\n",
            "       Verde       1.00      1.00      1.00        87\n",
            "\n",
            "    accuracy                           1.00       214\n",
            "   macro avg       0.99      1.00      0.99       214\n",
            "weighted avg       1.00      1.00      1.00       214\n",
            "\n"
          ]
        }
      ]
    },
    {
      "cell_type": "markdown",
      "source": [
        "El reporte anterior confirma que **podemos encontrar el color del semáforo bsandonos en si tienen o no contaminantes**. Como fue planteado en la sección uno, es fácil; distinguir cuando es verde (sin contaminantes) y sólo existe un pequeño ruido para Amarillo y Rojo pero en genera el modelo es bastante robusto con un F1-Score de 99%."
      ],
      "metadata": {
        "id": "qCGQsjFSEuy1"
      }
    },
    {
      "cell_type": "markdown",
      "source": [
        "## Hipótesis 2 - El cumplimiento se determina por la calificación de calidad"
      ],
      "metadata": {
        "id": "F8C1WwrqEbgL"
      }
    },
    {
      "cell_type": "markdown",
      "source": [
        "Nuestra segunda hipótesis dice que los niveles de calidad es lo que determina si se cumple o no. Para comprobar esto repetiremos el experimento, esta vez con los valores de calidad como predictores de si cumplen o no."
      ],
      "metadata": {
        "id": "hmkO0MnUFC1G"
      }
    },
    {
      "cell_type": "code",
      "source": [
        "############################################################################################\n",
        "# Probando hipótesis 2 - árbol de decisión:\n",
        "############################################################################################\n",
        "\n",
        "for contaminante in tuplas_calidad:\n",
        "\n",
        "  # Formemos X y y\n",
        "  Xcol = contaminante[1]\n",
        "  ycol = contaminante[2]\n",
        "\n",
        "  # Transformaremos estas mediante un one-hot-encoder:\n",
        "  ct_calidad = ColumnTransformer(remainder='drop', transformers=[\n",
        "      ( 'onehot', OneHotEncoder(handle_unknown='ignore'), [Xcol])      \n",
        "  ])\n",
        "\n",
        "  # Usaremos un árbol de decisión:\n",
        "  mo_calidad = DecisionTreeClassifier(random_state=42)\n",
        "  \n",
        "  # Y las etiquetas las modificaremos con LabelEncoder():\n",
        "  le_calidad = LabelEncoder()\n",
        "  le_calidad.fit(X_train[ycol])\n",
        "\n",
        "  ct_calidad.fit(X_train)\n",
        "  le_calidad.fit(X_train[ycol])\n",
        "\n",
        "  # Entrenamos el modelo:\n",
        "  mo_calidad.fit(\n",
        "    ct_calidad.transform(X_train), \n",
        "    le_calidad.transform(X_train[ycol])\n",
        "  )\n",
        "\n",
        "  # Encontramos y verdadera y predicha:\n",
        "  y_true = le_calidad.transform(X_test[ycol])\n",
        "  y_pred = mo_calidad.predict(ct_calidad.transform(X_test))\n",
        "  y_classes = le_calidad.classes_\n",
        "  \n",
        "  print(f'Accuracy: {accuracy_score(y_true, y_pred):.3f} con {np.sum(y_true!=y_pred)} errores, para [ {Xcol} ] ===> [ {ycol} ] ')"
      ],
      "metadata": {
        "colab": {
          "base_uri": "https://localhost:8080/"
        },
        "id": "MKkmf4PFKmmP",
        "outputId": "4be91c41-032d-490b-dfcd-48b543445564"
      },
      "execution_count": 7,
      "outputs": [
        {
          "output_type": "stream",
          "name": "stdout",
          "text": [
            "Accuracy: 1.000 con 0 errores, para [ CALIDAD_ALC ] ===> [ CUMPLE_CON_ALC ] \n",
            "Accuracy: 1.000 con 0 errores, para [ CALIDAD_CONDUC ] ===> [ CUMPLE_CON_COND ] \n",
            "Accuracy: 1.000 con 0 errores, para [ CALIDAD_SDT_ra ] ===> [ CUMPLE_CON_SDT_ra ] \n",
            "Accuracy: 1.000 con 0 errores, para [ CALIDAD_SDT_salin ] ===> [ CUMPLE_CON_SDT_salin ] \n",
            "Accuracy: 1.000 con 0 errores, para [ CALIDAD_FLUO ] ===> [ CUMPLE_CON_FLUO ] \n",
            "Accuracy: 1.000 con 0 errores, para [ CALIDAD_DUR ] ===> [ CUMPLE_CON_DUR ] \n",
            "Accuracy: 1.000 con 0 errores, para [ CALIDAD_COLI_FEC ] ===> [ CUMPLE_CON_CF ] \n",
            "Accuracy: 1.000 con 0 errores, para [ CALIDAD_N_NO3 ] ===> [ CUMPLE_CON_NO3 ] \n",
            "Accuracy: 1.000 con 0 errores, para [ CALIDAD_AS ] ===> [ CUMPLE_CON_AS ] \n",
            "Accuracy: 1.000 con 0 errores, para [ CALIDAD_CD ] ===> [ CUMPLE_CON_CD ] \n",
            "Accuracy: 1.000 con 0 errores, para [ CALIDAD_CR ] ===> [ CUMPLE_CON_CR ] \n",
            "Accuracy: 1.000 con 0 errores, para [ CALIDAD_HG ] ===> [ CUMPLE_CON_HG ] \n",
            "Accuracy: 1.000 con 0 errores, para [ CALIDAD_PB ] ===> [ CUMPLE_CON_PB ] \n",
            "Accuracy: 1.000 con 0 errores, para [ CALIDAD_MN ] ===> [ CUMPLE_CON_MN ] \n",
            "Accuracy: 1.000 con 0 errores, para [ CALIDAD_FE ] ===> [ CUMPLE_CON_FE ] \n"
          ]
        }
      ]
    },
    {
      "cell_type": "markdown",
      "source": [
        "Observamos que efectivamente los valores de cumple se basan en los diferentes niveles de calidad. No parece una gran sorpresa ya que vimos limites numéricos muy bien definidos en el análisis exploratorio."
      ],
      "metadata": {
        "id": "PjYoQDFKFPLB"
      }
    },
    {
      "cell_type": "markdown",
      "source": [
        "## Hipótesis 3 - El cumplimiento se determina se puede determinar por los valores numéricos"
      ],
      "metadata": {
        "id": "7EUJL0FeSEtx"
      }
    },
    {
      "cell_type": "markdown",
      "source": [
        "Ahora validemos si es posible determinar el nivel de cumplimiento con un árbol de decisión basado en los niveles de contaminación."
      ],
      "metadata": {
        "id": "o8xkt_ucVYsT"
      }
    },
    {
      "cell_type": "code",
      "source": [
        "############################################################################################\n",
        "# Probando hipótesis 3 - árbol de decisión:\n",
        "############################################################################################\n",
        "\n",
        "for contaminante in tuplas_calidad:\n",
        "\n",
        "  # Formemos X y y\n",
        "  Xcol = contaminante[0]\n",
        "  ycol = contaminante[1]\n",
        "  \n",
        "  # Usaremos un pipeline basado en la estrategia planteada en la primer entrega:\n",
        "  proprocess = Pipeline(steps = [\n",
        "      ('ns', NumericStrategy()),\n",
        "      ('inputer', SimpleImputer(strategy='median') )\n",
        "  ])\n",
        "\n",
        "  # Transformaremos cada columna objetivo con nuestro pipeline:\n",
        "  ct_calidad = ColumnTransformer(remainder='drop', transformers=[\n",
        "      ( 'preprocess', proprocess, [Xcol])\n",
        "  ])\n",
        "\n",
        "  # Usaremos un árbol de decisión:\n",
        "  mo_calidad = DecisionTreeClassifier(random_state=42)\n",
        "  \n",
        "  # Y las etiquetas las modificaremos con LabelEncoder():\n",
        "  le_calidad = LabelEncoder()\n",
        "  le_calidad.fit(X_train[ycol])\n",
        "\n",
        "  ct_calidad.fit(X_train)\n",
        "  le_calidad.fit(X_train[ycol])\n",
        "\n",
        "  # Entrenamos el modelo:\n",
        "  mo_calidad.fit(\n",
        "    ct_calidad.transform(X_train), \n",
        "    le_calidad.transform(X_train[ycol])\n",
        "  )\n",
        "\n",
        "  # Encontramos y verdadera y predicha:\n",
        "  y_true = le_calidad.transform(X_test[ycol])\n",
        "  y_pred = mo_calidad.predict(ct_calidad.transform(X_test))\n",
        "  y_classes = le_calidad.classes_\n",
        "  \n",
        "  print(f'Accuracy: {accuracy_score(y_true, y_pred):.3f} con {np.sum(y_true!=y_pred)} errores para [ {Xcol} ] ===> [ {ycol} ] ')"
      ],
      "metadata": {
        "colab": {
          "base_uri": "https://localhost:8080/"
        },
        "id": "GmNf_XIaSKZ_",
        "outputId": "de7e9dea-564e-41d7-a3dd-621e3e939a27"
      },
      "execution_count": 8,
      "outputs": [
        {
          "output_type": "stream",
          "name": "stdout",
          "text": [
            "Accuracy: 0.991 con 2 errores para [ ALC_mg/L ] ===> [ CALIDAD_ALC ] \n",
            "Accuracy: 1.000 con 0 errores para [ CONDUCT_mS/cm ] ===> [ CALIDAD_CONDUC ] \n",
            "Accuracy: 1.000 con 0 errores para [ SDT_M_mg/L ] ===> [ CALIDAD_SDT_ra ] \n",
            "Accuracy: 1.000 con 0 errores para [ SDT_M_mg/L ] ===> [ CALIDAD_SDT_salin ] \n",
            "Accuracy: 0.986 con 3 errores para [ FLUORUROS_mg/L ] ===> [ CALIDAD_FLUO ] \n",
            "Accuracy: 1.000 con 0 errores para [ DUR_mg/L ] ===> [ CALIDAD_DUR ] \n",
            "Accuracy: 1.000 con 0 errores para [ COLI_FEC_NMP/100_mL ] ===> [ CALIDAD_COLI_FEC ] \n",
            "Accuracy: 1.000 con 0 errores para [ N_NO3_mg/L ] ===> [ CALIDAD_N_NO3 ] \n",
            "Accuracy: 1.000 con 0 errores para [ AS_TOT_mg/L ] ===> [ CALIDAD_AS ] \n",
            "Accuracy: 1.000 con 0 errores para [ CD_TOT_mg/L ] ===> [ CALIDAD_CD ] \n",
            "Accuracy: 1.000 con 0 errores para [ CR_TOT_mg/L ] ===> [ CALIDAD_CR ] \n",
            "Accuracy: 1.000 con 0 errores para [ HG_TOT_mg/L ] ===> [ CALIDAD_HG ] \n",
            "Accuracy: 1.000 con 0 errores para [ PB_TOT_mg/L ] ===> [ CALIDAD_PB ] \n",
            "Accuracy: 1.000 con 0 errores para [ MN_TOT_mg/L ] ===> [ CALIDAD_MN ] \n",
            "Accuracy: 0.995 con 1 errores para [ FE_TOT_mg/L ] ===> [ CALIDAD_FE ] \n"
          ]
        }
      ]
    },
    {
      "cell_type": "markdown",
      "source": [
        "Los resultados son bastante buenos, exise una muy pequeña área de oportunidad en algunos contaminantes; hagamos el mismo experimento esta vez con árboles de decisión."
      ],
      "metadata": {
        "id": "1H1Gv7LNVhiK"
      }
    },
    {
      "cell_type": "code",
      "source": [
        "############################################################################################\n",
        "# Probando hipótesis 3 - Bosque aleatorio:\n",
        "############################################################################################\n",
        "\n",
        "for contaminante in tuplas_calidad:\n",
        "\n",
        "  # Formemos X y y\n",
        "  Xcol = contaminante[0]\n",
        "  ycol = contaminante[1]\n",
        "  \n",
        "  # Usaremos un pipeline basado en la estrategia planteada en la primer entrega:\n",
        "  proprocess = Pipeline(steps = [\n",
        "      ('ns', NumericStrategy()),\n",
        "      ('inputer', SimpleImputer(strategy='median') )\n",
        "  ])\n",
        "\n",
        "  # Transformaremos cada columna objetivo con nuestro pipeline:\n",
        "  ct_calidad = ColumnTransformer(remainder='drop', transformers=[\n",
        "      ( 'preprocess', proprocess, [Xcol])\n",
        "  ])\n",
        "\n",
        "  # Usaremos un árbol de decisión:\n",
        "  mo_calidad = RandomForestClassifier()\n",
        "  \n",
        "  # Y las etiquetas las modificaremos con LabelEncoder():\n",
        "  le_calidad = LabelEncoder()\n",
        "  le_calidad.fit(X_train[ycol])\n",
        "\n",
        "  ct_calidad.fit(X_train)\n",
        "  le_calidad.fit(X_train[ycol])\n",
        "\n",
        "  # Entrenamos el modelo:\n",
        "  mo_calidad.fit(\n",
        "    ct_calidad.transform(X_train), \n",
        "    le_calidad.transform(X_train[ycol])\n",
        "  )\n",
        "\n",
        "  # Encontramos y verdadera y predicha:\n",
        "  y_true = le_calidad.transform(X_test[ycol])\n",
        "  y_pred = mo_calidad.predict(ct_calidad.transform(X_test))\n",
        "  y_classes = le_calidad.classes_\n",
        "  \n",
        "  print(f'Accuracy: {accuracy_score(y_true, y_pred):.3f} con {np.sum(y_true!=y_pred)} errores para [ {Xcol} ] ===> [ {ycol} ] ')"
      ],
      "metadata": {
        "colab": {
          "base_uri": "https://localhost:8080/"
        },
        "id": "ETVKHEyOVqKm",
        "outputId": "0fb20fd7-3f8b-47d8-f789-40542bebef7a"
      },
      "execution_count": 9,
      "outputs": [
        {
          "output_type": "stream",
          "name": "stdout",
          "text": [
            "Accuracy: 0.991 con 2 errores para [ ALC_mg/L ] ===> [ CALIDAD_ALC ] \n",
            "Accuracy: 1.000 con 0 errores para [ CONDUCT_mS/cm ] ===> [ CALIDAD_CONDUC ] \n",
            "Accuracy: 1.000 con 0 errores para [ SDT_M_mg/L ] ===> [ CALIDAD_SDT_ra ] \n",
            "Accuracy: 1.000 con 0 errores para [ SDT_M_mg/L ] ===> [ CALIDAD_SDT_salin ] \n",
            "Accuracy: 0.986 con 3 errores para [ FLUORUROS_mg/L ] ===> [ CALIDAD_FLUO ] \n",
            "Accuracy: 1.000 con 0 errores para [ DUR_mg/L ] ===> [ CALIDAD_DUR ] \n",
            "Accuracy: 1.000 con 0 errores para [ COLI_FEC_NMP/100_mL ] ===> [ CALIDAD_COLI_FEC ] \n",
            "Accuracy: 1.000 con 0 errores para [ N_NO3_mg/L ] ===> [ CALIDAD_N_NO3 ] \n",
            "Accuracy: 1.000 con 0 errores para [ AS_TOT_mg/L ] ===> [ CALIDAD_AS ] \n",
            "Accuracy: 1.000 con 0 errores para [ CD_TOT_mg/L ] ===> [ CALIDAD_CD ] \n",
            "Accuracy: 1.000 con 0 errores para [ CR_TOT_mg/L ] ===> [ CALIDAD_CR ] \n",
            "Accuracy: 1.000 con 0 errores para [ HG_TOT_mg/L ] ===> [ CALIDAD_HG ] \n",
            "Accuracy: 1.000 con 0 errores para [ PB_TOT_mg/L ] ===> [ CALIDAD_PB ] \n",
            "Accuracy: 1.000 con 0 errores para [ MN_TOT_mg/L ] ===> [ CALIDAD_MN ] \n",
            "Accuracy: 0.995 con 1 errores para [ FE_TOT_mg/L ] ===> [ CALIDAD_FE ] \n"
          ]
        }
      ]
    },
    {
      "cell_type": "markdown",
      "source": [
        "No encontramos ninguna mejora con este método; era algo difícil ya que al parecer lo que no encontramos tiene que ver con un ruido de falta de medición."
      ],
      "metadata": {
        "id": "4gKFjrQFV7C-"
      }
    },
    {
      "cell_type": "markdown",
      "source": [
        "## Nueva hipótesis - Transitividad de predicción:"
      ],
      "metadata": {
        "id": "w64N9ZXISRqQ"
      }
    },
    {
      "cell_type": "markdown",
      "source": [
        "Considerando que nnuestros 3 modelos han probado bastante efectividad, es probble que podamos omitar el paso entre calidad y cumple al hacer el nivel de medición responsable directo de ver si cumple o no. Para esto utilizaremos un bosque aleatorio entre medición y cumple"
      ],
      "metadata": {
        "id": "sU1KicjyFbkJ"
      }
    },
    {
      "cell_type": "code",
      "source": [
        "############################################################################################\n",
        "# Probando nueva hipótesis:\n",
        "############################################################################################\n",
        "\n",
        "for contaminante in tuplas_calidad:\n",
        "\n",
        "  # Formemos X y y\n",
        "  Xcol = contaminante[0]\n",
        "  ycol = contaminante[2]\n",
        "  \n",
        "  # Usaremos un pipeline basado en la estrategia planteada en la primer entrega:\n",
        "  proprocess = Pipeline(steps = [\n",
        "      ('ns', NumericStrategy()),\n",
        "      ('inputer', SimpleImputer(strategy='median') )\n",
        "  ])\n",
        "\n",
        "  # Transformaremos cada columna objetivo con nuestro pipeline:\n",
        "  ct_calidad = ColumnTransformer(remainder='drop', transformers=[\n",
        "      ( 'preprocess', proprocess, [Xcol])\n",
        "  ])\n",
        "\n",
        "  # Usaremos un árbol de decisión:\n",
        "  mo_calidad = RandomForestClassifier()\n",
        "  \n",
        "  # Y las etiquetas las modificaremos con LabelEncoder():\n",
        "  le_calidad = LabelEncoder()\n",
        "  le_calidad.fit(X_train[ycol])\n",
        "\n",
        "  ct_calidad.fit(X_train)\n",
        "  le_calidad.fit(X_train[ycol])\n",
        "\n",
        "  # Entrenamos el modelo:\n",
        "  mo_calidad.fit(\n",
        "    ct_calidad.transform(X_train), \n",
        "    le_calidad.transform(X_train[ycol])\n",
        "  )\n",
        "\n",
        "  # Encontramos y verdadera y predicha:\n",
        "  y_true = le_calidad.transform(X_test[ycol])\n",
        "  y_pred = mo_calidad.predict(ct_calidad.transform(X_test))\n",
        "  y_classes = le_calidad.classes_\n",
        "  \n",
        "  print(f'Accuracy: {accuracy_score(y_true, y_pred):.3f} con {np.sum(y_true!=y_pred)} errores para [ {Xcol} ] ===> [ {ycol} ] ')"
      ],
      "metadata": {
        "colab": {
          "base_uri": "https://localhost:8080/"
        },
        "id": "bsL3aYGvZurN",
        "outputId": "3a600527-aec3-4f34-b7aa-a8c6438c1380"
      },
      "execution_count": 10,
      "outputs": [
        {
          "output_type": "stream",
          "name": "stdout",
          "text": [
            "Accuracy: 1.000 con 0 errores para [ ALC_mg/L ] ===> [ CUMPLE_CON_ALC ] \n",
            "Accuracy: 1.000 con 0 errores para [ CONDUCT_mS/cm ] ===> [ CUMPLE_CON_COND ] \n",
            "Accuracy: 1.000 con 0 errores para [ SDT_M_mg/L ] ===> [ CUMPLE_CON_SDT_ra ] \n",
            "Accuracy: 1.000 con 0 errores para [ SDT_M_mg/L ] ===> [ CUMPLE_CON_SDT_salin ] \n",
            "Accuracy: 0.991 con 2 errores para [ FLUORUROS_mg/L ] ===> [ CUMPLE_CON_FLUO ] \n",
            "Accuracy: 1.000 con 0 errores para [ DUR_mg/L ] ===> [ CUMPLE_CON_DUR ] \n",
            "Accuracy: 1.000 con 0 errores para [ COLI_FEC_NMP/100_mL ] ===> [ CUMPLE_CON_CF ] \n",
            "Accuracy: 1.000 con 0 errores para [ N_NO3_mg/L ] ===> [ CUMPLE_CON_NO3 ] \n",
            "Accuracy: 1.000 con 0 errores para [ AS_TOT_mg/L ] ===> [ CUMPLE_CON_AS ] \n",
            "Accuracy: 1.000 con 0 errores para [ CD_TOT_mg/L ] ===> [ CUMPLE_CON_CD ] \n",
            "Accuracy: 1.000 con 0 errores para [ CR_TOT_mg/L ] ===> [ CUMPLE_CON_CR ] \n",
            "Accuracy: 1.000 con 0 errores para [ HG_TOT_mg/L ] ===> [ CUMPLE_CON_HG ] \n",
            "Accuracy: 1.000 con 0 errores para [ PB_TOT_mg/L ] ===> [ CUMPLE_CON_PB ] \n",
            "Accuracy: 1.000 con 0 errores para [ MN_TOT_mg/L ] ===> [ CUMPLE_CON_MN ] \n",
            "Accuracy: 0.995 con 1 errores para [ FE_TOT_mg/L ] ===> [ CUMPLE_CON_FE ] \n"
          ]
        }
      ]
    },
    {
      "cell_type": "markdown",
      "source": [
        "¡Maravilloso! Vemos que el nivel de cumple o no se peude determinar por los valores numéricos (basados en nuestra estrátegia de input y mediana); este pequeño modelo produjo apenas 3 errores mientras que el modelo final produjo sólo 1 por lo que esperamos tener un modelo bastante robusto al final."
      ],
      "metadata": {
        "id": "yJfcGBBgGFXj"
      }
    },
    {
      "cell_type": "markdown",
      "source": [
        "# Modelo Final"
      ],
      "metadata": {
        "id": "Frz9EIPsEuKn"
      }
    },
    {
      "cell_type": "markdown",
      "source": [
        "Habiendo concluido parcialmente que:\n",
        "\n",
        "``` markdown\n",
        "{medición}---(predice)--->{calidad}---(predice)--->{cumple}--->(predice)--->{semáforo}\n",
        "````\n",
        "Podemos asumir que:\n",
        "\n",
        "``` markdown\n",
        "{medición}---(predice)--->{cumple}--->(predice)--->{semáforo}\n",
        "````\n",
        "Por lo que en general sólo necesitamos dos modelos:\n",
        "\n",
        "``` markdown\n",
        "Modelo_0i:  {medición_i}--->{cumple_i}\n",
        "Modelo_1:   {cumple}--->{semáforo}\n",
        "```\n",
        "Para ambos modelos usaremos RandomForestClassifiers, el Modelo_1 es una generalización por one-hot-encoding que recibe los datos de si cumple o no y arroja un semáforo; los $modelos0_i$ sonmodelos que predicen si cumple o no basado en la medición.\n",
        "\n"
      ],
      "metadata": {
        "id": "yUeejsczSDZZ"
      }
    },
    {
      "cell_type": "markdown",
      "source": [
        "## Modelo 0: CUMPLE - SEMÁFORO\n",
        "Este modelo es una generalización de la hipótesis 1."
      ],
      "metadata": {
        "id": "2Z6O2aN4E32_"
      }
    },
    {
      "cell_type": "markdown",
      "source": [
        "Creemos primero un encoder para los colores de semáforo"
      ],
      "metadata": {
        "id": "nheHPOf5X04u"
      }
    },
    {
      "cell_type": "code",
      "source": [
        "# Encoder de y\n",
        "le = LabelEncoder()\n",
        "le.fit(y_train)\n",
        "y_classes = le.classes_"
      ],
      "metadata": {
        "id": "baM6j5wSXz3G"
      },
      "execution_count": 11,
      "outputs": []
    },
    {
      "cell_type": "markdown",
      "source": [
        "Ahora creemos nuestro modelo que dado un conjunto CUMPLE devuelve el color del semáforo. Este módelo usa one-hot encoder sobre las variables que observa."
      ],
      "metadata": {
        "id": "mPvO1vpoX30o"
      }
    },
    {
      "cell_type": "code",
      "source": [
        "############################################################################################\n",
        "# Creación de Modelo 0\n",
        "############################################################################################\n",
        "\n",
        "# One-Hot Encoder para variables de cumplimiento:\n",
        "ct = ColumnTransformer(remainder='drop', transformers=[\n",
        "    ( 'onehot', OneHotEncoder(handle_unknown='ignore'), [t[2] for t in tuplas_calidad])\n",
        "])\n",
        "ct.fit(X_train[[t[2] for t in tuplas_calidad]])\n",
        "\n",
        "# Random forest:\n",
        "model = RandomForestClassifier()\n",
        "\n",
        "# Entrenamos el modelo:\n",
        "model.fit(\n",
        "    ct.transform(X_train[[t[2] for t in tuplas_calidad]]), \n",
        "    le.transform(y_train)\n",
        ")\n",
        "\n",
        "model"
      ],
      "metadata": {
        "colab": {
          "base_uri": "https://localhost:8080/"
        },
        "id": "X4YtzGW4XdTc",
        "outputId": "541bd54b-605c-48fa-e2bb-feb66b211718"
      },
      "execution_count": 12,
      "outputs": [
        {
          "output_type": "execute_result",
          "data": {
            "text/plain": [
              "RandomForestClassifier()"
            ]
          },
          "metadata": {},
          "execution_count": 12
        }
      ]
    },
    {
      "cell_type": "code",
      "source": [
        "############################################################################################\n",
        "# Evaluación de Modelo 0\n",
        "############################################################################################\n",
        "\n",
        "# Encontramos y verdadera y predicha:\n",
        "y_true = le.transform(y_test)\n",
        "y_pred = model.predict(ct.transform(X_test))\n",
        "\n",
        "# Obetenemos la matriz de confusión y el reporte de accuracy\n",
        "cmdf_mo1 = pd.DataFrame(confusion_matrix(y_true, y_pred), index = y_classes, columns = y_classes)\n",
        "\n",
        "print(f\"\"\"\n",
        "┌────────────────────────────────────────────────────────┐\n",
        "│Datos de prueba:                                        │\n",
        "│ > Contaminantes explican al semáforo                   |\n",
        "└────────────────────────────────────────────────────────┘\n",
        "\"\"\")\n",
        "\n",
        "plt.figure(figsize=(7,5))\n",
        "sns.heatmap(cmdf_mo1, annot=True, cmap='Blues', annot_kws={\"size\":12})\n",
        "plt.title('Matriz de confusión', pad=24)\n",
        "plt.ylabel('Valores reales', labelpad=24)\n",
        "plt.xlabel('Valores predichos', labelpad=24)\n",
        "plt.show()\n",
        "print('\\n')\n",
        "print(classification_report(y_true, y_pred, target_names=y_classes))"
      ],
      "metadata": {
        "colab": {
          "base_uri": "https://localhost:8080/",
          "height": 722
        },
        "id": "Yi29LOlNYGez",
        "outputId": "40129078-4133-412b-c2b8-b4c983033f30"
      },
      "execution_count": 13,
      "outputs": [
        {
          "output_type": "stream",
          "name": "stdout",
          "text": [
            "\n",
            "┌────────────────────────────────────────────────────────┐\n",
            "│Datos de prueba:                                        │\n",
            "│ > Contaminantes explican al semáforo                   |\n",
            "└────────────────────────────────────────────────────────┘\n",
            "\n"
          ]
        },
        {
          "output_type": "display_data",
          "data": {
            "text/plain": [
              "<Figure size 504x360 with 2 Axes>"
            ],
            "image/png": "[encoded data removed]"
          },
          "metadata": {
            "needs_background": "light"
          }
        },
        {
          "output_type": "stream",
          "name": "stdout",
          "text": [
            "\n",
            "\n",
            "              precision    recall  f1-score   support\n",
            "\n",
            "    Amarillo       0.98      1.00      0.99        49\n",
            "        Rojo       1.00      0.99      0.99        78\n",
            "       Verde       1.00      1.00      1.00        87\n",
            "\n",
            "    accuracy                           1.00       214\n",
            "   macro avg       0.99      1.00      0.99       214\n",
            "weighted avg       1.00      1.00      1.00       214\n",
            "\n"
          ]
        }
      ]
    },
    {
      "cell_type": "markdown",
      "source": [
        "Los resultados esperados y vistos en nuestra hipótesis 1. Por su puesto el reto es entonces: Cómo obtenemos modelos que determinen si un contaminante cumple o no."
      ],
      "metadata": {
        "id": "3zbZGb4sYNXG"
      }
    },
    {
      "cell_type": "markdown",
      "source": [
        "## Modelo $1_i$: CONTAMINANTE - CUMPLE"
      ],
      "metadata": {
        "id": "Ya2AFQE3YYc4"
      }
    },
    {
      "cell_type": "markdown",
      "source": [
        "Estos modelos son una expansión de la hipótesis 3. Sin embargo uno de los elementos del modelo era como lidiaba con los datos numéricos no capturados en donde utilizamos una mediana; sin embargo quisieramos expandir esto en base a lo encontrado en el análisis I entregado en la primera part de este reto; ahí descubrimos que la locación podría ser un factor y por lo tanto queremos hacer un mejor input que considere esto."
      ],
      "metadata": {
        "id": "Otcw-FTJZJGQ"
      }
    },
    {
      "cell_type": "markdown",
      "source": [
        "### Imput por KNN (basado en las observaciones de K-Means)"
      ],
      "metadata": {
        "id": "p6GQ5ERdEyKD"
      }
    },
    {
      "cell_type": "markdown",
      "source": [
        "\n",
        "Basado en los K-Means vimos homogeneidad de colores dentro de ellos, por lo que expandiremos eso usando la LONG y LAT para determinar vecinos cercanos con KNN, que es otro algoritmo con similitud a K-Means. La hipótesis es sencilla: lugares cercanos tienen valores cercanos en contaminantes; si esto es cierto, entonces podemos hacer el input cuando no lo tengamos como el promedio de los más cercanos.\n",
        "\n",
        "Esta aplciación es sencilla: Formaremos mini modelos (i) por contaminante que tomarán su longitud, latitud y nivel de contaminación; nuestro modelo entrenará con esta información y hará un método de imput, tal que tome el promedio de los puntos más cercanos.\n",
        "\n",
        "Ponemos a continuación un ejemplo gráfico de como funcionaria esto:"
      ],
      "metadata": {
        "id": "PuC8udDLXWFR"
      }
    },
    {
      "cell_type": "markdown",
      "source": [
        "![image.png](data:image/png;base64,iVBORw0KGgoAAAANSUhEUgAAAxEAAAGdCAYAAABtiv7sAAAAAXNSR0IArs4c6QAAAARnQU1BAACxjwv8YQUAAAAJcEhZcwAADsMAAA7DAcdvqGQAAEAASURBVHhe7d0JeFXVuf/xNyQBTJgHQQRkqrQOYKniAPJUuQjUq61KLYNatNUK16GWCupfr7WlWrA8dSporZVWBbQqvdpeQIq2TEWwVHC6KiAyCQIJCAlDEvjnt7IX3RwynJ2cQM4538/z7Gftvfbe65yT5MB695oyDpYyAAAAAIhTvSAFAAAAgLgQRAAAAACIhCACAAAAQCQEEQAAAAAiIYgAAAAAEAlBBAAAAIBICCIAAAAAREIQAQAAACASgggAAAAAkRBEAAAAAIiEIAIAAABAJAQRAAAAACIhiAAAAAAQCUEEAAAAgEgIIgAAAABEQhABAAAAIJKUDCL+MGddsAcAAAAg0VIyiHjmtfXBHgAAAIBEozsTAAAAgEgIIgAAAABEQhABAAAAIBKCCAAAAACREEQAAAAAiIQgAgAAAEAkBBEAAAAAIiGIAAAAABAJQQQAAACASAgiAAAAAERCEAEAAAAgEoIIAAAAAJEQRAAAAACIhCACAAAAQCQEEQAAAAAiIYgAAAAAEAlBBAAAAIBICCIAAAAAREIQAQAAACASgggAAAAAkRBEAAAAAIiEIAIAAABAJAQRAAAAACIhiAAAAAAQCUEEAAAAgEgIIgAAAABEQhABAAAAIBKCCAAAAACREEQAAAAAiIQgAgAAAEAkBBEAAAAAIiGIAAAAABAJQQQAAACASAgiAAAAAERCEAEAAAAgEoIIAAAAAJEQRAAAAACIhCACAAAAQCQEEQAAAAAiIYgAAAAAEAlBBAAAAIBIMg6WCvZTxoAxi2zupD7BEVA976/eYv9Ysc6WrPjUNm/bZdt3FLr8ls1yrG2rxnbuGSfZOT1PslO6HO/yAQAA0gVBBBBDwcJj0xbZzHnvBTmVu6z/qXbT8D4uuAAAAEgHBBFAyAuzV9rDzy20gsL97rhh49ZW/7imlpWdY/Uys1zegZJiKy4qtP17dtreXVtdXu5x9e2WEX3sO4N7umMAAIBURhABBO741SybvfBDt98gt4XlNjvRMrMbuuOKlBTttYIdG21fQZ47HtS3u/3itsFuHwAAIFUxsBoo9cyry10AodaGJq27uq2qAEJ0jb++Xr0sV4bKAgAASGUEEUh7yz/YaJOmznf7jVp0cq0QUemeRi1PcvsqS2UCAACkKoIIpL3xj89zaU7TE0qDgeZuvzoUSOQ0bev2fZkAAACpiCACaW3u4o9tzYY8y27QyHKbtw9yqy+3eQdXlspU2QAAAKmIIAJpbd6bq1xakxaIWL4sXzYAAECqIYhAWvtobdkUrdkNm7o0EXxZvmwAAIBUQxCBtLZl+26XZmbVd2ki+LJ82QAAAKmGIAKQjIxgBwAAAFUhiEBaa9OykUtLive5NBFKistWu/ZlAwAApBqCCKS1kzu1dmnRnp0uTYSivWVl+bIBAABSDUEE0lr/s7u5dF9BvksTwZflywYAAEg1BBFIawPO+5J1ad/CivbttoL89UFu9RXkb3BldS4tU2UDAACkIoIIpL27b+zv0sKdm21fQZ7brw61QBTu/Mzt3xOUCQAAkIoIIpD2en3lRBszsp/b373902oFErpn9/a1bl9lqUwAAIBURRABlLr6kl42qG93O3Cg2L7YutptJUV7g7MV0zX+et2rMlQWAABAKss4WCrYTxkDxiyyuZP6BEdA/J6ftcIembbICgrLpmlt2Li11T+uqWVl51i9zCyXd6Ck2IqLCm3/np22d1fZqtS5x9W3W6/qa1cO6uGOAQAAUhlBBBBj+45Ce6w0kJg5770gp3KX9T/Vbhrex1o2ywlyAAAAUhtBBFCB99d8bktWfGr/ePtT27xtlwsuRMFC21aN7ZyeJ9m5PTvaKV3buHwAAIB0QRABAAAAIBIGVgMAAACIhCACAAAAQCQEEQAAAAAiIYgAAAAAEAlBBAAAAIBICCIAAAAAREIQAQAAACASgggAAAAAkRBEAAAAAIiEIAIAAABAJAQRAAAAACIhiAAAAAAQCUEEAAAAgEgIIgAAAABEQhABAAAAIBKCCAAAAACREEQAAAAAiIQgAgAAAEAkBBEAAAAAIiGIAAAAABAJQQQAAACASAgiAAAAAERCEAEAAAAgEoIIAAAAAJEQRAAAAACIhCACAAAAQCQEEQAAAAAiIYgAAAAAEAlBBAAAAIBICCIAAAAAREIQAQAAACASgggAAAAAkRBEAAAAAIiEIAIAAABAJAQRAAAAACLJOFgq2E8ZA8YssrmT+gRH6ef91VvsHyvW2ZIVn9rmbbts+45Cl9+yWY61bdXYzj3jJDun50l2SpfjXT4AAAAQBUFEClGw8Ni0RTZz3ntBTuUu63+q3TS8jwsuAAAAgHgRRKSIF2avtIefW2gFhfvdccPGra3+cU0tKzvH6mVmubwDJcVWXFRo+/fstL27trq83OPq2y0j+th3Bvd0xwAAAEBVCCJSwB2/mmWzF37o9hvktrDcZidaZnZDd1yRkqK9VrBjo+0ryHPHg/p2t1/cNtjtAwAAAJVhYHWSe+bV5S6AUGtDk9Zd3VZVACG6xl9fr16WK0NlAQAAAFUhiEhiyz/YaJOmznf7jVp0cq0QUemeRi1PcvsqS2UCAAAAlSGISGLjH5/n0pymJ5QGA83dfnUokMhp2tbt+zIBAACAihBEJKm5iz+2NRvyLLtBI8tt3j7Irb7c5h1cWSpTZQMAAAAVIYhIUvPeXOXSmrRAxPJl+bIBAACA8hBEJKmP1pZN0ZrdsKlLE8GX5csGAAAAysMUr0mqz1WTrWDPfmvVsZdl1MsMcmvm4IES27ZuuVs7YtGzo4Nc4OjRdxfJLx0X+wSAdENLRLLLyAh2AAAAgKODlogkdfmtf3CDoJufeJplZR8X5NZM8f49lr/pXevSvoW9/PA1QS5w9PiWCJ5kJyd+fwCQPmiJSFInd2rt0qI9O12aCEV7y8ryZQMAAADloSUiSWka1tsn/cVNy9rshK8EuTWz47MPrGjfbntwzMU24LwvBbnA0cOT7OTG7w/JbvO2XTb/rTW2ZOV625q327blF9jnpVtJyYHgCqDuy8ysZ8c3z7VWpVvrFo3snB4drN+ZXaxtq8bBFYlBS0SSUiVf3Y5U6S/IXx/kVl9B/gZXVufSMgkgAADpZPbCD+2aO2fYoB88Zfc/+Ya9/uYqe+fjzfZZaVBBAIFko79Z/e3qb1h/y/qb1t+2/sb1t54otEQkseUfbLTr7v6j22/Suqtbebo69hXk2xdby9aG+N34b1uvr5zo9oGjjSfZyY3fH5LNkhWf2lMvv2XL3i17GNegfpb1O7Oznd+rs3Vq19w9xW3VPMeysxIzCyJwNBQVl9i2/ELXmrZ2U77N/+cntqB027e/2J0/67QO9r3Lz7JzenZ0x9VFEJHknnl1uU2aOt/q1cuyRi1PihxI7CvIs93bP7UDB4ptzMh+dvUlvYIzwNFHJTS58ftDMnl65lv28LML3X6blo1LK1Vn2hUXnW6Z9eikgdRTcuCgvfTaShc0b9m+y+XdelVfu/ayM91+dfBNSXKq9A/q290FAV9sXe22kqK9wdmK6Rp/ve5VGQQQAIB08LPH5x0KIM7u0cFmPX6dXTmoJwEEUlZmvQz3N66/9bNP7+Dy9B346ZS/uv3q4NuSAn5x22C78/sXWG5OfdeykLfxHdu1fa3tK8wvDRb2uUXktGlfeTqna3StFpa76/oLXRkAAKQ6VZpemvuOG3z6QOn/fU/ce4XVK61gAelAf+tP/OQK97ev78DLf33XBdXVQRCRIr4zuKe98uhIu6z/qe54766t9sXnq0qDhZVuFWpt2leezomufeWxkaWRaQ93DABAKlMXJlWaVHm658b+Nrhv9+AMkF70t6/vgL4LCqr13YiKICKFtGyWY/eOHmDTHhxut1zVx846rb11aNvUchpmu037yrt5RB+bNnGYu1b3AACQ6jSI2ndhGn/LQPvWhWUP3YB0pe+Avgui74a+I1EQRKSgU7ocb9dddpY9ed8Qe/XX19ri5/7LbdpXnkbkn9K1TXA1gFQwceJEy8jIsBkzZgQ5AMI0oFTUH5wWCKCMvgsaFyT+OxIvgggASHLdunWzcePGBUcAYmlufE3jqlmYpvz35UEuAJlyz+Xuu6HvSJR1JAgiACCJjR492qWrV692KYAjTfvLv1yqaVwZRA0cTt8JfTfEf1fiQRABICWoK4/ffMVa9JReXXyU6py6/Xi+C1B594mOtYWvGzRo0KFzPi9cpldV2QsXLnT5lXU/8u9dr+nLiX2tyZMn26pVZYtFAjjS5m27bOVHm91CcldcxEQiQHm0Roq+I/qu6DsTD4IIAElPlesJEyaY1s7UtmbNGldJ94YNG2bjx49358aOHevyVKlXFyB/j7YpU6YcUdlX3tq1a915Pe2fM2eOe71OnTq5vOnTp7tywq8Xb9nx0HsfOXKkK2PBggVHvBaAys1/a41Lz/9aZzdXPoAjaY0UrdYu/jtTFYIIAEnNP5n3wYHMnj3b+vbtGxyZjRo1yoYOHRoclVGlXgFAmI6VryDEGzhwoHvaL126dHHHKs+/ni93w4YNLpV4ytb7U2AQ+75iKTjy1+ierl272uLFi90xgKotWbnepf1KgwgAFTu/V9l3xH9nqkIQASCpqZVAFfvKqNUgzD/J7927t0s9f7xp0yaXRrFu3TqX1kbZsfSZAcRna95ul3Zq19ylAMrnvyP+O1MVgggAAJCytuUXuLR1i0YuBVA+/x3x35mqEEQASGpqZdA4hSjatWvn0qVLl7rU88fhrlBR1WbZAKL7PKgQtWrO4qpAZfx3xH9nqkIQASCpDRkyxKXhWYs0m1Flg481tkHjGjRoOUzHGoNQE/GWrfdX1exMAGqupOSAS7OzMl0KoHz+O+K/M1UhiACQ1FRp16xJmrXIT4OqvKqe+GuwtCr7/h5tquSHB2hXV22WHUszPql8DbgWBSs6rs5MUAAAxCvjoKYHSTEDxiyyuZP6BEcAkoW+u8L3Nznx+0NddMYVD7n07Zd+6FIAFYvyfaElAgAAAEAkBBEAAAAAIiGIAAAAABAJQQQAAACASAgiAAAAAERCEAEAAFCJp2e+ZWMe/LNddP1v3aZ95QHpjCACAACgHO+v3mLDx063h59daPOWrLLP83a7TfvKGzFuhrsGSEcEEQAAADHe/XizCyAUJGQ1yLUmrbtai/Y93KZ95b23quya91YRSCD9EEQAAADEeHTaYpdm1c+x5iecYg1yW1hmVgO3aV95OiePPLvQpUA6YcVqAHWGX/EYyY1/f1GXVGfF6hdmr7D7n3zDBQwtTjy9tLaUEZyJUVqFytv4jpUU77O7brjQrhzYIzgBJCdWrAYAAKimlR9tdmn945pWHEBI6Tl3Tal3PvrMpUC6oCUCAACkrOq0RFw55jn7aO1Wa95OXZZyg9zyFe8vsPxN79vJnVrbC5NGBLmIYuLEifb666/b7Nmzg5zktXDhQhs/fnzSfhZaIgAAAKpJAYRkZZeNeahMVtZxLvX3RKHKc0ZGxqGtJlSWtkRRWYMGDQqOEkMV7NjPuWbNGvvNb36TVJXu8j5HOiKIAAAACFGrgpQU73VpZYqL97jU3xOv0aNHu8qzOoRoW7BggcurK8aOHZvwin3fvn3dZw3r0qWLrVq1KjhKDuV9jnREEAEAABBy8kmtXLrni89dWpm9u7a5tHunsnviNWXKFHvttdeCo7KK6eTJk93+jBkzDmuh0NN68a0NPt+3FChv3LhxblO+npTrnL9Omy9DZStY6datm8tX6p+sa/OtGf668H74Hq+i1xF/vTaVq3Phe8OfRZun/PC5ilpEYn9OXvh1w4GZ8sPl6n4vtqzw5wh/RpVX2eeYNm1akHvk5wu/XiogiAAAAAjpcXJbl+7fs9PNwFSh0nPumlKnn3yCS+OhSnvXrl3dU/hYOjds2DD3pFvb9OnT3bWeAgV/Tk/wdb1aDSZMmOA25SsgUSuCv075v/zlL4MSygKYqVOnunNy/vnnu/3Vq1e78svjgx5dpwq0rxBX9DqqbN9www2Hzuk9hun+cEuM7g1XzMv7nGGqyId/TtpEFf7w6+o9qzLvrV271uWr5efuu+92eZX9zHWvfk/+nA/0PN0bfq/h4EOf2eeHXy9VEETgMOGImS15t2NBCzI99fIyu/7eF+2S/3razhvxa7dpX3m/m7nM3l9T9VM9ADjWrhzU03qf3sFN3Zr/2ftB7pF0Ttec3aNjwqZ3Xbx4satQe0OHDnUVWl85DZ+76KKLbMOGDcHR4VS59f8nxAYGo0aNcoGGqAxVmkWV5fBrhekeH/RceOGFtm7dOrdf0euo8j5kyJDg6Ejz5893A5A9VbgVxHhVfc6lS5e69xRrzpw5hwUseg0FDt6Pf/xjl+rz+9er7GeuAd/Dhw8PzhxJ94bfR2yg4H82CtRSDUEEgBrZvqPQ7ps8163a+uhzi2zZuxts/eadVri3yG3aV94jzy6y4bdPc9fqHgCoy24ZUTbLY/H+Qhcs7CvIcwGDNu0rT+fEXxuvdu3auQpseZX1RFGlVU+/9RTcBwm14Wi9TjJSq4iCE/1swgFSqiCIQLl88xtbcm1H2wuzV9qlN0+1mfPec8cNG7e2Jsd3sxYn9rBWHXu5TfvK0znRtZfeNNWen7XCHQNAXXTal9ratInD7NRuba14X4F9sXW15W1Y6TbtK+/LXY4PrmkT3BUfPdHX0+twf30FFDo+77zzDnui77sNldf1KVb4ibsoWBF1XapN5b2Ouia9+OKLwdGR+vXrd9hTe3UbGjhwYHBUtfbt27suVrFURrj7kl5Dr1WZyn7m2sLjHGLp3vD7CLeuSMeOHV1a2c8iWRFEAClox44d9tBDZXM915Y7fjXL7n/ydSso3G8Nclu4VV0bt+xkDXKaW2Z2A8uol+k27StP53SNri3Ys98e+O0brgwAqKtO6drGnpsw1G69qq/1P6ebHd+ikdu0r7wZDw5311SH71vvu7uo+4zy1M1GT699vvrqxzN7kboOqTKre9TFSGWoTB3XpopeR2MlVDH3nyNcsRd1GVI3JX8+6jSvsT8nbRL7uhofodeqTGU/c/1O1DXLnwsHfqJ7FRD68yNHjgzOlAUwKkv56haValhsDofRH7qk4J9FWgj//jp37mxvvPGGderUyeUl0jOvLrdJU+dbvcwsa9TiJBcYRKGuALu3f2oHDhTbmJH97OpLegVnACCxqrPYHJCuWGwOgH3rW9+yP/3pT8FR4iz/YKMLIKRRi06RAwjRPY1anuT2VZbKBAAAyYMgAkhRt956q+vWlGjjH5/n0pymJ5QGA83dfnUokMhpWjaNoi8TAAAkB4IIIEWpG9NPfvKT4Cgx5i7+2NZsyLPsBo0st3n7ILf6cpt3cGWpTJUNAACSA0EEkMLUEhE7W0dNzHuzbKBZTVogYvmyfNkAAKDuI4gAUtxXv/rVYK/mPlq71aXZDZu6NBF8Wb5sAABQ9xFEACmsWbNm9vWvfz1hc4Rv2b7bpZlZ9V2aCL4sXzYAAKj7CCKAFPfd737XVqxI8MJuwVSyAAAgPRFEAClOU73+6le/Co5qpk3LRi4tKd7n0kQoKd7vUl82AACo+wgiAMTt5E6tXVq0Z6dLE6Fob1lZvmwAAFD3EUQAaeBvf/tbQgZY9z+7m0v3FeS7NBF8Wb5sAABQ9xFEIGEyMjIObaNHjw5yzbp162YzZsxwqc5NnDgxOGNuv6L7RMfawtcNGjTo0DmfFy7Tq6rshQsXuny9t1SnwdWJmO51wHlfsi7tW1jRvt1WkL8+yK2+gvwNrqzOpWWqbAAAkBwIIpAQqoxPmDDBDh486LY1a9a4Sro3bNgwGz9+vDs3duxYl6dK/bhx4w7do23KlClHVPaVp8qvzq9evdrmzJnjXk+LqSlv+vTprpzw68VbdjrR2IiHH344OKq+u2/s79LCnZttX0Ge268OtUAU7vzM7d8TlAkAddmiRYuCPQAEEagx3wrggwOZPXu29e3bNzgyGzVqlA0dOjQ4KqNKvQKAMB0rX0GIN3DgQJs8ebLb79KliztWef71fLkbNmxwqcRTtt6fgovY95WqNLj63nvvDY6qr9dXTrQxI/u5/d3bP61WIKF7dm8vaxVRWSoTAOq6X/7yl8EeAIII1JhaCVSxr4xaDcJ8q0Hv3r1d6vnjTZs2uTSKdevWubQ2yk4VWjciEa6+pJcN6tvdDhwoti+2rnZbSdHe4GzFdI2/XveqDJUFAHWd/q/705/+VONuoUCqIIgA0ogGWN92223BUc384rbBduf3L7DcnPquZSFv4zu2a/ta21eYXxos7LODB0rcpn3l6Zyu0bW5x9W3u66/0JUBAMngtddeOywF0h1BBGpMrQwapxBFu3btXLp06VKXev443BUqqtosO9mdccYZCVu9Wr4zuKe98uhIu6z/qe54766t9sXnq0qDhZW2bd1yt2lfeTonuvaVx0balYN6uGMASAZPPPHEYSmQ7ggiUGNDhgxxaXiGJM2gFB7oHEtjGzSuQQOuw3SsAdo1EW/Zen/pMjuTp+5MGmCdyECiZbMcu3f0AJv24HC75ao+dtZp7a1D26aW0zDbvn56E7evvJtH9LFpE4e5a3UPACSTDz/88LAUSHcEEagxVdo1a5JmQ1KlXJvyqnrir8HSquz7e7Spkh8eoF1dtVl2stPgak35mmindDnerrvsLHvyviH26q+vtb88NtwGnn2C21fe9y4/y07p2ia4GgCSx1//+lcrKCiw+vXru1THQLrLOKjpaVLMgDGLbO6kPsERolBlW1LwzyIt1KXf35YtW+zdd9+1/v2ZvhXAsXPGFQ+59O2XfujS6tADqAcffNCtd7Rq1Sq7/fbby12fCEh2Ub4vBBE4DEFEcov396cB1lp8Tl2bACCVxVspuv/++92Dj/LMmjXL/Zs5YsQIe+6551zX0MGDy58Y4rTTTrO77rorOAKSC0EEQUS1EUQkt3h/f2+//bZdcMEFlp+fH+QAQGqKUil69NFH7ZZbbgmODpeTk2NPPvmkff/737c9e/YEuYfTgp4V3Y/46f+yBQsW1GgiFC0u269fv5RZC0qtYJoZTN3Fa1OU7wtjIoA0pFma9CStNuc7X7lyJUEKgKRy880325///Gdr1KiRO27durUNHz7cbrrpJrvuuutc3ve+9z13rHydF12v+2oSQGghVFWe/VbTST/8Q6VEUXmVTZhSHaoYx35OVf61OGw6zqSoSWmSqZscQQSQprSCdW365JNP3CBEAEgmF198sS1btszOOuss27p1q1tgrkGDBnbuuee680p1rHyd13W6XvdVlyrnXbt2dU/f1ZKs7e677w7O1g16T4mu2Gt8SWxLgSZGSZXWg6hmz56dVBPAEEQAaUrjIWJXEk8U3wKRm5vrUgBIJl/+8pdt0aJFrjJbWFhokyZNsu3bt7tzSnWsfJ3Xdbq+JqZNm+ZmEAxX0lXB9sItFOEn1f7Yn/MtBdr3qZ9y3V+jTU/7PR3HlqEWAu0r9bSv1hIp7x5Rq4LP89d44et9ubHTwVd0rz/258L3hPn3rS0stpXHf47w+9V78cLl+PcRfn1tnvLD58LlSPgeX5bE/qxEvxffMhN+z+EyYz9L7OsdTQQRQBrTAGuNj0g0BQ9f+9rXgiMASD7Z2dk2cuRIt9+5c2dr2bKl/f73v3epjuXaa69119WU+rqfd955wdHhVKFV9x7fQqHp1GO7AClf14wfP/7QsU/1dFvBib9f25QpUw5VpEVdW5WvQOb888935ehYrx37WmG6Jvy6Cqr8a/ip30WV/t/85jeHzoUDJK86nzNMFfCLLrrIXaPX1mf01Mrjy9U5XSdq7dGx8vVzEpVzww03HLpeLQN6H+H3r5+T3q+n9+rP6bP5IKeiz6Sfvdau8vnaYuk9+nv1d6j3KRoTEb4v/HpHG0EEkMb0H4cGAiaaujG1b98+OAKA5KTKvXTv3t09RdaxUh3LnDlzXFpbfEU/3L1HFdh169YFR2XTz0rv3r3LrZx7emLtn17HUhciUSAzcODAQ6934YUXHvZaYRW9rirOeg1V3L3Fixe7inlFEvE59bvROBXxi86Kr2D7z6735SvkqqjrOBxQqRy/iK43f/78wwIXvRdfhui9eipzw4YNlX6mpUuXHnp/5dG9Kt/fqzT881Sg4z9P+H0cbQQRQBpTlyb169XUhYnEgGoAqcAHERrzsGLFCsvKynKpKoHiz9eUKt6qaNcW343GP70OV0gTKdwaoK2u0Of17yn83hQ8aV/vOdyyUJepJUN/d/5zKOg7VggigDSmGZq0gnWiZ2lavny5exIDAMnq448/PrRuhMZB6Kn8kiVLXJqXl+fydb6yp//xUrcadXUJPxFXy4GfzjPcrUfXVdT1KVa4PF+WnszX5tNrP9Yu/J47duzougNVpKafUxQIaGyJ6HP77kzqyqXPW1mXH/0O/c9EwcSLL77o9j1NFRse6K6grKrKe2WfSS314e5WsXSvAh9/r9Lw78wHPPqctd0aVhmCCCDN/fCHP3RTvibS7t27rXnz5sERACSfcCvD9ddfb/PmzXNjvZTq2EtEJU4VXfV/V8XRd1Px4zH0PtR/3ufrunhmSVJ3GZWnYETdb1Rp1f0a81BbT69//OMfu4qyXkeVbt/ioe44quT7z1DeU//qfk5PrQr+M+q1wl2MNOuVPrcv2w9G9sfa/PUaG+E/gzYFDLHvXwGRH0NRmYo+kza9ns/XFmvq1KmH7lV3Kv8703tR0KN8/XyPZUsEi83hMP4POQX/LNJCdX9/vjuTWiZqav/+/e4/2YpWcwWAoynK4llh3/zmN+2VV16xBx54wO64444g999+8Ytf2J133umuU7dQIBWw2ByASO677z731CMRNKiaAAJAMjtw4IC98cYb9sILL5QbQIjydf7111931wPphpYIHKautESoqVH9Tv1sDHWV+liqibSufI2q+/vTmIivfvWrDIiOw/urt9g/VqyzJSs+tc3bdtn2HYUuv2WzHGvbqrGde8ZJdk7Pk+yULse7fADHVnVaItRVpU2bNu7fxar861//si1bthzqIgMkM1oiAESigXDaEjFLkwZV6z/UVKNg4b7Jc2342On26HOLbNm7G2z95p1WuLfIbdpX3iPPLrLht09z1/oAA0ByUUAQTwAhuo4AAumIICIiPYV86uVldv29L9ol//W0nTfi127TvvJ+N3OZvb/m8+Dq1KBZAVq0aOE2zQSgWSr8HMUaHBWe/eFYSpb3qfel/3D0vv7f//t/Lu9///d/3XtUnp+K72jT07REjInQoOqioqLgKDW8MHulXXrzVJs57z133LBxa2tyfDdrcWIPa9Wxl9u0rzydE1176U1T7flZK9wxAACphCAiTun6FFIVc80KoKnu1NXlqaeesnvuucfNwKCVjjXlWOxUaMdCsrxPUQChWRnuuusuu//++917X79+vZtt4Tvf+Y6bFeJYSURLhH7+qTQz0x2/mmX3P/m6FRTutwa5pUHqiadb45adrEFOc8vMbmAZ9TLdpn3l6Zyu0bUFe/bbA799w5UBAEAqIYiIQzo/hdRUYn4lS3n++eddxVxzGNelFYmT5X2KFi3q2bOn21dl+5133rEf/OAH7thPh3esJGKAtaZAzM3NDY6S2zOvLrfZCz+0eplZ1qR1V7dlZjcMzlZM1/jr69XLcmWoLAAAUgVBRBV4ClnmzTffdKmWffcLqHzwwQcujbIYTHnUhSd207zb4Xma/VZVV5/afJ967dj3o0HVEpuvrSqaP1pdr37+858HOWb//Oc/j+mczwpu/ud//ic4qp66FrRV1/IPNtqkqfPdfqMWpd/50u90VLqnUcuT3L7KUpkAAKQCgohK8BTy3xYtWuTSAQMGuFT8Ev2xi8Goz79fnCUemkkodlNFWl1+YvOrmq0p3ve5YsUKN15ClXhV+NXFqKoxE3rt2PejBWwkNl9bZfQzeuutt1z3pTAFT5qVytN70vv04yWUPvHEE8HZxPvWt77l5juvzgrW//jHP+zvf/+7FRQUBDnJbfzj81ya0/SE0mCg+t2zFEjkNG3r9n2ZAAAkO4KICvAU8nB6Qn7mmWday5YtgxyzP/7xj0c8NVcFd8SIEW41x0T0r48q3vepVg49dc/Ly3NjJpYuXWq//OUvg7O1z7eO9Onz76mINbhawi0mmzZtct2f1GqhwERBx4033lhrg8Q1sPqTTz5xMzVF9fLLL7uuWakwM9PcxR/bmg15lt2gkeU2r3nLSm7zDq4slamyARw9mZllVZ2i4hKXAiif/47470xVCCIqwFPIw+kJuZZ8D9OT9PBTczn11FPd/No33HBDkHN0xfs+9R79OAQFE71793YBxdHiW0fOPvtsl8q7777r0nCLifYVRPiuWT7oaNq0qUtrQ3UCCFEQoQBCi80lu3lvrnJpTb77sXxZvmwAR8fxzcvGaG3LZ8ploDL+O+K/M1UhiCgHTyEPpwXV5PTTT3ephJ+E67yfqjS2a9PRFOV9hqlrkVoirrnmmiCn9mmFUw2iDreY+C5Efmra2NYGtVQ88sgj9pe//OWw+2rDZZddFqlLk2bG0vvdunWrmyEr2X20dqtLsxsmLljzZfmyARwdrYIK0da83S4FUD7/HfHfmaoQRJSDp5CH80/N9bTe05NxdRtSt6Bp06bZj370o+DMsVPd96mpYDV+4xvf+EaQU/vKazH5z//8T5eqdUL7vvVBNB7i4osvdvtNmjRxaW1Sa4TGRsRr5syZLlV3tpoOzK4Ltmwv+4c0MytxrSq+LF82gKOjdYtGLl27iRX5gcr474j/zlSFIKIcPIU8nB9QHK7UirrZKF9Tqyb6ybi6G1U1iDpWdd6nnvhLeHrYKNTyorKj8u8nTEGM8rVeRGxAo/xt27a5z6YZoWprTIR36623uule46WuTF54P+nFMcsWgLrtnB4dXLpg+ScuBVC++f8s+47470xVCCLKwVPI9FDTAOJoULDgAwYFQD/72c/cvgZc1ya1RLzxxhvBUeXUNWvdunV2wgknuE0L5ykvmbVpWfYUpqR4n0sToaR4v0t92QCOjn5nlj1Ymv/WJ1Zy4IDbB3C4kgMHbUEQRPjvTFUIIirDU8hqUZ9+VSL1RF37dZFWiVYLhQ8g9D7jnZL2aNIq25qRyf8ctRK3tGvXzqW16Ywzzgj2KudbHs466yy3yUsvveTSZHVyp7JFI4v27HRpIhTtLSvLlw3g6GjbqrH1OLmt7dtfbC+99k6QCyDspddWuu+Iviv6zsSDIKIcPIWsPq230KpVK9fnf/Xq1W5feXWNWiE0a5NfGE7v81hMSVsVTU2rivmXvvQl9z41Xa0GVsd22aotP/nJT4K9ipUXRPgxEsmq/9ndXLqvIHF9qH1ZvmwAR8/wi7/q0qdefssOHIjeBRVIZfpO6Lsh/rsSj4yD1enQXccNGLPI5k769/z7UWmFaS0Q16hFBzuuSdn0rDW154vNtjtvvQ3q291+cdvgILfuUUVVUvDPIi0k4venaVrnzp3r9h966CH72te+dmhl7lhaF0ILC2qVai0OKHfccYfr0qQxKuGZsiqjxQHbtGkTHNUNl9/6BzejmqZo1gxrNVGQv8EKd35mndu3sJkPH71ZwAD82/X3vmTL3l1vZ/foYE/ce0WQC+AHP3nJ3nxnvZ11Wgd78r74vxsEEeXQNKy3T/qLm5a12QlfCXJrZsdnH1jRvt324JiLbcB5Xwpy6x6CiOSWqN+fFuC75ZZbDq3IXZXLL7/crrii7B8edWWKd3C1ghNNWxtv16mjSYtDXnf3H92+Vp+vzoKTohaIL7aWzcr2u/Hftl5fOdHtAzi6lqz41G78aVkr6QO3DbbBfbu7fSCdzVr4od35q1lu//H/vszO6Vm2SHI8CCIqkK5PIQkikluif38jR4603//+926/cePGrhtVo0ZHdsnTlLQdO3Z0+xpk/ec//9nth+3evdsNEt+1a5c71tS6P/3pT91+XfXMq8vdavP16mW51eejBhL7CvJs9/ZP7cCBYhszsp9dfUmv4AyAY+HpmW/Zw88udCvy3nNjf/vWhacGZ4D086fX37OfPT7PSkoO2K1X9bVrLzszOBMfgogKpOtTSIKI5JbI359aI7To3HXXXWcvvPDCoRW1hw0bdmhNi3gpqJg+fbrbP+2001zrwwUXXOCO66r9+/e7oGfeondtV2kANGP+DvfvQG6zEy0zu2FwVflKivZawY6NLoiQut6NEUgnqjS9NPcdF0iMv2UgLRJIS2qBuPuROS6AuPw/TrP/HvUfwZn4EURUIh2fQsZWQv0x6qbYr28igwgFEN/85jdda8SBAwfc2hGPPfaYO9ezZ0/77ne/W+U4Bo2v+MMf/uACErnpppvs4YcfLv1O1a05HRQw5Ofnu00tLRrjobwlS5a4/aXvb7VHn/+nFRSWTZDQsHFrq39cU8vKzrF6mVku70BJsRUXFdr+PTtt766y9WByj6vvnu5cOaiHOwZQN/x0yl/t5b+WPRg5+/QONuW/Ly/9d4n/75D6NIh61M9etjdXrnfHVww43bXKVQdBRBX8IGtJh6eQtEQkt9r+/Wm8g4KJjRs3Wv369e2aa66psEVB60w888wztm/fPjclrVof/LiJY80HDT4IWrlypftMOu7cubM1b37kavXbdxTaY9MW2cx57wU5lbus/6l20/A+1rJZTpADoC7xXZukTcvG9r3Lz7QrLuphmQQTSEFaI0VTHGsWpi3by7oVV6cLUxhBRByen7XCHimtPKTDU0iCiORW09/f2rVr3UrVTz/9dJBzJK1ZoYHU8+fPd2Mk/AJ4sTTmQd2B+vXr5wZaJ3pV8+qaNWuWCyLU4tCrV69yA4bKvL/mczdA8x9vf2qbt+1ywYUoWNDc2hqUdm7PjnZK17o12xSAI+m7rEqVZm2SBvWz7PyvdbZ+pVunds2tdYtG1qp5jmVnZbrzQDIoKi6xbfmFtjVvt63dlO9Wa9dii1oHQjQL0/cuP6v0/6uysYzVRRARp3R5CkkQkdxq8vvTOhlqVVAXpqrWh7j66qvt2WefdQvhXXrppUHu4V555RV7/vnn7aqrrnItEkebWho+/PBDlypo0OeSgoICy87Odi0pACDqcTDtL/+ylR9tDnKA1KOF5LQOhHrIJAJBRESp/hSSICK51eT3pzEQGutQVQBRUlJiTZo0scLCQps0aZK1bdvWvZ7GPoi6OOl9bN682caMGWM5OTn2xRdfWGZm7T3J09gLBQvqktS9e/dDYxrUEqIuSlFbGwCkJ/2/Pv+tNbZk5Xr3FHdbfoF9Xrpp8CmQLDRpwPHNc61V6abWtHN6dLB+Z3aJeyXqeBFE4DAEEcntaPz+tGr2lVde6VbRVsDx/vvvuwBCC8xJhw4dXCBxyimnuPMff/yxm93p29/+tjtfU348gwKHHj3KugpqTENxcbE1a9bMBQ25ubkuHwAA1I66NUUKUAtmzJhhQ4cOtRYtWrhKdrdu3dwqyyjrwnTbbbcFR/HR4Grp3bu32//5z3/uAghN3apN+8rTOV0j8S4+Vx4FDeqC5Pc1psFPN+spmND4Bo3RIIAAAKD2EUQgpSlY0LoG6uufl5dn27Zts4suusjGjRuX9oGEAohrr702OIrP3r17DwUEmv7U799xxx32zjvvuE37onO6RhRQ6N4oNmzY4AIGja3Q2AbROIbBgwdb//79D7VCAACAo48gAinvzDPPtB/84AduXzME/fjHP3b7r7/+ukvT1dSpU61Tp0527733BjlVU2BQVFTk9levXu26NKmi/8ADD7g80f7s2bPt5JNPdteI7qmsNeL//u//XMChstRVSTSO4ZxzznEDt9XK4DEgGgCAY48gAilt7NixtmzZsuCoTNOmTV2q/vPp7Ic//KELIKL8HMKBwA033OBaHgYNGhTk/NvAgQPdOAVd4+ledUfSWAad0+Yp//jjj3dBgx8ErW5J2idoAACg7iGIQNp56qmnXHrnnXe6NJ2oC5MGOyuVKAHErl27XCDQunVrmzZtmj3xxBPWoEGD4OyRdE7X6Frdo3s3bdrkxjNoEHR4tWt1TdJ4BmZRAgAgORBEIG2sWLHCRo8ebb/5zW9swYIFbjrTdKNB1H//+9+Do2gUBAwZMsT9HDXOJF66VvfoXr22xjOoe1I4iAAAAMmFIAJpQV1uzjjjDJsyZYobI6F1C9LN3/72N3v77bdt5syZ1erKlZWVZT/60Y/shBNOCHLip3s0zavKAAAAyY8gAmlBA321doIq0Rrse/HFF7upX9PJ17/+dXvjjTeqPRbk3HPPdWMXamLEiBHBHgAASGYEEUgr6sKkgELuvvtul6Y6zcKk4EmqG0AoeNA0q1oNGgAAgCACaUfTvGr2ID/9aCp76KGH7OGHH3ZTudaEZkhiHAMAAPAIIpDSNBZCg6ljLV261I2NSGVr16613//+99UeAxGLAAIAAHgEEUh5GkytqUZl+/btLqjQgmb33Xefy0tVan3417/+VeNWCK3nsGbNmuAIAACAIAIpbsKECTZq1Ch78MEHLSMjw1q1amV5eXluitdvfOMbwVWpR+MgEkFjIT766CPWbwAAAIfJOKgpa1LMgDGLbO6kPsERolBFW1LwzyIt+N+fWiA0pW1NqRWisLDQrSQNAADgEUTgML4SiuSWyK91QUGB5ebmBkcAAAB0ZwJQBQIIAAAQiyACh9ETbLbk32pKrQ/z58+v8eJyAAAgNRFEADiC1tDQtLBaHwIAACAWYyIAHEatD7NmzbLBgwcTRMRB/94g+fF/BgBEQ0sEgMMocCCAAAAAlaElAgBqwLdE8G9OcuL3BwDVQ0sEgEOWLFliW7ZsCY4AAADKRxABwMnPz7cNGzawOjUAAKgSQQQA55NPPrGTTz6ZsRAAAKBKBBEAnF69etmXv/zl4AgAAKBiBBEADqEVAgAAxIMgAkhzGgehdSEAAADiRRABpLkPP/zQunfvHhwBAABUjSACSGOakUkrVLdv3z7IAQAAqBpBBJDGNJ1r//79GQsBAAAiIYgA0lRBQYFLCSBwtC1cuNAyMjIObd26dQvOAACSBUEEkKbmz5/vujMBR9v5559vq1evtoMHD7pN+4MGDQrOAgCSAUEEkIY0I5NaIFidGseCAocuXboER2YTJkywOXPmBEcAgGRAEAGkuPdXb7GnXl5m19/7ol3yX0/beSN+bVP/OM+m/XW9y/vdzGX2/prPg6txNIW79IwePTrINde9Z8aMGS7VuYkTJwZnzO1XdJ/oWFv4Ov+UX/k+L1ymV1XZvhuS3ltF/HvXa/pyynutsI4dOwZ7AIBkQRABpKjtOwrtvslzbfjY6fboc4ts2bsbbP3mnVa4t8heXJhv//xoh8t75NlFNvz2ae5a3YOjQ5VrPYH3XXrWrFnjKunesGHDbPz48e7c2LFjXZ4q9ePGjTt0j7YpU6YcUdlX3tq1a915dRXSU369XqdOnVze9OnTXTnh14u37HjovY8cOdKVsWDBgiNeK9bUqVNt4MCBwREAIBkQRAAp6IXZK+3Sm6fazHnvueOGjVtbk+O7WYsTe1irjr3cpn3l6Zzo2ktvmmrPz1rhjlF7/JN5HxzI7NmzrW/fvsGR2ahRo2zo0KHBURlV6hUAhOlY+QpCPFXIJ0+e7PbVbUjHKs+/ni9X3dq8eMrW+1NgEPu+Yik48tfonq5du9rixYvdcSwFFwpyFHQAAJIHQQSQYu741Sy7/8nXraBwvzXIbVEaLJxujVt2sgY5zS0zu4Fl1Mt0m/aVp3O6RtcW7NlvD/z2DVcGao9aCap68q5WgzD/JL93794u9fzxpk2bXBrFunXrXFobZcfSZy6PBlmXFzABAOo2gggghTzz6nKbvfBDq5eZZU1ad3VbZnbD4GzFdI2/vl69LFeGygJqk8ZPqJXCt5oAAJIHQQSQIpZ/sNEmTZ3v9hu16ORaFqLSPY1anuT2VZbKROKplSHqbETt2rVz6dKlS13q+eNwV6ioarPsivjB3qtWrXIpACC5EEQAKWL84/NcmtP0hNJgoPpTtyqQyGna1u37MpFYQ4YMcWl41iJVqisbfKyxDer2o0HLYTrWGISaiLdsvb+qZmeKhwZrK4gigACA5EUQAaSAuYs/tjUb8iy7QSPLbd4+yK2+3OYdXFkqU2UjsVRp16xJmrXIT4OqvKqe+Kvbjyr7/h5tquSHB2hXV22WHaZB2hqsLeHX0ladmaAAAMdGxkFNtZFiBoxZZHMn9QmOgNSngdAax9CoRQc7rklZK0JN7flis+3OW2+D+na3X9w2OMhFLP17I/ybk5z4/QFA9dASAaSAj9ZudWl2w6YuTQRfli8bAADAI4gAUsCW7btdmplV36WJ4MvyZQMAAHgEEUAqycgIdgAAAGoPQQSQAtq0bOTSkuJ9Lk2EkuL9LvVlAwAAeAQRKeT91VvsqZeX2fX3vmiX/NfTdt6IX7tN+8r73cxl9v6az4OrkUpO7tTapUV7dro0EYr2lpXlywYAAPAIIlLA9h2Fdt/kuTZ87HR79LlFtuzdDbZ+804r3FvkNu0r75FnF9nw26e5a3UPUkf/s7u5dF9BvksTwZflywYAAPAIIpLcC7NX2qU3T7WZ895zxw0bt7Ymx3ezFif2sFYde7lN+8rTOdG1l9401Z6ftcIdI/kNOO9L1qV9Cyvat9sK8tcHudVXkL/BldW5tEyVDQAAEEYQkcS0NsD9T75uBYX73SrDLU483Rq37GQNcppbZnYDy6iX6TbtK0/ndI2uLdiz3x747RuuDKSGu2/s79LCnZtr1CKhewt3fub27wnKBAAACCOISFLPvLrcLS5WLzPLmrTu6rbM7IbB2YrpGn99vXpZrgyVheTX6ysn2piR/dz+7u1rS4OBPLcfhe7RvaKyVCYAAEAsVqxOQss/2GjX3f1Ht9+kdTdrkNvc7UelCuMXW1e7/d+N/zYVxhThV68WtTrlNjuxygCzpGivFezYeCjwYJXq+PkVj5HcWLEaAKKhJSIJjX98nktzmp5Q7QBCVMHMadrW7fsykfxU+b/z+xdYbk59FxTkbXzHdqllojC/NFjYZwcPlLhN+8rTOV2ja3OPq293XX8hAQQAAKgULRFJZu7ij+32SX+x7AaNrNkJXwlya2bHZx+4QbQPjrmYQbQpRDNwPTZt0aFB91W5rP+pdtPwPtayWU6QAwAAUD6CiCTju6o0atHBjmtS1opQU3u+2Gy789bThSVFaW2QJSs+tX+8/alt3rbr0PS+Chbatmps5/Q8yc7t2dFO6drG5QMAAFSFICLJXH7rH2zNhjxr3u40y6p/XJBbM8X791j+pnfdFKEvP3xNkAsAAACUjzERSWbL9t0uzcyq79JE8GX5sgEAAIDK0BKRZPpcNdmt8dDqpK9ZRkZiYkANst22brkbVLvo2dEujxlnUgMzzgAAgNpAS0SSadOykUtLive5NBFKive71JcNAAAAVIaWiCRztAZW+5YInmQnJ35/AACgNtESkWT6n93NpfsK8l2aCL4sXzYAAABQGYKIJKN1HDSLktZ1KMhfH+RWX0H+BldW59IyWSMCAAAA8SCISEJ339jfpYU7N7tVhqtLLRCFOz9z+/cEZQIAAABVIYhIQr2+cqKNGdnP7e/e/mm1Agnds3v7WrevslQmAAAAEA+CiCR19SW93EDoAweK7Yutq91WUrQ3OFsxXeOv170qQ2UBAAAA8SKISGKaSenO719guTn1XctC3sZ3bNf2tbavML80WNjn1n/Qpn3l6Zyu0bVaE+Ku6y88NBsTAAAAEC+CiCT3ncE97ZVHR9pl/U91x3t3bbUvPl9VGiysdAvIadO+8nROdO0rj420Kwf1cMcAAABAFAQRKaBlsxy7d/QAm/bgcLvlqj521mntrUPbppbTMNtt2lfezSP62LSJw9y1ugcAAACoDhabQ7lYrCy6hQsX2vnnnx8clTlWXy9+fwAAoDbREgEkyMiRI2316tUucNDWtWtXGzRoUHAWAAAgdRBEAAmyatUq69KlS3BkdsMNN9icOXOCIwAAgNRBEIGEy8jIOLSNHj06yDXr1q2bzZgxw6U6N3HixOCMuf2K7hMdawtf55/yK9/nhcv0qipb3ZCUr/dWEf/e9Zq+nPJeK2zt2rWuNQIAACDVEEQgoVS5njBhwqEuPWvWrHGVdG/YsGE2fvx4d27s2LEuT5X6cePGHbpH25QpU46o7CtPFXOdV7chPeXX63Xq1MnlTZ8+3ZUTfr14y46H3ru6LKmMBQsWHPFaYcrX66g1AgAAINUQRCBh/JN5HxzI7NmzrW/fvsGR2ahRo2zo0KHBURlVthUAhOlY+QpCvIEDB9rkyZPdvroN6Vjl+dfz5W7YsMGlEk/Zen8KDGLfVywFR/4a3aNWhsWLF7tjUXm+lUIDrMPvDQAAIJUQRCBh1Eqgin1l1GoQ5p/k9+7d26WeP960aZNLo1i3bp1La6PsWPrMngKbcIuHDyoAAABSDUEEUEvUCiNVjZ0AAABINgQRSBi1MkSdjahdu3YuXbp0qUs9fxzuChVVbZYNAACQzggikDBDhgxxafjJu2YzqmjwsagLkMYOaNBymI41BqEm4i1b70/djiqbnakqKkMzOIX5wduMiwAAAKmGIAIJo0q7Zk3SrEV+gLHyqnrir8HSquz7e7Spkp+Iyndtlh2mz3jRRRcd9joavK2xEQAAAKkmo7SSk3K1nAFjFtncSX2CI1SHfobCzzE58fsDAAC1iZYIAAAAAJEQRAAAAACIhCACAAAAQCQEEQAAAAAiIYgAAAAAEAlBBAAAAIBICCIAAAAAREIQAQAAACASgggAAAAAkbBiNcrlVzxGcuN7AAAAagMtEQAAAAAioSUCAAAAQCS0RAAAAACIhCACAAAAQCQEEQAAAAAiIYgAAAAAEAlBBAAAAIBICCIAAAAAREIQAQAAACASgggAAAAAkRBEAAAAAIiEIAIAAABAJAQRAAAAACIhiAAAAAAQCUEEAAAAgEgIIgAAAABEQhABAAAAIBKCCAAAAACREEQAAAAAiIQgAgAAAEAkBBEAAAAAIiGIAAAAABBJxn/8aOHBYB8AAAClrr6og10zsGNwBCBWxsFSwX7KGDBmkc2d1Cc4AgAAAJBIdGcCAAAAEAlBBAAAAIBICCIAAAAAREIQAQAAACASgggAAAAAkRBEAAAAAIiEIAIAAABAJAQRAAAAACIhiAAAAAAQCUEEAAAAgEgIIgAAAABEQhABAAAAIBKCCAAAAACREEQAAAAAiIQgAgAAAEAkBBEAAAAAIiGIAAAAABAJQQQAAACASAgiAAAAAERCEAEAAAAgEoIIAAAAAJEQRAAAAACIhCACAAAAQCQEEQAAAAAiIYgAAAAAEAlBBAAAAIBICCIAAAAAREIQAQAAACASgggAAAAAkRBEAAAAAIiEIAIAAABAJAQRAAAAACIhiAAAAAAQCUEEAAAAgEgIIgAAAABEQhABAAAAIBKCCAAAAACREEQAAAAAiIQgAgAAAEAkBBEAAAAAIiGIAAAAABAJQQQAAACASAgiAAAAAERCEAEAAAAgEoIIAAAAAJEQRAAAAACIhCACAAAAQCQEEQAAAAAiIYgAAAAAEAlBBAAAAIBICCIAAAAAREIQAQAAACASgggAAAAAkRBEAAAAAIiEIAIAAABAJAQRAAAAACIhiAAAAAAQCUEEAAAAgEgIIgAAAABEQhABAAAAIBKCCAAAAACREEQAAAAAiIQgAgAAAEAkBBEAAAAAIiGIAAAAABAJQQQAAACASAgiAAAAAERCEAEAAAAgEoIIAAAAAJEQRAAAAACIwOz/A54VhdpDV3MuAAAAAElFTkSuQmCC)"
      ],
      "metadata": {
        "id": "F9LAPJ2fK5lY"
      }
    },
    {
      "cell_type": "code",
      "source": [
        "############################################################################################\n",
        "# Modelos i de input: LONG + LAT + {i_desconocida} = KNN de LONG + LAT + {i_conocida}\n",
        "############################################################################################\n",
        "\n",
        "# Función interna para hacer input para casteo numérico y KNN:\n",
        "def mo_InputKNNContaminanteLongLat(column):\n",
        "  # Pipeline de datos:\n",
        "  proprocess = Pipeline(steps = [\n",
        "      ('ns', NumericStrategy()),\n",
        "      ('inputer', KNNImputer(n_neighbors=3)),\n",
        "  ])\n",
        "\n",
        "  # Transformación:\n",
        "  ct = ColumnTransformer(remainder='drop', transformers=[\n",
        "      ( 'preprocess', proprocess, [column]+['LONGITUD', 'LATITUD']),\n",
        "  ])\n",
        "\n",
        "  # Aplicar al conjunto de entenamiento y regresar el modelo listo para transformar:\n",
        "  ct.fit(X_train[[column]+['LONGITUD', 'LATITUD']])\n",
        "  return ct\n",
        "\n",
        "# Creemos los inputers basados en KNN:\n",
        "InputALC       = mo_InputKNNContaminanteLongLat('ALC_mg/L')\n",
        "InputCONDUCT   = mo_InputKNNContaminanteLongLat('CONDUCT_mS/cm')\n",
        "InputSDT       = mo_InputKNNContaminanteLongLat('SDT_M_mg/L')\n",
        "InputFLUORUROS = mo_InputKNNContaminanteLongLat('FLUORUROS_mg/L')\n",
        "InputDUR       = mo_InputKNNContaminanteLongLat('DUR_mg/L')\n",
        "InputCF        = mo_InputKNNContaminanteLongLat('COLI_FEC_NMP/100_mL')\n",
        "InputNNO3      = mo_InputKNNContaminanteLongLat('N_NO3_mg/L')\n",
        "InputAS        = mo_InputKNNContaminanteLongLat('AS_TOT_mg/L')\n",
        "InputCD        = mo_InputKNNContaminanteLongLat('CD_TOT_mg/L')\n",
        "InputCR        = mo_InputKNNContaminanteLongLat('CR_TOT_mg/L')\n",
        "InputHG        = mo_InputKNNContaminanteLongLat('HG_TOT_mg/L')\n",
        "InputPB        = mo_InputKNNContaminanteLongLat('PB_TOT_mg/L')\n",
        "InputMN        = mo_InputKNNContaminanteLongLat('MN_TOT_mg/L')\n",
        "InputFE        = mo_InputKNNContaminanteLongLat('FE_TOT_mg/L')\n",
        "\n",
        "# Regresmo además una forma de convertir un conjunto de datos de contaminantes en este output con input:\n",
        "def get_Contaminantes(user_df):\n",
        "  d = dict({ \n",
        "    'LONGITUD': user_df['LONGITUD'],\n",
        "    'LATITUD': user_df['LATITUD'],\n",
        "    'ALC_mg/L': InputALC.transform(user_df)[:,0],\n",
        "    'CONDUCT_mS/cm': InputCONDUCT.transform(user_df)[:,0],\n",
        "    'SDT_M_mg/L': InputSDT.transform(user_df)[:,0],\n",
        "    'FLUORUROS_mg/L': InputFLUORUROS.transform(user_df)[:,0],\n",
        "    'DUR_mg/L': InputDUR.transform(user_df)[:,0],\n",
        "    'COLI_FEC_NMP/100_mL': InputCF.transform(user_df)[:,0],\n",
        "    'N_NO3_mg/L': InputNNO3.transform(user_df)[:,0],\n",
        "    'AS_TOT_mg/L': InputAS.transform(user_df)[:,0],\n",
        "    'CD_TOT_mg/L': InputCD.transform(user_df)[:,0],\n",
        "    'CR_TOT_mg/L': InputCR.transform(user_df)[:,0],\n",
        "    'HG_TOT_mg/L': InputHG.transform(user_df)[:,0],\n",
        "    'PB_TOT_mg/L': InputPB.transform(user_df)[:,0],\n",
        "    'MN_TOT_mg/L': InputMN.transform(user_df)[:,0],\n",
        "    'FE_TOT_mg/L': InputFE.transform(user_df)[:,0],\n",
        "  })\n",
        "  return pd.DataFrame(d, columns=['LONGITUD', 'LATITUD'] + list(set([t[0] for t in tuplas_calidad])))"
      ],
      "metadata": {
        "id": "v4rJXem4kGgQ"
      },
      "execution_count": 14,
      "outputs": []
    },
    {
      "cell_type": "code",
      "source": [
        "# Lista de contaminantes\n",
        "col_contaminantes = ['LONGITUD', 'LATITUD'] + list(set([t[0] for t in tuplas_calidad]))\n",
        "# Contaminantes sin transformación:\n",
        "X_train[col_contaminantes].info()"
      ],
      "metadata": {
        "colab": {
          "base_uri": "https://localhost:8080/"
        },
        "id": "a89Ncng4Mb9i",
        "outputId": "a7ecd4d5-abb5-4558-eb12-2f1cb71364a0"
      },
      "execution_count": 15,
      "outputs": [
        {
          "output_type": "stream",
          "name": "stdout",
          "text": [
            "<class 'pandas.core.frame.DataFrame'>\n",
            "Int64Index: 854 entries, 905 to 942\n",
            "Data columns (total 16 columns):\n",
            " #   Column               Non-Null Count  Dtype  \n",
            "---  ------               --------------  -----  \n",
            " 0   LONGITUD             854 non-null    float64\n",
            " 1   LATITUD              854 non-null    float64\n",
            " 2   DUR_mg/L             853 non-null    object \n",
            " 3   HG_TOT_mg/L          854 non-null    object \n",
            " 4   FLUORUROS_mg/L       854 non-null    object \n",
            " 5   CD_TOT_mg/L          854 non-null    object \n",
            " 6   SDT_M_mg/L           852 non-null    object \n",
            " 7   CR_TOT_mg/L          854 non-null    object \n",
            " 8   MN_TOT_mg/L          854 non-null    object \n",
            " 9   FE_TOT_mg/L          854 non-null    object \n",
            " 10  N_NO3_mg/L           853 non-null    object \n",
            " 11  ALC_mg/L             852 non-null    float64\n",
            " 12  AS_TOT_mg/L          854 non-null    object \n",
            " 13  CONDUCT_mS/cm        849 non-null    float64\n",
            " 14  COLI_FEC_NMP/100_mL  854 non-null    object \n",
            " 15  PB_TOT_mg/L          854 non-null    object \n",
            "dtypes: float64(4), object(12)\n",
            "memory usage: 145.7+ KB\n"
          ]
        }
      ]
    },
    {
      "cell_type": "code",
      "source": [
        "# Contaminantes transofrmados:\n",
        "get_Contaminantes(X_test).info()"
      ],
      "metadata": {
        "colab": {
          "base_uri": "https://localhost:8080/"
        },
        "id": "yQbnJ3jIfE_d",
        "outputId": "109ad83b-be78-4a3b-d67a-a7b9617254a0"
      },
      "execution_count": 16,
      "outputs": [
        {
          "output_type": "stream",
          "name": "stdout",
          "text": [
            "<class 'pandas.core.frame.DataFrame'>\n",
            "Int64Index: 214 entries, 139 to 449\n",
            "Data columns (total 16 columns):\n",
            " #   Column               Non-Null Count  Dtype  \n",
            "---  ------               --------------  -----  \n",
            " 0   LONGITUD             214 non-null    float64\n",
            " 1   LATITUD              214 non-null    float64\n",
            " 2   DUR_mg/L             214 non-null    float64\n",
            " 3   HG_TOT_mg/L          214 non-null    float64\n",
            " 4   FLUORUROS_mg/L       214 non-null    float64\n",
            " 5   CD_TOT_mg/L          214 non-null    float64\n",
            " 6   SDT_M_mg/L           214 non-null    float64\n",
            " 7   CR_TOT_mg/L          214 non-null    float64\n",
            " 8   MN_TOT_mg/L          214 non-null    float64\n",
            " 9   FE_TOT_mg/L          214 non-null    float64\n",
            " 10  N_NO3_mg/L           214 non-null    float64\n",
            " 11  ALC_mg/L             214 non-null    float64\n",
            " 12  AS_TOT_mg/L          214 non-null    float64\n",
            " 13  CONDUCT_mS/cm        214 non-null    float64\n",
            " 14  COLI_FEC_NMP/100_mL  214 non-null    float64\n",
            " 15  PB_TOT_mg/L          214 non-null    float64\n",
            "dtypes: float64(16)\n",
            "memory usage: 36.5 KB\n"
          ]
        }
      ]
    },
    {
      "cell_type": "markdown",
      "source": [
        "### Modelos de mediciones a cumple"
      ],
      "metadata": {
        "id": "AXbsOLWthoi9"
      }
    },
    {
      "cell_type": "markdown",
      "source": [
        "Utilizando nuestro input crearemos un módelo que regrese si las variables cumplen o no"
      ],
      "metadata": {
        "id": "_ufJOfKnPm-b"
      }
    },
    {
      "cell_type": "code",
      "source": [
        "############################################################################################\n",
        "# Modelos i de input: LONG + LAT + {i_desconocida} = KNN de LONG + LAT + {i_conocida}\n",
        "############################################################################################\n",
        "\n",
        "def mo_Cumple(contaminante, cumple):\n",
        "    # Formemos X y y\n",
        "    Xtr = get_Contaminantes(X_train)[[contaminante]]\n",
        "    ytr = X_train[cumple]\n",
        "\n",
        "    # Y las etiquetas las modificaremos con LabelEncoder():\n",
        "    le = LabelEncoder()\n",
        "    le.fit(ytr)\n",
        "\n",
        "    # Random forest:\n",
        "    mo = RandomForestClassifier()\n",
        "\n",
        "    # Entrenamos el modelo:\n",
        "    mo.fit( Xtr, le.transform(ytr))\n",
        "    # Entrenamos el modelo:\n",
        "    return mo, le.classes_\n",
        "\n",
        "# Creemos los módelos y etiquetas:\n",
        "mo_ALC       , lbl_ALC       = mo_Cumple('ALC_mg/L', 'CUMPLE_CON_ALC')\n",
        "mo_CONDUCT   , lbl_CONDUCT   = mo_Cumple('CONDUCT_mS/cm', 'CUMPLE_CON_COND')\n",
        "mo_SDT_ra    , lbl_SDT_ra    = mo_Cumple('SDT_M_mg/L', 'CUMPLE_CON_SDT_ra')\n",
        "mo_SDT_salin , lbl_SDT_salin = mo_Cumple('SDT_M_mg/L', 'CUMPLE_CON_SDT_salin')\n",
        "mo_FLUORUROS , lbl_FLUORUROS = mo_Cumple('FLUORUROS_mg/L', 'CUMPLE_CON_FLUO')\n",
        "mo_DUR       , lbl_DUR       = mo_Cumple('DUR_mg/L', 'CUMPLE_CON_DUR')\n",
        "mo_CF        , lbl_CF        = mo_Cumple('COLI_FEC_NMP/100_mL', 'CUMPLE_CON_CF')\n",
        "mo_NNO3      , lbl_NNO3      = mo_Cumple('N_NO3_mg/L', 'CUMPLE_CON_NO3')\n",
        "mo_AS        , lbl_AS        = mo_Cumple('AS_TOT_mg/L', 'CUMPLE_CON_AS')\n",
        "mo_CD        , lbl_CD        = mo_Cumple('CD_TOT_mg/L', 'CUMPLE_CON_CD')\n",
        "mo_CR        , lbl_CR        = mo_Cumple('CR_TOT_mg/L', 'CUMPLE_CON_CR')\n",
        "mo_HG        , lbl_HG        = mo_Cumple('HG_TOT_mg/L', 'CUMPLE_CON_HG')\n",
        "mo_PB        , lbl_PB        = mo_Cumple('PB_TOT_mg/L', 'CUMPLE_CON_PB')\n",
        "mo_MN        , lbl_MN        = mo_Cumple('MN_TOT_mg/L', 'CUMPLE_CON_MN')\n",
        "mo_FE        , lbl_FE        = mo_Cumple('FE_TOT_mg/L', 'CUMPLE_CON_FE')\n",
        "\n"
      ],
      "metadata": {
        "id": "RJu6cgS4ikcU"
      },
      "execution_count": 17,
      "outputs": []
    },
    {
      "cell_type": "code",
      "source": [
        "def get_Cumple(user_df):\n",
        "  d = dict({ \n",
        "    'CUMPLE_CON_ALC': [lbl_ALC[v] for v in mo_ALC.predict((get_Contaminantes(user_df)[['LONGITUD', 'LATITUD', 'ALC_mg/L']])[['ALC_mg/L']])],\n",
        "    'CUMPLE_CON_COND': [lbl_CONDUCT[v] for v in mo_CONDUCT.predict((get_Contaminantes(user_df)[['LONGITUD', 'LATITUD', 'CONDUCT_mS/cm']])[['CONDUCT_mS/cm']])],\n",
        "    'CUMPLE_CON_SDT_ra': [lbl_SDT_ra[v] for v in mo_SDT_ra.predict((get_Contaminantes(user_df)[['LONGITUD', 'LATITUD', 'SDT_M_mg/L']])[['SDT_M_mg/L']])],\n",
        "    'CUMPLE_CON_SDT_salin': [lbl_SDT_salin[v] for v in mo_SDT_salin.predict((get_Contaminantes(user_df)[['LONGITUD', 'LATITUD', 'SDT_M_mg/L']])[['SDT_M_mg/L']])],\n",
        "    'CUMPLE_CON_FLUO': [lbl_FLUORUROS[v] for v in mo_FLUORUROS.predict((get_Contaminantes(user_df)[['LONGITUD', 'LATITUD', 'FLUORUROS_mg/L']])[['FLUORUROS_mg/L']])],\n",
        "    'CUMPLE_CON_DUR': [lbl_DUR[v] for v in mo_DUR.predict((get_Contaminantes(user_df)[['LONGITUD', 'LATITUD', 'DUR_mg/L']])[['DUR_mg/L']])],\n",
        "    'CUMPLE_CON_CF': [lbl_CF[v] for v in mo_CF.predict((get_Contaminantes(user_df)[['LONGITUD', 'LATITUD', 'COLI_FEC_NMP/100_mL']])[['COLI_FEC_NMP/100_mL']])],\n",
        "    'CUMPLE_CON_NO3': [lbl_NNO3[v] for v in mo_NNO3.predict((get_Contaminantes(user_df)[['LONGITUD', 'LATITUD', 'N_NO3_mg/L']])[['N_NO3_mg/L']])],\n",
        "    'CUMPLE_CON_AS': [lbl_AS[v] for v in mo_AS.predict((get_Contaminantes(user_df)[['LONGITUD', 'LATITUD', 'AS_TOT_mg/L']])[['AS_TOT_mg/L']])],\n",
        "    'CUMPLE_CON_CD': [lbl_CD[v] for v in mo_CD.predict((get_Contaminantes(user_df)[['LONGITUD', 'LATITUD', 'CD_TOT_mg/L']])[['CD_TOT_mg/L']])],\n",
        "    'CUMPLE_CON_CR': [lbl_CR[v] for v in mo_CR.predict((get_Contaminantes(user_df)[['LONGITUD', 'LATITUD', 'CR_TOT_mg/L']])[['CR_TOT_mg/L']])],\n",
        "    'CUMPLE_CON_HG': [lbl_HG[v] for v in mo_HG.predict((get_Contaminantes(user_df)[['LONGITUD', 'LATITUD', 'HG_TOT_mg/L']])[['HG_TOT_mg/L']])],\n",
        "    'CUMPLE_CON_PB': [lbl_PB[v] for v in mo_PB.predict((get_Contaminantes(user_df)[['LONGITUD', 'LATITUD', 'PB_TOT_mg/L']])[['PB_TOT_mg/L']])],\n",
        "    'CUMPLE_CON_MN': [lbl_MN[v] for v in mo_MN.predict((get_Contaminantes(user_df)[['LONGITUD', 'LATITUD', 'MN_TOT_mg/L']])[['MN_TOT_mg/L']])],\n",
        "    'CUMPLE_CON_FE': [lbl_FE[v] for v in mo_FE.predict((get_Contaminantes(user_df)[['LONGITUD', 'LATITUD', 'FE_TOT_mg/L']])[['FE_TOT_mg/L']])]\n",
        "  })\n",
        "  return pd.DataFrame(d)"
      ],
      "metadata": {
        "id": "Pw-_uxm-sgmL"
      },
      "execution_count": 18,
      "outputs": []
    },
    {
      "cell_type": "code",
      "source": [
        "get_Cumple(X_train)"
      ],
      "metadata": {
        "colab": {
          "base_uri": "https://localhost:8080/",
          "height": 487
        },
        "id": "64CWX2Nnm1U0",
        "outputId": "9c6ee603-6334-4aa6-8c7b-0c75d723b297"
      },
      "execution_count": 19,
      "outputs": [
        {
          "output_type": "execute_result",
          "data": {
            "text/plain": [
              "    CUMPLE_CON_ALC CUMPLE_CON_COND CUMPLE_CON_SDT_ra CUMPLE_CON_SDT_salin  \\\n",
              "0               SI              SI                SI                   SI   \n",
              "1               SI              SI                SI                   SI   \n",
              "2               SI              SI                SI                   SI   \n",
              "3               SI              NO                SI                   SI   \n",
              "4               SI              SI                SI                   SI   \n",
              "..             ...             ...               ...                  ...   \n",
              "849             SI              SI                SI                   SI   \n",
              "850             SI              NO                SI                   SI   \n",
              "851             SI              SI                SI                   SI   \n",
              "852             SI              SI                SI                   SI   \n",
              "853             SI              SI                SI                   SI   \n",
              "\n",
              "    CUMPLE_CON_FLUO CUMPLE_CON_DUR CUMPLE_CON_CF CUMPLE_CON_NO3 CUMPLE_CON_AS  \\\n",
              "0                SI             NO            SI             SI            SI   \n",
              "1                SI             NO            SI             SI            SI   \n",
              "2                SI             SI            SI             SI            SI   \n",
              "3                SI             SI            SI             SI            SI   \n",
              "4                SI             SI            SI             SI            SI   \n",
              "..              ...            ...           ...            ...           ...   \n",
              "849              NO             SI            SI             SI            SI   \n",
              "850              SI             SI            SI             SI            SI   \n",
              "851              SI             SI            SI             SI            SI   \n",
              "852              SI             SI            SI             NO            SI   \n",
              "853              SI             SI            SI             SI            SI   \n",
              "\n",
              "    CUMPLE_CON_CD CUMPLE_CON_CR CUMPLE_CON_HG CUMPLE_CON_PB CUMPLE_CON_MN  \\\n",
              "0              SI            SI            SI            SI            SI   \n",
              "1              SI            SI            SI            SI            SI   \n",
              "2              SI            SI            SI            SI            SI   \n",
              "3              SI            SI            SI            SI            SI   \n",
              "4              SI            SI            SI            SI            SI   \n",
              "..            ...           ...           ...           ...           ...   \n",
              "849            SI            SI            SI            SI            SI   \n",
              "850            SI            SI            SI            SI            SI   \n",
              "851            SI            SI            SI            SI            NO   \n",
              "852            SI            SI            SI            SI            SI   \n",
              "853            SI            SI            SI            SI            SI   \n",
              "\n",
              "    CUMPLE_CON_FE  \n",
              "0              SI  \n",
              "1              NO  \n",
              "2              SI  \n",
              "3              SI  \n",
              "4              NO  \n",
              "..            ...  \n",
              "849            SI  \n",
              "850            SI  \n",
              "851            SI  \n",
              "852            SI  \n",
              "853            SI  \n",
              "\n",
              "[854 rows x 15 columns]"
            ],
            "text/html": [
              "\n",
              "  <div id=\"df-2646fdf1-a0a8-4eb5-8e2d-7bcfe52941cb\">\n",
              "    <div class=\"colab-df-container\">\n",
              "      <div>\n",
              "<style scoped>\n",
              "    .dataframe tbody tr th:only-of-type {\n",
              "        vertical-align: middle;\n",
              "    }\n",
              "\n",
              "    .dataframe tbody tr th {\n",
              "        vertical-align: top;\n",
              "    }\n",
              "\n",
              "    .dataframe thead th {\n",
              "        text-align: right;\n",
              "    }\n",
              "</style>\n",
              "<table border=\"1\" class=\"dataframe\">\n",
              "  <thead>\n",
              "    <tr style=\"text-align: right;\">\n",
              "      <th></th>\n",
              "      <th>CUMPLE_CON_ALC</th>\n",
              "      <th>CUMPLE_CON_COND</th>\n",
              "      <th>CUMPLE_CON_SDT_ra</th>\n",
              "      <th>CUMPLE_CON_SDT_salin</th>\n",
              "      <th>CUMPLE_CON_FLUO</th>\n",
              "      <th>CUMPLE_CON_DUR</th>\n",
              "      <th>CUMPLE_CON_CF</th>\n",
              "      <th>CUMPLE_CON_NO3</th>\n",
              "      <th>CUMPLE_CON_AS</th>\n",
              "      <th>CUMPLE_CON_CD</th>\n",
              "      <th>CUMPLE_CON_CR</th>\n",
              "      <th>CUMPLE_CON_HG</th>\n",
              "      <th>CUMPLE_CON_PB</th>\n",
              "      <th>CUMPLE_CON_MN</th>\n",
              "      <th>CUMPLE_CON_FE</th>\n",
              "    </tr>\n",
              "  </thead>\n",
              "  <tbody>\n",
              "    <tr>\n",
              "      <th>0</th>\n",
              "      <td>SI</td>\n",
              "      <td>SI</td>\n",
              "      <td>SI</td>\n",
              "      <td>SI</td>\n",
              "      <td>SI</td>\n",
              "      <td>NO</td>\n",
              "      <td>SI</td>\n",
              "      <td>SI</td>\n",
              "      <td>SI</td>\n",
              "      <td>SI</td>\n",
              "      <td>SI</td>\n",
              "      <td>SI</td>\n",
              "      <td>SI</td>\n",
              "      <td>SI</td>\n",
              "      <td>SI</td>\n",
              "    </tr>\n",
              "    <tr>\n",
              "      <th>1</th>\n",
              "      <td>SI</td>\n",
              "      <td>SI</td>\n",
              "      <td>SI</td>\n",
              "      <td>SI</td>\n",
              "      <td>SI</td>\n",
              "      <td>NO</td>\n",
              "      <td>SI</td>\n",
              "      <td>SI</td>\n",
              "      <td>SI</td>\n",
              "      <td>SI</td>\n",
              "      <td>SI</td>\n",
              "      <td>SI</td>\n",
              "      <td>SI</td>\n",
              "      <td>SI</td>\n",
              "      <td>NO</td>\n",
              "    </tr>\n",
              "    <tr>\n",
              "      <th>2</th>\n",
              "      <td>SI</td>\n",
              "      <td>SI</td>\n",
              "      <td>SI</td>\n",
              "      <td>SI</td>\n",
              "      <td>SI</td>\n",
              "      <td>SI</td>\n",
              "      <td>SI</td>\n",
              "      <td>SI</td>\n",
              "      <td>SI</td>\n",
              "      <td>SI</td>\n",
              "      <td>SI</td>\n",
              "      <td>SI</td>\n",
              "      <td>SI</td>\n",
              "      <td>SI</td>\n",
              "      <td>SI</td>\n",
              "    </tr>\n",
              "    <tr>\n",
              "      <th>3</th>\n",
              "      <td>SI</td>\n",
              "      <td>NO</td>\n",
              "      <td>SI</td>\n",
              "      <td>SI</td>\n",
              "      <td>SI</td>\n",
              "      <td>SI</td>\n",
              "      <td>SI</td>\n",
              "      <td>SI</td>\n",
              "      <td>SI</td>\n",
              "      <td>SI</td>\n",
              "      <td>SI</td>\n",
              "      <td>SI</td>\n",
              "      <td>SI</td>\n",
              "      <td>SI</td>\n",
              "      <td>SI</td>\n",
              "    </tr>\n",
              "    <tr>\n",
              "      <th>4</th>\n",
              "      <td>SI</td>\n",
              "      <td>SI</td>\n",
              "      <td>SI</td>\n",
              "      <td>SI</td>\n",
              "      <td>SI</td>\n",
              "      <td>SI</td>\n",
              "      <td>SI</td>\n",
              "      <td>SI</td>\n",
              "      <td>SI</td>\n",
              "      <td>SI</td>\n",
              "      <td>SI</td>\n",
              "      <td>SI</td>\n",
              "      <td>SI</td>\n",
              "      <td>SI</td>\n",
              "      <td>NO</td>\n",
              "    </tr>\n",
              "    <tr>\n",
              "      <th>...</th>\n",
              "      <td>...</td>\n",
              "      <td>...</td>\n",
              "      <td>...</td>\n",
              "      <td>...</td>\n",
              "      <td>...</td>\n",
              "      <td>...</td>\n",
              "      <td>...</td>\n",
              "      <td>...</td>\n",
              "      <td>...</td>\n",
              "      <td>...</td>\n",
              "      <td>...</td>\n",
              "      <td>...</td>\n",
              "      <td>...</td>\n",
              "      <td>...</td>\n",
              "      <td>...</td>\n",
              "    </tr>\n",
              "    <tr>\n",
              "      <th>849</th>\n",
              "      <td>SI</td>\n",
              "      <td>SI</td>\n",
              "      <td>SI</td>\n",
              "      <td>SI</td>\n",
              "      <td>NO</td>\n",
              "      <td>SI</td>\n",
              "      <td>SI</td>\n",
              "      <td>SI</td>\n",
              "      <td>SI</td>\n",
              "      <td>SI</td>\n",
              "      <td>SI</td>\n",
              "      <td>SI</td>\n",
              "      <td>SI</td>\n",
              "      <td>SI</td>\n",
              "      <td>SI</td>\n",
              "    </tr>\n",
              "    <tr>\n",
              "      <th>850</th>\n",
              "      <td>SI</td>\n",
              "      <td>NO</td>\n",
              "      <td>SI</td>\n",
              "      <td>SI</td>\n",
              "      <td>SI</td>\n",
              "      <td>SI</td>\n",
              "      <td>SI</td>\n",
              "      <td>SI</td>\n",
              "      <td>SI</td>\n",
              "      <td>SI</td>\n",
              "      <td>SI</td>\n",
              "      <td>SI</td>\n",
              "      <td>SI</td>\n",
              "      <td>SI</td>\n",
              "      <td>SI</td>\n",
              "    </tr>\n",
              "    <tr>\n",
              "      <th>851</th>\n",
              "      <td>SI</td>\n",
              "      <td>SI</td>\n",
              "      <td>SI</td>\n",
              "      <td>SI</td>\n",
              "      <td>SI</td>\n",
              "      <td>SI</td>\n",
              "      <td>SI</td>\n",
              "      <td>SI</td>\n",
              "      <td>SI</td>\n",
              "      <td>SI</td>\n",
              "      <td>SI</td>\n",
              "      <td>SI</td>\n",
              "      <td>SI</td>\n",
              "      <td>NO</td>\n",
              "      <td>SI</td>\n",
              "    </tr>\n",
              "    <tr>\n",
              "      <th>852</th>\n",
              "      <td>SI</td>\n",
              "      <td>SI</td>\n",
              "      <td>SI</td>\n",
              "      <td>SI</td>\n",
              "      <td>SI</td>\n",
              "      <td>SI</td>\n",
              "      <td>SI</td>\n",
              "      <td>NO</td>\n",
              "      <td>SI</td>\n",
              "      <td>SI</td>\n",
              "      <td>SI</td>\n",
              "      <td>SI</td>\n",
              "      <td>SI</td>\n",
              "      <td>SI</td>\n",
              "      <td>SI</td>\n",
              "    </tr>\n",
              "    <tr>\n",
              "      <th>853</th>\n",
              "      <td>SI</td>\n",
              "      <td>SI</td>\n",
              "      <td>SI</td>\n",
              "      <td>SI</td>\n",
              "      <td>SI</td>\n",
              "      <td>SI</td>\n",
              "      <td>SI</td>\n",
              "      <td>SI</td>\n",
              "      <td>SI</td>\n",
              "      <td>SI</td>\n",
              "      <td>SI</td>\n",
              "      <td>SI</td>\n",
              "      <td>SI</td>\n",
              "      <td>SI</td>\n",
              "      <td>SI</td>\n",
              "    </tr>\n",
              "  </tbody>\n",
              "</table>\n",
              "<p>854 rows × 15 columns</p>\n",
              "</div>\n",
              "      <button class=\"colab-df-convert\" onclick=\"convertToInteractive('df-2646fdf1-a0a8-4eb5-8e2d-7bcfe52941cb')\"\n",
              "              title=\"Convert this dataframe to an interactive table.\"\n",
              "              style=\"display:none;\">\n",
              "        \n",
              "  <svg xmlns=\"http://www.w3.org/2000/svg\" height=\"24px\"viewBox=\"0 0 24 24\"\n",
              "       width=\"24px\">\n",
              "    <path d=\"M0 0h24v24H0V0z\" fill=\"none\"/>\n",
              "    <path d=\"M18.56 5.44l.94 2.06.94-2.06 2.06-.94-2.06-.94-.94-2.06-.94 2.06-2.06.94zm-11 1L8.5 8.5l.94-2.06 2.06-.94-2.06-.94L8.5 2.5l-.94 2.06-2.06.94zm10 10l.94 2.06.94-2.06 2.06-.94-2.06-.94-.94-2.06-.94 2.06-2.06.94z\"/><path d=\"M17.41 7.96l-1.37-1.37c-.4-.4-.92-.59-1.43-.59-.52 0-1.04.2-1.43.59L10.3 9.45l-7.72 7.72c-.78.78-.78 2.05 0 2.83L4 21.41c.39.39.9.59 1.41.59.51 0 1.02-.2 1.41-.59l7.78-7.78 2.81-2.81c.8-.78.8-2.07 0-2.86zM5.41 20L4 18.59l7.72-7.72 1.47 1.35L5.41 20z\"/>\n",
              "  </svg>\n",
              "      </button>\n",
              "      \n",
              "  <style>\n",
              "    .colab-df-container {\n",
              "      display:flex;\n",
              "      flex-wrap:wrap;\n",
              "      gap: 12px;\n",
              "    }\n",
              "\n",
              "    .colab-df-convert {\n",
              "      background-color: #E8F0FE;\n",
              "      border: none;\n",
              "      border-radius: 50%;\n",
              "      cursor: pointer;\n",
              "      display: none;\n",
              "      fill: #1967D2;\n",
              "      height: 32px;\n",
              "      padding: 0 0 0 0;\n",
              "      width: 32px;\n",
              "    }\n",
              "\n",
              "    .colab-df-convert:hover {\n",
              "      background-color: #E2EBFA;\n",
              "      box-shadow: 0px 1px 2px rgba(60, 64, 67, 0.3), 0px 1px 3px 1px rgba(60, 64, 67, 0.15);\n",
              "      fill: #174EA6;\n",
              "    }\n",
              "\n",
              "    [theme=dark] .colab-df-convert {\n",
              "      background-color: #3B4455;\n",
              "      fill: #D2E3FC;\n",
              "    }\n",
              "\n",
              "    [theme=dark] .colab-df-convert:hover {\n",
              "      background-color: #434B5C;\n",
              "      box-shadow: 0px 1px 3px 1px rgba(0, 0, 0, 0.15);\n",
              "      filter: drop-shadow(0px 1px 2px rgba(0, 0, 0, 0.3));\n",
              "      fill: #FFFFFF;\n",
              "    }\n",
              "  </style>\n",
              "\n",
              "      <script>\n",
              "        const buttonEl =\n",
              "          document.querySelector('#df-2646fdf1-a0a8-4eb5-8e2d-7bcfe52941cb button.colab-df-convert');\n",
              "        buttonEl.style.display =\n",
              "          google.colab.kernel.accessAllowed ? 'block' : 'none';\n",
              "\n",
              "        async function convertToInteractive(key) {\n",
              "          const element = document.querySelector('#df-2646fdf1-a0a8-4eb5-8e2d-7bcfe52941cb');\n",
              "          const dataTable =\n",
              "            await google.colab.kernel.invokeFunction('convertToInteractive',\n",
              "                                                     [key], {});\n",
              "          if (!dataTable) return;\n",
              "\n",
              "          const docLinkHtml = 'Like what you see? Visit the ' +\n",
              "            '<a target=\"_blank\" href=https://colab.research.google.com/notebooks/data_table.ipynb>data table notebook</a>'\n",
              "            + ' to learn more about interactive tables.';\n",
              "          element.innerHTML = '';\n",
              "          dataTable['output_type'] = 'display_data';\n",
              "          await google.colab.output.renderOutput(dataTable, element);\n",
              "          const docLink = document.createElement('div');\n",
              "          docLink.innerHTML = docLinkHtml;\n",
              "          element.appendChild(docLink);\n",
              "        }\n",
              "      </script>\n",
              "    </div>\n",
              "  </div>\n",
              "  "
            ]
          },
          "metadata": {},
          "execution_count": 19
        }
      ]
    },
    {
      "cell_type": "markdown",
      "source": [
        "### Modelo\n",
        "\n",
        "Nuestro Modelo está entonces basado en 14 inputers de KNN para los valores numéricos; 14 árboles de decisión para determinar si cumplen o no y 1 para validar el semáforo."
      ],
      "metadata": {
        "id": "NoSsYaO8xK-g"
      }
    },
    {
      "cell_type": "markdown",
      "source": [
        "# Resultados"
      ],
      "metadata": {
        "id": "nYVnzKhIE6HO"
      }
    },
    {
      "cell_type": "code",
      "source": [
        "############################################################################################\n",
        "# Evaluación de Modelo 0\n",
        "############################################################################################\n",
        "\n",
        "# Encontramos y verdadera y predicha:\n",
        "y_true = le.transform(y_test)\n",
        "y_pred = model.predict(ct.transform(get_Cumple(X_test)))\n",
        "\n",
        "# Obetenemos la matriz de confusión y el reporte de accuracy\n",
        "cmdf_mo1 = pd.DataFrame(confusion_matrix(y_true, y_pred), index = y_classes, columns = y_classes)\n",
        "\n",
        "print(f\"\"\"\n",
        "┌────────────────────────────────────────────────────────┐\n",
        "│Datos de prueba:                                        │\n",
        "│ > Contaminantes explican al semáforo                   |\n",
        "└────────────────────────────────────────────────────────┘\n",
        "\"\"\")\n",
        "\n",
        "plt.figure(figsize=(7,5))\n",
        "sns.heatmap(cmdf_mo1, annot=True, cmap='Blues', annot_kws={\"size\":12})\n",
        "plt.title('Matriz de confusión', pad=24)\n",
        "plt.ylabel('Valores reales', labelpad=24)\n",
        "plt.xlabel('Valores predichos', labelpad=24)\n",
        "plt.show()\n",
        "print('\\n')\n",
        "print(classification_report(y_true, y_pred, target_names=y_classes))"
      ],
      "metadata": {
        "colab": {
          "base_uri": "https://localhost:8080/",
          "height": 722
        },
        "id": "0OFIai6Q6oe6",
        "outputId": "de418af2-7b34-4f65-b724-300539f4e31b"
      },
      "execution_count": 20,
      "outputs": [
        {
          "output_type": "stream",
          "name": "stdout",
          "text": [
            "\n",
            "┌────────────────────────────────────────────────────────┐\n",
            "│Datos de prueba:                                        │\n",
            "│ > Contaminantes explican al semáforo                   |\n",
            "└────────────────────────────────────────────────────────┘\n",
            "\n"
          ]
        },
        {
          "output_type": "display_data",
          "data": {
            "text/plain": [
              "<Figure size 504x360 with 2 Axes>"
            ],
            "image/png": "[encoded data removed]"
          },
          "metadata": {
            "needs_background": "light"
          }
        },
        {
          "output_type": "stream",
          "name": "stdout",
          "text": [
            "\n",
            "\n",
            "              precision    recall  f1-score   support\n",
            "\n",
            "    Amarillo       0.94      1.00      0.97        49\n",
            "        Rojo       1.00      0.96      0.98        78\n",
            "       Verde       0.99      0.99      0.99        87\n",
            "\n",
            "    accuracy                           0.98       214\n",
            "   macro avg       0.98      0.98      0.98       214\n",
            "weighted avg       0.98      0.98      0.98       214\n",
            "\n"
          ]
        }
      ]
    },
    {
      "cell_type": "markdown",
      "source": [
        "Este modelo aunque tuvo un performance un poco menor utiliza una mejor hipótesis de imput basado en cuerpos de agua cercanos en lugar de una simple mediana. El modelo alcanza un perfomance de 0.98 cuando valores están presentes; si embargo, este puede ser un supuesto bastante audaz, aveces no hay recursos para esto. Entonces ¿Qué hacer?"
      ],
      "metadata": {
        "id": "kFSISVZbIHOK"
      }
    },
    {
      "cell_type": "markdown",
      "source": [
        "# Modelo de Producción"
      ],
      "metadata": {
        "id": "GmWtnuouvdX-"
      }
    },
    {
      "cell_type": "markdown",
      "source": [
        "Finalmente gracias al análisis de K-Means y ampliación por KNN hemos creado un imputer que sólo depende de LONGITUD y LATITUD; utiliza, agradece y mejora su perfomance entre más valores tenga, pero si es posible predecir sólo por estas dos variables que serían las esenciales ante el descubrimiento de cuerpos de agua. Definiremos dos funciones para hacer métodos productivos de esto:\n"
      ],
      "metadata": {
        "id": "iil4sbPk65pL"
      }
    },
    {
      "cell_type": "code",
      "source": [
        "def get_semaforo_by_val(dictval, labeled=True):\n",
        "  \"\"\"\n",
        "  Este modelo toma valores en un formato JSON o de diccionario\n",
        "  en donde requiere LONGITUD y LATITUD, además acepta los siguientes\n",
        "  valores de medición de contaminación:\n",
        "\n",
        "    'LONGITUD,\n",
        "    'LATITUD,\n",
        "    'ALC_mg/L',\n",
        "    'CONDUCT_mS/cm',\n",
        "    'SDT_M_mg/L',\n",
        "    'FLUORUROS_mg/L',\n",
        "    'DUR_mg/L',\n",
        "    'COLI_FEC_NMP/100_mL',\n",
        "    'N_NO3_mg/L',\n",
        "    'AS_TOT_mg/L',\n",
        "    'CD_TOT_mg/L',\n",
        "    'CR_TOT_mg/L',\n",
        "    'HG_TOT_mg/L',\n",
        "    'PB_TOT_mg/L',\n",
        "    'MN_TOT_mg/L',\n",
        "    'FE_TOT_mg/L',\n",
        "\n",
        "  Al final el modelo regresa un semáforo basado en esas observaciones.\n",
        "  \"\"\"\n",
        "  \n",
        "  # Tomar los valores de usuario:\n",
        "  user_long = dictval.get('LONGITUD')\n",
        "  user_lat = dictval.get('LATITUD')\n",
        "  user_alc = dictval.get('ALC_mg/L') or np.nan\n",
        "  user_cond = dictval.get('CONDUCT_mS/cm') or np.nan\n",
        "  user_sdt = dictval.get('SDT_M_mg/L') or np.nan\n",
        "  user_fluo = dictval.get('FLUORUROS_mg/L') or np.nan\n",
        "  user_dur = dictval.get('DUR_mg/L') or np.nan\n",
        "  user_cf = dictval.get('COLI_FEC_NMP/100_mL') or np.nan\n",
        "  user_nno3 = dictval.get('N_NO3_mg/L') or np.nan\n",
        "  user_as = dictval.get('AS_TOT_mg/L') or np.nan\n",
        "  user_cd = dictval.get('CD_TOT_mg/L') or np.nan\n",
        "  user_cr = dictval.get('CR_TOT_mg/L') or np.nan\n",
        "  user_hg = dictval.get('HG_TOT_mg/L') or np.nan\n",
        "  user_pb = dictval.get('PB_TOT_mg/L') or np.nan\n",
        "  user_mn = dictval.get('MN_TOT_mg/L') or np.nan\n",
        "  user_fe = dictval.get('FE_TOT_mg/L') or np.nan\n",
        "\n",
        "\n",
        "  # Early exit:\n",
        "  if user_long is None or user_lat is None:\n",
        "    raise \"Este modelo requeire almenos LONGITUD Y LATITUD\"\n",
        "\n",
        "  input_ml = [\n",
        "      user_long,\n",
        "      user_lat,\n",
        "      user_alc,\n",
        "      user_cond,\n",
        "      user_sdt,\n",
        "      user_fluo,\n",
        "      user_dur,\n",
        "      user_cf,\n",
        "      user_nno3,\n",
        "      user_as,\n",
        "      user_cd,\n",
        "      user_cr,\n",
        "      user_hg,\n",
        "      user_pb,\n",
        "      user_mn,\n",
        "      user_fe,\n",
        "  ]\n",
        "\n",
        "  columns_input = [\n",
        "    'LONGITUD',\n",
        "    'LATITUD',\n",
        "    'ALC_mg/L',\n",
        "    'CONDUCT_mS/cm',\n",
        "    'SDT_M_mg/L',    \n",
        "    'FLUORUROS_mg/L',\n",
        "    'DUR_mg/L',\n",
        "    'COLI_FEC_NMP/100_mL',\n",
        "    'N_NO3_mg/L',\n",
        "    'AS_TOT_mg/L',\n",
        "    'CD_TOT_mg/L',\n",
        "    'CR_TOT_mg/L',\n",
        "    'HG_TOT_mg/L',\n",
        "    'PB_TOT_mg/L',\n",
        "    'MN_TOT_mg/L',\n",
        "    'FE_TOT_mg/L'\n",
        "  ]\n",
        "  \n",
        "  # Convertirmos JSON a np array:\n",
        "  input_list = np.reshape(input_ml, (1, 16)) \n",
        "  # Convertirmos np array a DF:\n",
        "  input_df = pd.DataFrame(input_list, columns=columns_input)\n",
        "  # Creamos los valores de cumple del df:\n",
        "  input_vals = get_Cumple(input_df)\n",
        "  # Transformamos a input correcto de modelo:\n",
        "  input_ml = ct.transform(input_vals)\n",
        "  # Predecimos basado en datos:\n",
        "  output_ml = model.predict(input_ml)\n",
        "  # Entregamos el semáforo:\n",
        "  if labeled:\n",
        "    return [ y_classes[v] for v in output_ml ]\n",
        "  else:\n",
        "    return output_ml\n",
        "\n",
        "\n",
        "def get_semaforo_by_df(userdf, labeled=True):\n",
        "  \"\"\"\n",
        "  Este modelo toma valores en un formato dataframe con forma:\n",
        "\n",
        "    'LONGITUD', (non-null)\n",
        "    'LATITUD', (non-null)\n",
        "    'ALC_mg/L',\n",
        "    'CONDUCT_mS/cm',\n",
        "    'SDT_M_mg/L',\n",
        "    'FLUORUROS_mg/L',\n",
        "    'DUR_mg/L',\n",
        "    'COLI_FEC_NMP/100_mL',\n",
        "    'N_NO3_mg/L',\n",
        "    'AS_TOT_mg/L',\n",
        "    'CD_TOT_mg/L',\n",
        "    'CR_TOT_mg/L',\n",
        "    'HG_TOT_mg/L',\n",
        "    'PB_TOT_mg/L',\n",
        "    'MN_TOT_mg/L',\n",
        "    'FE_TOT_mg/L',\n",
        "\n",
        "  Al final el modelo regresa un semáforo basado en esas observaciones.\n",
        "  \"\"\"\n",
        "    # Early exit:\n",
        "  if userdf['LONGITUD'].isna().sum() > 0 or userdf['LATITUD'].isna().sum() > 0:\n",
        "    raise \"Este modelo requeire almenos LONGITUD Y LATITUD\"\n",
        "  \n",
        "  # Creamos los valores de cumple del df:\n",
        "  input_vals = get_Cumple(userdf)\n",
        "  # Transformamos a input correcto de modelo:\n",
        "  input_ml = ct.transform(input_vals)\n",
        "  # Predecimos basado en datos:\n",
        "  output_ml = model.predict(input_ml)\n",
        "  # Etiquetamos el resultado:\n",
        "  \n",
        "  # Entregamos el semáforo:\n",
        "  if labeled:\n",
        "    return [ y_classes[v] for v in output_ml ]\n",
        "  else:\n",
        "    return output_ml\n"
      ],
      "metadata": {
        "id": "4wem138669pJ"
      },
      "execution_count": 21,
      "outputs": []
    },
    {
      "cell_type": "markdown",
      "source": [
        "Nuestra primer función toma valores unitarios de longitud y latitud y además mediciones de calidad del agua para predecir su nivel. Veamos un ejemplo con sólo su ubicación:"
      ],
      "metadata": {
        "id": "NQSlyyJaIsgB"
      }
    },
    {
      "cell_type": "code",
      "source": [
        "# Test function:\n",
        "get_semaforo_by_val({\n",
        "    'LONGITUD': -102.17488,\n",
        "    'LATITUD': 25.48890\n",
        "    })"
      ],
      "metadata": {
        "colab": {
          "base_uri": "https://localhost:8080/"
        },
        "id": "COTDFWhWwiPY",
        "outputId": "306829a5-c043-4e00-a9eb-a00742e2f74c"
      },
      "execution_count": 22,
      "outputs": [
        {
          "output_type": "execute_result",
          "data": {
            "text/plain": [
              "['Amarillo']"
            ]
          },
          "metadata": {},
          "execution_count": 22
        }
      ]
    },
    {
      "cell_type": "markdown",
      "source": [
        "Ahora veamos que pasa si ponemos un nivel no aceptable de arsénico:"
      ],
      "metadata": {
        "id": "x2Z7rFg7I5Bw"
      }
    },
    {
      "cell_type": "code",
      "source": [
        "# Test function:\n",
        "get_semaforo_by_val({\n",
        "    'LONGITUD': -102.17488,\n",
        "    'LATITUD': 25.48890,\n",
        "    'AS_TOT_mg/L': 0.033,\n",
        "    })"
      ],
      "metadata": {
        "colab": {
          "base_uri": "https://localhost:8080/"
        },
        "id": "4lJmhSDgI8T4",
        "outputId": "75c1d827-1c2e-4191-eb1c-54ea921f609e"
      },
      "execution_count": 23,
      "outputs": [
        {
          "output_type": "execute_result",
          "data": {
            "text/plain": [
              "['Rojo']"
            ]
          },
          "metadata": {},
          "execution_count": 23
        }
      ]
    },
    {
      "cell_type": "markdown",
      "source": [
        "Como se observa el modelo refina sus predicciones entre más valores tenga"
      ],
      "metadata": {
        "id": "_sMVsJGOJe2w"
      }
    },
    {
      "cell_type": "code",
      "source": [
        "# Test function:\n",
        "get_semaforo_by_df(\n",
        "    pd.DataFrame({ \n",
        "    'LONGITUD': [-102.17488],\n",
        "    'LATITUD': [25.48890],\n",
        "    'ALC_mg/L': [np.nan],\n",
        "    'CONDUCT_mS/cm': [np.nan],\n",
        "    'SDT_M_mg/L': [np.nan],\n",
        "    'FLUORUROS_mg/L': [np.nan],\n",
        "    'DUR_mg/L': [np.nan],\n",
        "    'COLI_FEC_NMP/100_mL': [np.nan],\n",
        "    'N_NO3_mg/L': [np.nan],\n",
        "    'AS_TOT_mg/L': [np.nan],\n",
        "    'CD_TOT_mg/L': [np.nan],\n",
        "    'CR_TOT_mg/L': [np.nan],\n",
        "    'HG_TOT_mg/L': [np.nan],\n",
        "    'PB_TOT_mg/L': [np.nan],\n",
        "    'MN_TOT_mg/L': [np.nan],\n",
        "    'FE_TOT_mg/L': [np.nan],\n",
        "  })\n",
        ")"
      ],
      "metadata": {
        "colab": {
          "base_uri": "https://localhost:8080/"
        },
        "id": "lNTwkuLPJsHN",
        "outputId": "eca9317e-d573-4d60-a9a7-ab17b530d3ed"
      },
      "execution_count": 24,
      "outputs": [
        {
          "output_type": "execute_result",
          "data": {
            "text/plain": [
              "['Amarillo']"
            ]
          },
          "metadata": {},
          "execution_count": 24
        }
      ]
    },
    {
      "cell_type": "markdown",
      "source": [
        "Nuestro segundo modelo toma valores de un dataframe con la estructura LAT,LONG y los contaminantes, los valores de contaminantes puedne o no tener valores y produce los mismos resultados."
      ],
      "metadata": {
        "id": "qoADq6TH-bnN"
      }
    },
    {
      "cell_type": "code",
      "source": [
        "# Test function:\n",
        "get_semaforo_by_df(\n",
        "    pd.DataFrame({ \n",
        "    'LONGITUD': [-102.17488],\n",
        "    'LATITUD': [25.48890],\n",
        "    'ALC_mg/L': [np.nan],\n",
        "    'CONDUCT_mS/cm': [np.nan],\n",
        "    'SDT_M_mg/L': [np.nan],\n",
        "    'FLUORUROS_mg/L': [np.nan],\n",
        "    'DUR_mg/L': [np.nan],\n",
        "    'COLI_FEC_NMP/100_mL': [np.nan],\n",
        "    'N_NO3_mg/L': [np.nan],\n",
        "    'AS_TOT_mg/L': 0.033,\n",
        "    'CD_TOT_mg/L': [np.nan],\n",
        "    'CR_TOT_mg/L': [np.nan],\n",
        "    'HG_TOT_mg/L': [np.nan],\n",
        "    'PB_TOT_mg/L': [np.nan],\n",
        "    'MN_TOT_mg/L': [np.nan],\n",
        "    'FE_TOT_mg/L': [np.nan],\n",
        "  })\n",
        ")"
      ],
      "metadata": {
        "colab": {
          "base_uri": "https://localhost:8080/"
        },
        "id": "DMkZFHKk6ZGp",
        "outputId": "4451f64c-5d3a-414b-fe70-243b4132ada8"
      },
      "execution_count": 25,
      "outputs": [
        {
          "output_type": "execute_result",
          "data": {
            "text/plain": [
              "['Rojo']"
            ]
          },
          "metadata": {},
          "execution_count": 25
        }
      ]
    },
    {
      "cell_type": "markdown",
      "source": [
        "Aquí vemos como aumenta el nivel a rojo también al presentar niveles no aceptables de arsénico en el agua."
      ],
      "metadata": {
        "id": "Nskk275RJ4zl"
      }
    },
    {
      "cell_type": "markdown",
      "source": [
        "Lo anterior lo podemos generalizar para nuestro conjunto de prueba y ver que sucede cuando tenemos o no ciertas variables. Para esto hagamos un experimento en el que removeremos ciertas variablaes de forma aleatoria:"
      ],
      "metadata": {
        "id": "ESN_HbeIJ998"
      }
    },
    {
      "cell_type": "code",
      "source": [
        "############################################################################################\n",
        "# Aleatorizando presencia de variables:\n",
        "############################################################################################\n",
        "\n",
        "# Encontramos y verdadera y predicha:\n",
        "\n",
        "ALC_isPresent = random.random() > 0.5\n",
        "CONDUCT_isPresent = random.random() > 0.5\n",
        "SDT_isPresent = random.random() > 0.5\n",
        "SDT_isPresent = random.random() > 0.5\n",
        "DUR_isPresent = random.random() > 0.5\n",
        "CF_isPresent = random.random() > 0.5\n",
        "NNO3_isPresent = random.random() > 0.5\n",
        "AS_isPresent = random.random() > 0.5\n",
        "CD_isPresent = random.random() > 0.5\n",
        "CR_isPresent = random.random() > 0.5\n",
        "HG_isPresent = random.random() > 0.5\n",
        "PB_isPresent = random.random() > 0.5\n",
        "MN_isPresent = random.random() > 0.5\n",
        "FE_isPresent = random.random() > 0.5\n",
        "\n",
        "y_true = le.transform(y_test)\n",
        "y_pred = get_semaforo_by_df(\n",
        "    pd.DataFrame({ \n",
        "    'LONGITUD': X_test['LONGITUD'],\n",
        "    'LATITUD': X_test['LATITUD'],\n",
        "    'ALC_mg/L': X_test['ALC_mg/L']  if ALC_isPresent else np.repeat(np.nan, 214),\n",
        "    'CONDUCT_mS/cm': X_test['CONDUCT_mS/cm']  if CONDUCT_isPresent else np.repeat(np.nan, 214),\n",
        "    'SDT_M_mg/L': X_test['SDT_M_mg/L']  if SDT_isPresent else np.repeat(np.nan, 214),\n",
        "    'FLUORUROS_mg/L': X_test['FLUORUROS_mg/L']  if SDT_isPresent else np.repeat(np.nan, 214),\n",
        "    'DUR_mg/L': X_test['DUR_mg/L']  if DUR_isPresent else np.repeat(np.nan, 214),\n",
        "    'COLI_FEC_NMP/100_mL': X_test['COLI_FEC_NMP/100_mL']  if CF_isPresent else np.repeat(np.nan, 214),\n",
        "    'N_NO3_mg/L': X_test['N_NO3_mg/L']  if NNO3_isPresent else np.repeat(np.nan, 214),\n",
        "    'AS_TOT_mg/L': X_test['AS_TOT_mg/L']  if AS_isPresent else np.repeat(np.nan, 214),\n",
        "    'CD_TOT_mg/L': X_test['CD_TOT_mg/L']  if CD_isPresent else np.repeat(np.nan, 214),\n",
        "    'CR_TOT_mg/L': X_test['CR_TOT_mg/L']  if CR_isPresent else np.repeat(np.nan, 214),\n",
        "    'HG_TOT_mg/L': X_test['HG_TOT_mg/L']  if HG_isPresent else np.repeat(np.nan, 214),\n",
        "    'PB_TOT_mg/L': X_test['PB_TOT_mg/L']  if PB_isPresent else np.repeat(np.nan, 214),\n",
        "    'MN_TOT_mg/L': X_test['MN_TOT_mg/L']  if MN_isPresent else np.repeat(np.nan, 214),\n",
        "    'FE_TOT_mg/L': X_test['FE_TOT_mg/L']  if FE_isPresent else np.repeat(np.nan, 214),\n",
        "    }), labeled=False\n",
        "  )\n",
        "\n",
        "print(f\"\"\"\n",
        "  Accuracy: {accuracy_score(y_true, y_pred):.3f}\n",
        "  \n",
        "  considerando:\n",
        "    { 'ALC presente' if ALC_isPresent else 'ALC sin muestra' }\n",
        "    { 'CONDUCT presente' if CONDUCT_isPresent else 'CONDUCT sin muestra' }\n",
        "    { 'SDT presente' if SDT_isPresent else 'SDT sin muestra' }\n",
        "    { 'DUR presente' if DUR_isPresent else 'DUR sin muestra' }\n",
        "    { 'CF presente' if CF_isPresent else 'CF sin muestra' }\n",
        "    { 'NNO3 presente' if NNO3_isPresent else 'NNO3 sin muestra' }\n",
        "    { 'AS presente' if AS_isPresent else 'AS sin muestra' }\n",
        "    { 'CD presente' if CD_isPresent else 'CD sin muestra' }\n",
        "    { 'CR presente' if CR_isPresent else 'CR sin muestra' }\n",
        "    { 'HG presente' if HG_isPresent else 'HG sin muestra' }\n",
        "    { 'PB presente' if PB_isPresent else 'PB sin muestra' }\n",
        "    { 'MB presente' if MN_isPresent else 'MB sin muestra' }\n",
        "    { 'FE presente' if FE_isPresent else 'FE sin muestra' }\n",
        "  \"\"\")\n",
        "\n"
      ],
      "metadata": {
        "colab": {
          "base_uri": "https://localhost:8080/"
        },
        "id": "5QAnIwCi-vmt",
        "outputId": "331ed558-b805-41df-c64c-b68bb433beb3"
      },
      "execution_count": 26,
      "outputs": [
        {
          "output_type": "stream",
          "name": "stdout",
          "text": [
            "\n",
            "  Accuracy: 0.794\n",
            "  \n",
            "  considerando:\n",
            "    ALC sin muestra\n",
            "    CONDUCT sin muestra\n",
            "    SDT presente\n",
            "    DUR presente\n",
            "    CF presente\n",
            "    NNO3 presente\n",
            "    AS sin muestra\n",
            "    CD presente\n",
            "    CR presente\n",
            "    HG sin muestra\n",
            "    PB sin muestra\n",
            "    MB presente\n",
            "    FE sin muestra\n",
            "  \n"
          ]
        }
      ]
    },
    {
      "cell_type": "markdown",
      "source": [
        "Vemos como nuestro accuracy sigue por encima de 0.5 incluso cuando no tenemos ciertas muestras"
      ],
      "metadata": {
        "id": "MyM4Qh1XKG7N"
      }
    },
    {
      "cell_type": "markdown",
      "source": [
        "# Conclusión\n",
        "En esta entrega encontramos que las hipótesis antes planteadas eran ciertas:\n",
        "\n",
        "* Las mediciones de contaminantes determinan la calidad (0.99 de accuracy)\n",
        "* La calidad determina el cumplimiento (1.00 de accuracy)\n",
        "* La presencia de contaminantes determina el semáforo (0.99 de accuracy)\n",
        "\n",
        "Además planteamos modelos productivos, uno pensado para consumir datos JSON que pueden ser porporcionados por una red de sensores para determinar el semáforo básandose en los contaminatnes conocidos y con un input geográfico (KNN) de los desconocidos.\n",
        "\n",
        "Nuestro otro modelo funciona para grandesc onjuntos de datos y nos permitió ver que no es necesario tener siempre todos los factores para tener un buen accuracy.\n",
        "\n",
        "Los modelos planteados tienen un beneficio económico y social directo ya que este tipo de modelos peustos en producción permitirían generalizar la calidad del agua para cuerpos neuvos encontrados en donde aún no se tiene medición, se recomendaría seguir con mediciones después de esto pero el ejercicio de este framework permitiría reducir costos de medición y establecer nuevos puntos de consumo de agua de manera más agil. ¡Claro! – La recomendación es siempr emedir todo, pero no siempre se puede y esto ofrece una solución.\n",
        "\n",
        "\n",
        "Futuros estudios permitrían realizar juegos de permutaciones con la última función puesta (remover elementos aleatorio) para evaluar su efectividad antes de ir a campo. Sin embargo, esto se encuentra fuera del alcance de este trabajo.\n",
        "\n",
        "Por último en este trabajo mostramos el uso de árboles de decisión y bosques aleatorios; la idea detrás de estos últimos de combinar nos pareció fantástica y fue la inspiración para dar el paso extra y generar nuestros modelos que finalmente están conformados así:\n",
        "\n",
        "``` markdown\n",
        "[Modelos de contaminantes (14)] ---> [Modelo de Cumplimiento (1)] ---> [Resultado de semáforo]\n",
        "```\n",
        "\n",
        "Es decir en este ejercicio genéramos 14 bosques aleatorios y 1 árboles de decisión para generar modelos que finalmente puedan decidir con la menor de datos posible, la ubicación geográfica del cuerpo de agua. Mucho de este análisis se basó en la idea de homogeneidad por ubicación, este supuesto se pudiera relajar más adelante o incluso refinar para definir límites aceptables para los algoritmos KNN e incluiir Medianas de K-Meanas para cuando estos se rebasen.\n",
        "\n",
        "Al final, el agua es un recurso limitado y muy valioso para toda la humanidad, más estudios y más mediciones siempre son recomendadas, pero este es un primer acercamiento a ayudar al uso de esta.\n",
        "\n"
      ],
      "metadata": {
        "id": "44Xzaq8QE-U-"
      }
    }
  ]
}