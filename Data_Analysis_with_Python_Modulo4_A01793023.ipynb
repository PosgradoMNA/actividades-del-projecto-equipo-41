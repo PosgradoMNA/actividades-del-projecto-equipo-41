{
  "nbformat": 4,
  "nbformat_minor": 0,
  "metadata": {
    "colab": {
      "provenance": [],
      "collapsed_sections": [],
      "authorship_tag": "ABX9TyNl48CI6Z24xx77g2NS+Qbe",
      "include_colab_link": true
    },
    "kernelspec": {
      "name": "python3",
      "display_name": "Python 3"
    },
    "language_info": {
      "name": "python"
    }
  },
  "cells": [
    {
      "cell_type": "markdown",
      "metadata": {
        "id": "view-in-github",
        "colab_type": "text"
      },
      "source": [
        "<a href=\"https://colab.research.google.com/github/PosgradoMNA/actividades-del-projecto-equipo-41/blob/main/Data_Analysis_with_Python_Modulo4_A01793023.ipynb\" target=\"_parent\"><img src=\"https://colab.research.google.com/assets/colab-badge.svg\" alt=\"Open In Colab\"/></a>"
      ]
    },
    {
      "cell_type": "markdown",
      "source": [
        "\n",
        "> On this notebook the exercises, practices and follow up from the module 4 will be reviewed. This serves as a demonstrantion and an exercise for the Data Science Class (TC4029) of the MNA Master's degree program of the ITESM and is created by A01793023 - Jorge Luis Arroyo Chavelas. For questions, please reach out to A01793023@tec.mx\n",
        "\n",
        "# IBM: DA0101EN Data Analysis with Python\n",
        "---\n",
        "\n"
      ],
      "metadata": {
        "id": "EaVazTlfcxQB"
      }
    },
    {
      "cell_type": "markdown",
      "source": [
        "# Module 4 - Model Development"
      ],
      "metadata": {
        "id": "2bJzEQVTdLrY"
      }
    },
    {
      "cell_type": "markdown",
      "source": [
        "## Model Development\n",
        "In this module we will focus in Try to predict a value given a set of features by using a model; a model can be thought of as a mathemtical equation used to predict a value given one ore more other values by relating independent variables (or feature) to a dependant variable of (target).\n",
        "\n",
        "Model depends on the relevant data used; if good data is passed to a model, then the model will be good, if the variables ommit or have bad data can lead to undesired results.\n",
        "\n"
      ],
      "metadata": {
        "id": "7hqwjZ5HCOQN"
      }
    },
    {
      "cell_type": "markdown",
      "source": [
        "## Linear Regression and Multiple Linear Regression\n",
        "Linear regression is a model that takes one variable and creates a prediction (numerical), multiple linear regression uses a set of values to determine the same task.\n",
        "\n",
        "This help us to determine the relationship between two variables, for linear regression we have a model:\n",
        "\n",
        "$Y = b_0 + b_1 X$\n",
        "\n",
        "Where b0 is an intercept and b1 a coefficient of a line; we can input the values of X to the model to determine a prediced Y. These values b0 and b1 are known as parameters of the model.\n",
        "\n",
        "Models, not excluding of course linear regression, can not deal with noise, therefore they do only approdximations.\n",
        "\n",
        "Using the python libraries like scickit-learn we do this with declaring a model, fitting the data and then predict by passing values against the function created. In code we use:\n",
        "\n",
        "``` python\n",
        "import pandas as pd\n",
        "from sklearn.linear_model import LinearRegression\n",
        "lm = LinearRegression()\n",
        "X = df[['feature_1']]\n",
        "Y = df['target']\n",
        "lm.fit(X,Y)\n",
        "yhat=lm.predict(X)\n",
        "```\n",
        "\n",
        "This give us:\n",
        "\n",
        "``` python\n",
        "lm.intercept_\n",
        "lm.coef_\n",
        "```\n",
        "where the first line is $b_0$ and $b_1$ would be the second line.\n",
        "\n",
        "Multiple linear regression works the same way but for more variables, this in code is:\n",
        "\n",
        "``` python\n",
        "import pandas as pd\n",
        "from sklearn.linear_model import LinearRegression\n",
        "lm = LinearRegression()\n",
        "X = df[['feature_1', 'feature_2']]\n",
        "Y = df['target']\n",
        "lm.fit(X,Y)\n",
        "yhat=lm.predict(X)\n",
        "```\n",
        "\n",
        "Which would produce:\n",
        "\n",
        "$Y = b_0 + b_1 X_1 + b_2 X_2$\n",
        "\n",
        "For this case what would change would be the coefficient from one scalar to a list of those:\n",
        "\n",
        "``` python\n",
        "lm.intercept_\n",
        "```\n",
        "This will return the values for $b_1$ and $b_2$\n",
        "\n",
        "It is trivial to see how this scales for more variables."
      ],
      "metadata": {
        "id": "d4HLE0ujCQFZ"
      }
    },
    {
      "cell_type": "markdown",
      "source": [
        "## Model Evaluation using Visualization"
      ],
      "metadata": {
        "id": "YBMU2BgUCSpX"
      }
    },
    {
      "cell_type": "markdown",
      "source": [
        "We can use regression pltos to visualize how a fitline work against the features; for two variables we can use and visualize:\n",
        "\n",
        "``` python\n",
        "import pandas as pd\n",
        "import seaborn as sns\n",
        "sns.regplot(x='feature1', y='target', data=df)\n",
        "```\n",
        "\n",
        "This will produce an scatter-plot and a linear regression where we can visualize how good it fits our data.\n",
        "\n",
        "Other visualization we can use is the residual plot, in python:\n",
        "\n",
        "``` python\n",
        "import pandas as pd\n",
        "import seaborn as sns\n",
        "sns.residplot(x='feature1', y='target', data=df)\n",
        "```\n",
        "\n",
        "For a residual plot we look for randomness, shapes like a curve, something increasing over time or other type of well defined shapes show that the errors of our model are systematic which would mean not a good fit (undertrainned).\n",
        "\n",
        "Other type of plots we can use are distribution plots where we can see goodnes of fit between the real data and what our model produces\n",
        "\n",
        "``` python\n",
        "import pandas as pd\n",
        "import seaborn as sns\n",
        "ax1 = sns.distplot(df['target'], hist=False, color='r', label='actual value')\n",
        "sns.distplot(Yhat, hist=False, color='b', label='Fitted values', ax=ax1)\n",
        "```\n"
      ],
      "metadata": {
        "id": "R1SpTdDrVdUX"
      }
    },
    {
      "cell_type": "markdown",
      "source": [
        "## Polynomial Regression and Pipelines\n",
        "When a linear model is not the best fit we can use a polynomial regression where the parameters use polynomical values; this is good for curval data instead of linear. Examples are:\n",
        "\n",
        "Quadratic model:\n",
        "\n",
        "$\\hat{Y} = b_0 + b_1x1 + b_2(x1)^2$\n",
        "\n",
        "Cubic model:\n",
        "\n",
        "$\\hat{Y} = b_0 + b_1x1 + b_2(x1)^2 + b_3(x1)^3$\n",
        "\n",
        "Etc...\n",
        "\n",
        "However we can see that in any case the relationship is linear, is just the variables the ones that are transformed while the parameters $b_1, ..., b_n$ remain linear.\n",
        "\n",
        "We can achieve this simply by using scikit-learn where we can for example transform our datasets. For example:\n",
        "\n",
        "X1 | X2 | X1X2 | X1X1 | X2X2\n",
        "--- | --- | --- | --- | ---\n",
        "1 | 2 | (1)(2) | 1 | 4\n",
        "\n",
        "Python ofers a way to do this quite simple with  scikit-learn:\n",
        "\n",
        "``` python\n",
        "import pandas as pd\n",
        "from sklearn.preprocessing import PolynomialFeatures\n",
        "pr = PolynomialFeatures(degree=2, include_bias=False)\n",
        "x_polly = pr.fit_transform(df[['X1','X2']])\n",
        "x_polly\n",
        "```\n",
        "\n",
        "Here we saw a preprocess to create new columns, another useful one is normalization where we can:\n",
        "\n",
        "``` python\n",
        "from sklearn.preprocessing import StandardScaler\n",
        "SCALE=StandardScaler()\n",
        "SCALE.fit(df[['X1','X2']])\n",
        "x_scale = SCALE.transform(df[['X1','X2']])\n",
        "```\n",
        "\n",
        "So far here we have described that we can transform our data for a better fit and how to normalize it, we want to do this with our dataset before moving it in into our RegressionLine; however, all of those steps can be simplified through a Pipeline from scikit-learn, which will not only simplify our process but also will help us to prevent data-leakage when doing ML.\n",
        "\n",
        "``` python\n",
        "import pandas as pd\n",
        "from sklearn.preprocessing import PolynomialFeatures\n",
        "from sklearn.preprocessing import StandarsScaler\n",
        "from sklearn.linear_model import LinearRegression\n",
        "from sklearn.pipeline import Pipeline\n",
        "\n",
        "Input=[\n",
        "  ('scale', StandardScaler()),\n",
        "  ('polynomial', PolynomialFeatures(degree=2)),\n",
        "  ('model'LinearRegression()),\n",
        "]\n",
        "\n",
        "pipe = Pipeline(Input)\n",
        "\n",
        "## Then we have the methods\n",
        "pipe.train(X,y)\n",
        "pipe.predict(X)\n",
        "```\n",
        "\n",
        "The code above takes the data from X and scale the data, then it does the polynomial transformation and then uses that data to create the linear regression."
      ],
      "metadata": {
        "id": "OFzfC3FiCVC6"
      }
    },
    {
      "cell_type": "markdown",
      "source": [
        "## Measures for In-Sample Evaluation\n",
        "To evaluate numerically our models we can use (for numericals):\n",
        "\n",
        "$MSE =  \\frac{1}{n} \\sum (y_i - \\hat{y}_i)^2 $\n",
        "\n",
        "$ R^2 = 1 - \\frac{\\sum (y_i - \\hat{y}_i)^2  }{ \\sum (y_i - \\bar{y}_i)^2} $\n",
        "\n",
        "The first metric measures the squared difference between the real value and what we predict; it is squared to prevent elimination between positive and negatives. The highier the value the larget the bias between our model and reality (less is better).\n",
        "\n",
        "The second metric is known as Coefficient of Dtermination and it measures how close the data is fitted to the regression line against a simple model our just the mean. Basically it compares how better or worst is the model versus the most simplistic model, the value follows between 0 and 1 (more is better).\n",
        "\n",
        "In python we use:\n",
        "\n",
        "``` python\n",
        "from sklearn.metrics import mean_squared_error\n",
        "# for MSE:\n",
        "mean_squared_error(actual_values, predict_values)\n",
        "# for R squared:\n",
        "lm.score(X,y)\n",
        "```\n"
      ],
      "metadata": {
        "id": "IFzIaEHQCXop"
      }
    },
    {
      "cell_type": "markdown",
      "source": [
        "## Prediction and Decision Making\n",
        "To determine if a model makes sense we have to do a combination of reviewing our numerical metrics; the visualizations to see goodnes of fit and to interpret if the values predicted makes sense.\n",
        "\n",
        "For the cases of linear regressions we can explore the regression plot to see how good it fits our data; we can also look at the residual plot to look if errors behave only as noise (random) or if they have a systematic failure mode. We can also compare the numerical values like MSE or $R^2$ to see how good our model is responding, another method is to use fake data to see if the results that is producing are coherent with the observed reality.\n",
        "\n",
        "At the end, one of the best methods to determine if a model is good or not is to run it against real data; now this might be a huge risk or a high cost for production data, and this is why we tend to use train sets for learning the data, validation sets to improve the model and test sets to review how the model behaves against unseen data. This method, however, still depends on the iteration of using the visualizations and numerical values to improve during the trainning and validation steps."
      ],
      "metadata": {
        "id": "T0EPzETMCamZ"
      }
    },
    {
      "cell_type": "markdown",
      "source": [
        "## LAB 4 - Model Development"
      ],
      "metadata": {
        "id": "xRiar3JzIPBS"
      }
    },
    {
      "cell_type": "markdown",
      "source": [
        "## 0. Setup"
      ],
      "metadata": {
        "id": "sBvVOiCFC-Iv"
      }
    },
    {
      "cell_type": "code",
      "source": [
        "import pandas as pd\n",
        "import numpy as np\n",
        "import matplotlib.pyplot as plt\n",
        "\n",
        "path = 'https://cf-courses-data.s3.us.cloud-object-storage.appdomain.cloud/IBMDeveloperSkillsNetwork-DA0101EN-SkillsNetwork/labs/Data%20files/automobileEDA.csv'\n",
        "# Import pandas library\n",
        "import pandas as pd\n",
        "\n",
        "# Read the online file by the URL provides above, and assign it to variable \"df\"\n",
        "df = pd.read_csv(path)\n",
        "df.head()"
      ],
      "metadata": {
        "colab": {
          "base_uri": "https://localhost:8080/",
          "height": 235
        },
        "id": "w8HHRViNDEFA",
        "outputId": "78073fb9-48c2-4720-f745-a9e8b6e4f698"
      },
      "execution_count": 1,
      "outputs": [
        {
          "output_type": "execute_result",
          "data": {
            "text/plain": [
              "   symboling  normalized-losses         make aspiration num-of-doors  \\\n",
              "0          3                122  alfa-romero        std          two   \n",
              "1          3                122  alfa-romero        std          two   \n",
              "2          1                122  alfa-romero        std          two   \n",
              "3          2                164         audi        std         four   \n",
              "4          2                164         audi        std         four   \n",
              "\n",
              "    body-style drive-wheels engine-location  wheel-base    length  ...  \\\n",
              "0  convertible          rwd           front        88.6  0.811148  ...   \n",
              "1  convertible          rwd           front        88.6  0.811148  ...   \n",
              "2    hatchback          rwd           front        94.5  0.822681  ...   \n",
              "3        sedan          fwd           front        99.8  0.848630  ...   \n",
              "4        sedan          4wd           front        99.4  0.848630  ...   \n",
              "\n",
              "   compression-ratio  horsepower  peak-rpm city-mpg highway-mpg    price  \\\n",
              "0                9.0       111.0    5000.0       21          27  13495.0   \n",
              "1                9.0       111.0    5000.0       21          27  16500.0   \n",
              "2                9.0       154.0    5000.0       19          26  16500.0   \n",
              "3               10.0       102.0    5500.0       24          30  13950.0   \n",
              "4                8.0       115.0    5500.0       18          22  17450.0   \n",
              "\n",
              "  city-L/100km  horsepower-binned  diesel  gas  \n",
              "0    11.190476             Medium       0    1  \n",
              "1    11.190476             Medium       0    1  \n",
              "2    12.368421             Medium       0    1  \n",
              "3     9.791667             Medium       0    1  \n",
              "4    13.055556             Medium       0    1  \n",
              "\n",
              "[5 rows x 29 columns]"
            ],
            "text/html": [
              "\n",
              "  <div id=\"df-2b20e7d3-ec72-4b4c-acd7-824e15563a71\">\n",
              "    <div class=\"colab-df-container\">\n",
              "      <div>\n",
              "<style scoped>\n",
              "    .dataframe tbody tr th:only-of-type {\n",
              "        vertical-align: middle;\n",
              "    }\n",
              "\n",
              "    .dataframe tbody tr th {\n",
              "        vertical-align: top;\n",
              "    }\n",
              "\n",
              "    .dataframe thead th {\n",
              "        text-align: right;\n",
              "    }\n",
              "</style>\n",
              "<table border=\"1\" class=\"dataframe\">\n",
              "  <thead>\n",
              "    <tr style=\"text-align: right;\">\n",
              "      <th></th>\n",
              "      <th>symboling</th>\n",
              "      <th>normalized-losses</th>\n",
              "      <th>make</th>\n",
              "      <th>aspiration</th>\n",
              "      <th>num-of-doors</th>\n",
              "      <th>body-style</th>\n",
              "      <th>drive-wheels</th>\n",
              "      <th>engine-location</th>\n",
              "      <th>wheel-base</th>\n",
              "      <th>length</th>\n",
              "      <th>...</th>\n",
              "      <th>compression-ratio</th>\n",
              "      <th>horsepower</th>\n",
              "      <th>peak-rpm</th>\n",
              "      <th>city-mpg</th>\n",
              "      <th>highway-mpg</th>\n",
              "      <th>price</th>\n",
              "      <th>city-L/100km</th>\n",
              "      <th>horsepower-binned</th>\n",
              "      <th>diesel</th>\n",
              "      <th>gas</th>\n",
              "    </tr>\n",
              "  </thead>\n",
              "  <tbody>\n",
              "    <tr>\n",
              "      <th>0</th>\n",
              "      <td>3</td>\n",
              "      <td>122</td>\n",
              "      <td>alfa-romero</td>\n",
              "      <td>std</td>\n",
              "      <td>two</td>\n",
              "      <td>convertible</td>\n",
              "      <td>rwd</td>\n",
              "      <td>front</td>\n",
              "      <td>88.6</td>\n",
              "      <td>0.811148</td>\n",
              "      <td>...</td>\n",
              "      <td>9.0</td>\n",
              "      <td>111.0</td>\n",
              "      <td>5000.0</td>\n",
              "      <td>21</td>\n",
              "      <td>27</td>\n",
              "      <td>13495.0</td>\n",
              "      <td>11.190476</td>\n",
              "      <td>Medium</td>\n",
              "      <td>0</td>\n",
              "      <td>1</td>\n",
              "    </tr>\n",
              "    <tr>\n",
              "      <th>1</th>\n",
              "      <td>3</td>\n",
              "      <td>122</td>\n",
              "      <td>alfa-romero</td>\n",
              "      <td>std</td>\n",
              "      <td>two</td>\n",
              "      <td>convertible</td>\n",
              "      <td>rwd</td>\n",
              "      <td>front</td>\n",
              "      <td>88.6</td>\n",
              "      <td>0.811148</td>\n",
              "      <td>...</td>\n",
              "      <td>9.0</td>\n",
              "      <td>111.0</td>\n",
              "      <td>5000.0</td>\n",
              "      <td>21</td>\n",
              "      <td>27</td>\n",
              "      <td>16500.0</td>\n",
              "      <td>11.190476</td>\n",
              "      <td>Medium</td>\n",
              "      <td>0</td>\n",
              "      <td>1</td>\n",
              "    </tr>\n",
              "    <tr>\n",
              "      <th>2</th>\n",
              "      <td>1</td>\n",
              "      <td>122</td>\n",
              "      <td>alfa-romero</td>\n",
              "      <td>std</td>\n",
              "      <td>two</td>\n",
              "      <td>hatchback</td>\n",
              "      <td>rwd</td>\n",
              "      <td>front</td>\n",
              "      <td>94.5</td>\n",
              "      <td>0.822681</td>\n",
              "      <td>...</td>\n",
              "      <td>9.0</td>\n",
              "      <td>154.0</td>\n",
              "      <td>5000.0</td>\n",
              "      <td>19</td>\n",
              "      <td>26</td>\n",
              "      <td>16500.0</td>\n",
              "      <td>12.368421</td>\n",
              "      <td>Medium</td>\n",
              "      <td>0</td>\n",
              "      <td>1</td>\n",
              "    </tr>\n",
              "    <tr>\n",
              "      <th>3</th>\n",
              "      <td>2</td>\n",
              "      <td>164</td>\n",
              "      <td>audi</td>\n",
              "      <td>std</td>\n",
              "      <td>four</td>\n",
              "      <td>sedan</td>\n",
              "      <td>fwd</td>\n",
              "      <td>front</td>\n",
              "      <td>99.8</td>\n",
              "      <td>0.848630</td>\n",
              "      <td>...</td>\n",
              "      <td>10.0</td>\n",
              "      <td>102.0</td>\n",
              "      <td>5500.0</td>\n",
              "      <td>24</td>\n",
              "      <td>30</td>\n",
              "      <td>13950.0</td>\n",
              "      <td>9.791667</td>\n",
              "      <td>Medium</td>\n",
              "      <td>0</td>\n",
              "      <td>1</td>\n",
              "    </tr>\n",
              "    <tr>\n",
              "      <th>4</th>\n",
              "      <td>2</td>\n",
              "      <td>164</td>\n",
              "      <td>audi</td>\n",
              "      <td>std</td>\n",
              "      <td>four</td>\n",
              "      <td>sedan</td>\n",
              "      <td>4wd</td>\n",
              "      <td>front</td>\n",
              "      <td>99.4</td>\n",
              "      <td>0.848630</td>\n",
              "      <td>...</td>\n",
              "      <td>8.0</td>\n",
              "      <td>115.0</td>\n",
              "      <td>5500.0</td>\n",
              "      <td>18</td>\n",
              "      <td>22</td>\n",
              "      <td>17450.0</td>\n",
              "      <td>13.055556</td>\n",
              "      <td>Medium</td>\n",
              "      <td>0</td>\n",
              "      <td>1</td>\n",
              "    </tr>\n",
              "  </tbody>\n",
              "</table>\n",
              "<p>5 rows × 29 columns</p>\n",
              "</div>\n",
              "      <button class=\"colab-df-convert\" onclick=\"convertToInteractive('df-2b20e7d3-ec72-4b4c-acd7-824e15563a71')\"\n",
              "              title=\"Convert this dataframe to an interactive table.\"\n",
              "              style=\"display:none;\">\n",
              "        \n",
              "  <svg xmlns=\"http://www.w3.org/2000/svg\" height=\"24px\"viewBox=\"0 0 24 24\"\n",
              "       width=\"24px\">\n",
              "    <path d=\"M0 0h24v24H0V0z\" fill=\"none\"/>\n",
              "    <path d=\"M18.56 5.44l.94 2.06.94-2.06 2.06-.94-2.06-.94-.94-2.06-.94 2.06-2.06.94zm-11 1L8.5 8.5l.94-2.06 2.06-.94-2.06-.94L8.5 2.5l-.94 2.06-2.06.94zm10 10l.94 2.06.94-2.06 2.06-.94-2.06-.94-.94-2.06-.94 2.06-2.06.94z\"/><path d=\"M17.41 7.96l-1.37-1.37c-.4-.4-.92-.59-1.43-.59-.52 0-1.04.2-1.43.59L10.3 9.45l-7.72 7.72c-.78.78-.78 2.05 0 2.83L4 21.41c.39.39.9.59 1.41.59.51 0 1.02-.2 1.41-.59l7.78-7.78 2.81-2.81c.8-.78.8-2.07 0-2.86zM5.41 20L4 18.59l7.72-7.72 1.47 1.35L5.41 20z\"/>\n",
              "  </svg>\n",
              "      </button>\n",
              "      \n",
              "  <style>\n",
              "    .colab-df-container {\n",
              "      display:flex;\n",
              "      flex-wrap:wrap;\n",
              "      gap: 12px;\n",
              "    }\n",
              "\n",
              "    .colab-df-convert {\n",
              "      background-color: #E8F0FE;\n",
              "      border: none;\n",
              "      border-radius: 50%;\n",
              "      cursor: pointer;\n",
              "      display: none;\n",
              "      fill: #1967D2;\n",
              "      height: 32px;\n",
              "      padding: 0 0 0 0;\n",
              "      width: 32px;\n",
              "    }\n",
              "\n",
              "    .colab-df-convert:hover {\n",
              "      background-color: #E2EBFA;\n",
              "      box-shadow: 0px 1px 2px rgba(60, 64, 67, 0.3), 0px 1px 3px 1px rgba(60, 64, 67, 0.15);\n",
              "      fill: #174EA6;\n",
              "    }\n",
              "\n",
              "    [theme=dark] .colab-df-convert {\n",
              "      background-color: #3B4455;\n",
              "      fill: #D2E3FC;\n",
              "    }\n",
              "\n",
              "    [theme=dark] .colab-df-convert:hover {\n",
              "      background-color: #434B5C;\n",
              "      box-shadow: 0px 1px 3px 1px rgba(0, 0, 0, 0.15);\n",
              "      filter: drop-shadow(0px 1px 2px rgba(0, 0, 0, 0.3));\n",
              "      fill: #FFFFFF;\n",
              "    }\n",
              "  </style>\n",
              "\n",
              "      <script>\n",
              "        const buttonEl =\n",
              "          document.querySelector('#df-2b20e7d3-ec72-4b4c-acd7-824e15563a71 button.colab-df-convert');\n",
              "        buttonEl.style.display =\n",
              "          google.colab.kernel.accessAllowed ? 'block' : 'none';\n",
              "\n",
              "        async function convertToInteractive(key) {\n",
              "          const element = document.querySelector('#df-2b20e7d3-ec72-4b4c-acd7-824e15563a71');\n",
              "          const dataTable =\n",
              "            await google.colab.kernel.invokeFunction('convertToInteractive',\n",
              "                                                     [key], {});\n",
              "          if (!dataTable) return;\n",
              "\n",
              "          const docLinkHtml = 'Like what you see? Visit the ' +\n",
              "            '<a target=\"_blank\" href=https://colab.research.google.com/notebooks/data_table.ipynb>data table notebook</a>'\n",
              "            + ' to learn more about interactive tables.';\n",
              "          element.innerHTML = '';\n",
              "          dataTable['output_type'] = 'display_data';\n",
              "          await google.colab.output.renderOutput(dataTable, element);\n",
              "          const docLink = document.createElement('div');\n",
              "          docLink.innerHTML = docLinkHtml;\n",
              "          element.appendChild(docLink);\n",
              "        }\n",
              "      </script>\n",
              "    </div>\n",
              "  </div>\n",
              "  "
            ]
          },
          "metadata": {},
          "execution_count": 1
        }
      ]
    },
    {
      "cell_type": "markdown",
      "source": [
        "## 1. Linear Regression and Multiple Linear Regression"
      ],
      "metadata": {
        "id": "67JXsasBDHQM"
      }
    },
    {
      "cell_type": "code",
      "source": [
        "from sklearn.linear_model import LinearRegression"
      ],
      "metadata": {
        "id": "KqcNxGRJDGtX"
      },
      "execution_count": 2,
      "outputs": []
    },
    {
      "cell_type": "markdown",
      "source": [
        "### Linear Regression"
      ],
      "metadata": {
        "id": "nGwAVjnTDSTJ"
      }
    },
    {
      "cell_type": "code",
      "source": [
        "lm = LinearRegression()\n",
        "lm"
      ],
      "metadata": {
        "colab": {
          "base_uri": "https://localhost:8080/"
        },
        "id": "zOw2GFskESzS",
        "outputId": "ffa5adf0-b015-4bc1-d544-be31ef29331c"
      },
      "execution_count": 3,
      "outputs": [
        {
          "output_type": "execute_result",
          "data": {
            "text/plain": [
              "LinearRegression()"
            ]
          },
          "metadata": {},
          "execution_count": 3
        }
      ]
    },
    {
      "cell_type": "code",
      "source": [
        "X = df[['highway-mpg']]\n",
        "Y = df['price']"
      ],
      "metadata": {
        "id": "kcxnvnGGEVGD"
      },
      "execution_count": 4,
      "outputs": []
    },
    {
      "cell_type": "code",
      "source": [
        "lm.fit(X,Y)"
      ],
      "metadata": {
        "colab": {
          "base_uri": "https://localhost:8080/"
        },
        "id": "8SiFINhGEWIf",
        "outputId": "6dbbcebc-0560-4277-c353-9370513788ec"
      },
      "execution_count": 5,
      "outputs": [
        {
          "output_type": "execute_result",
          "data": {
            "text/plain": [
              "LinearRegression()"
            ]
          },
          "metadata": {},
          "execution_count": 5
        }
      ]
    },
    {
      "cell_type": "code",
      "source": [
        "Yhat=lm.predict(X)\n",
        "Yhat[0:5]  "
      ],
      "metadata": {
        "colab": {
          "base_uri": "https://localhost:8080/"
        },
        "id": "lg71E5txEXNK",
        "outputId": "b5030a39-481e-448b-9430-0e413a6a604e"
      },
      "execution_count": 6,
      "outputs": [
        {
          "output_type": "execute_result",
          "data": {
            "text/plain": [
              "array([16236.50464347, 16236.50464347, 17058.23802179, 13771.3045085 ,\n",
              "       20345.17153508])"
            ]
          },
          "metadata": {},
          "execution_count": 6
        }
      ]
    },
    {
      "cell_type": "code",
      "source": [
        "lm.intercept_"
      ],
      "metadata": {
        "colab": {
          "base_uri": "https://localhost:8080/"
        },
        "id": "oHUTIfpkEZMK",
        "outputId": "00bec270-ab26-4fe0-b4fd-3df036fe0d8a"
      },
      "execution_count": 7,
      "outputs": [
        {
          "output_type": "execute_result",
          "data": {
            "text/plain": [
              "38423.3058581574"
            ]
          },
          "metadata": {},
          "execution_count": 7
        }
      ]
    },
    {
      "cell_type": "code",
      "source": [
        "lm.coef_"
      ],
      "metadata": {
        "colab": {
          "base_uri": "https://localhost:8080/"
        },
        "id": "prxAtXgkEazX",
        "outputId": "fc8111e8-de73-444a-d515-0e4a54c4d565"
      },
      "execution_count": 8,
      "outputs": [
        {
          "output_type": "execute_result",
          "data": {
            "text/plain": [
              "array([-821.73337832])"
            ]
          },
          "metadata": {},
          "execution_count": 8
        }
      ]
    },
    {
      "cell_type": "markdown",
      "source": [
        "<div class=\"alert alert-danger alertdanger\" style=\"margin-top: 20px\">\n",
        "<h1>Question #1 a): </h1>\n",
        "\n",
        "<b>Create a linear regression object called \"lm1\".</b>\n",
        "\n",
        "</div>"
      ],
      "metadata": {
        "id": "59EQ9ClCEeIh"
      }
    },
    {
      "cell_type": "code",
      "source": [
        "lm1 = LinearRegression()\n",
        "lm1"
      ],
      "metadata": {
        "colab": {
          "base_uri": "https://localhost:8080/"
        },
        "id": "OwfhoTaBEexZ",
        "outputId": "f17fcb13-032b-45a8-de22-fb389533cdf0"
      },
      "execution_count": 9,
      "outputs": [
        {
          "output_type": "execute_result",
          "data": {
            "text/plain": [
              "LinearRegression()"
            ]
          },
          "metadata": {},
          "execution_count": 9
        }
      ]
    },
    {
      "cell_type": "markdown",
      "source": [
        "<div class=\"alert alert-danger alertdanger\" style=\"margin-top: 20px\">\n",
        "<h1> Question #1 b): </h1>\n",
        "\n",
        "<b>Train the model using \"engine-size\" as the independent variable and \"price\" as the dependent variable?</b>\n",
        "\n",
        "</div>"
      ],
      "metadata": {
        "id": "AIF7TSx2ElZS"
      }
    },
    {
      "cell_type": "code",
      "source": [
        "lm1.fit(df[['engine-size']], df[['price']])\n",
        "lm1"
      ],
      "metadata": {
        "colab": {
          "base_uri": "https://localhost:8080/"
        },
        "id": "ADQTgidnEl4E",
        "outputId": "adb326c0-37dc-4cad-a5a2-c5d0b004bdde"
      },
      "execution_count": 10,
      "outputs": [
        {
          "output_type": "execute_result",
          "data": {
            "text/plain": [
              "LinearRegression()"
            ]
          },
          "metadata": {},
          "execution_count": 10
        }
      ]
    },
    {
      "cell_type": "markdown",
      "source": [
        "<div class=\"alert alert-danger alertdanger\" style=\"margin-top: 20px\">\n",
        "<h1>Question #1 c):</h1>\n",
        "\n",
        "<b>Find the slope and intercept of the model.</b>\n",
        "\n",
        "</div>"
      ],
      "metadata": {
        "id": "maF0idRyE1Wg"
      }
    },
    {
      "cell_type": "code",
      "source": [
        "lm1.coef_"
      ],
      "metadata": {
        "colab": {
          "base_uri": "https://localhost:8080/"
        },
        "id": "327hun3tE0l-",
        "outputId": "8dd4532a-7e0b-470f-dff3-814017e823e6"
      },
      "execution_count": 11,
      "outputs": [
        {
          "output_type": "execute_result",
          "data": {
            "text/plain": [
              "array([[166.86001569]])"
            ]
          },
          "metadata": {},
          "execution_count": 11
        }
      ]
    },
    {
      "cell_type": "code",
      "source": [
        "lm1.intercept_"
      ],
      "metadata": {
        "colab": {
          "base_uri": "https://localhost:8080/"
        },
        "id": "k_XVPfXUE7lo",
        "outputId": "cf413393-2662-4952-f8c6-47807f45df9d"
      },
      "execution_count": 12,
      "outputs": [
        {
          "output_type": "execute_result",
          "data": {
            "text/plain": [
              "array([-7963.33890628])"
            ]
          },
          "metadata": {},
          "execution_count": 12
        }
      ]
    },
    {
      "cell_type": "markdown",
      "source": [
        "<div class=\"alert alert-danger alertdanger\" style=\"margin-top: 20px\">\n",
        "<h1>Question #1 d): </h1>\n",
        "\n",
        "<b>What is the equation of the predicted line? You can use x and yhat or \"engine-size\" or \"price\".</b>\n",
        "\n",
        "</div>\n"
      ],
      "metadata": {
        "id": "rRBSpM8hE_f-"
      }
    },
    {
      "cell_type": "code",
      "source": [
        "Yhat = lm1.intercept_ + lm1.coef_[0]*X\n",
        "\n",
        "Price = lm1.intercept_ + lm1.coef_[0]*df['engine-size']"
      ],
      "metadata": {
        "id": "xMbbKYTfFANq"
      },
      "execution_count": 13,
      "outputs": []
    },
    {
      "cell_type": "markdown",
      "source": [
        "### Multiple Linear Regression"
      ],
      "metadata": {
        "id": "BKacYLt6DLO_"
      }
    },
    {
      "cell_type": "code",
      "source": [
        "Z = df[['horsepower', 'curb-weight', 'engine-size', 'highway-mpg']]"
      ],
      "metadata": {
        "id": "aada2_BSFWk8"
      },
      "execution_count": 14,
      "outputs": []
    },
    {
      "cell_type": "code",
      "source": [
        "lm.fit(Z, df['price'])"
      ],
      "metadata": {
        "colab": {
          "base_uri": "https://localhost:8080/"
        },
        "id": "NP33ks5bFYza",
        "outputId": "1bed38e1-7fee-48d2-e2b7-7365f082f090"
      },
      "execution_count": 15,
      "outputs": [
        {
          "output_type": "execute_result",
          "data": {
            "text/plain": [
              "LinearRegression()"
            ]
          },
          "metadata": {},
          "execution_count": 15
        }
      ]
    },
    {
      "cell_type": "code",
      "source": [
        "lm.intercept_"
      ],
      "metadata": {
        "colab": {
          "base_uri": "https://localhost:8080/"
        },
        "id": "v1F_wbmkFe-T",
        "outputId": "12c28d51-05fc-41b6-819e-822b72b43ee5"
      },
      "execution_count": 16,
      "outputs": [
        {
          "output_type": "execute_result",
          "data": {
            "text/plain": [
              "-15806.62462632922"
            ]
          },
          "metadata": {},
          "execution_count": 16
        }
      ]
    },
    {
      "cell_type": "code",
      "source": [
        "lm.coef_"
      ],
      "metadata": {
        "colab": {
          "base_uri": "https://localhost:8080/"
        },
        "id": "qkdN2O14FgNp",
        "outputId": "2130f30b-b924-415a-f3c7-33403f8f9d3c"
      },
      "execution_count": 17,
      "outputs": [
        {
          "output_type": "execute_result",
          "data": {
            "text/plain": [
              "array([53.49574423,  4.70770099, 81.53026382, 36.05748882])"
            ]
          },
          "metadata": {},
          "execution_count": 17
        }
      ]
    },
    {
      "cell_type": "markdown",
      "source": [
        "<div class=\"alert alert-danger alertdanger\" style=\"margin-top: 20px\">\n",
        "<h1> Question  #2 a): </h1>\n",
        "Create and train a Multiple Linear Regression model \"lm2\" where the response variable is \"price\", and the predictor variable is \"normalized-losses\" and  \"highway-mpg\".\n",
        "</div>\n"
      ],
      "metadata": {
        "id": "LHdTPQp5FnbC"
      }
    },
    {
      "cell_type": "code",
      "source": [
        "lm2 = LinearRegression()\n",
        "lm2.fit(df[['normalized-losses' , 'highway-mpg']],df['price'])"
      ],
      "metadata": {
        "colab": {
          "base_uri": "https://localhost:8080/"
        },
        "id": "1-xA16aPFpKa",
        "outputId": "8dfadd2c-5d92-4381-c802-a11a20763fce"
      },
      "execution_count": 18,
      "outputs": [
        {
          "output_type": "execute_result",
          "data": {
            "text/plain": [
              "LinearRegression()"
            ]
          },
          "metadata": {},
          "execution_count": 18
        }
      ]
    },
    {
      "cell_type": "markdown",
      "source": [
        "<div class=\"alert alert-danger alertdanger\" style=\"margin-top: 20px\">\n",
        "<h1>Question  #2 b): </h1>\n",
        "<b>Find the coefficient of the model.</b>\n",
        "</div>\n"
      ],
      "metadata": {
        "id": "M-q1Xu_VF8ZT"
      }
    },
    {
      "cell_type": "code",
      "source": [
        "lm2.coef_"
      ],
      "metadata": {
        "colab": {
          "base_uri": "https://localhost:8080/"
        },
        "id": "tqZOqGBwF9J6",
        "outputId": "5c0f6746-a998-40c3-ac18-3433c4b68293"
      },
      "execution_count": 19,
      "outputs": [
        {
          "output_type": "execute_result",
          "data": {
            "text/plain": [
              "array([   1.49789586, -820.45434016])"
            ]
          },
          "metadata": {},
          "execution_count": 19
        }
      ]
    },
    {
      "cell_type": "markdown",
      "source": [
        "## 2. Model Evaluation Using Visualization"
      ],
      "metadata": {
        "id": "pCsKu78NDYNp"
      }
    },
    {
      "cell_type": "markdown",
      "source": [
        "### Regression Plot"
      ],
      "metadata": {
        "id": "jsZOrmrMDaZs"
      }
    },
    {
      "cell_type": "code",
      "source": [
        "# import the visualization package: seaborn\n",
        "import seaborn as sns\n",
        "%matplotlib inline "
      ],
      "metadata": {
        "id": "rEW__f--GX4E"
      },
      "execution_count": 20,
      "outputs": []
    },
    {
      "cell_type": "code",
      "source": [
        "width = 12\n",
        "height = 10\n",
        "plt.figure(figsize=(width, height))\n",
        "sns.regplot(x=\"highway-mpg\", y=\"price\", data=df)\n",
        "plt.ylim(0,)"
      ],
      "metadata": {
        "colab": {
          "base_uri": "https://localhost:8080/",
          "height": 624
        },
        "id": "CYbKEwG6GY-5",
        "outputId": "e497a3ab-7151-4836-ddb0-e7f180791157"
      },
      "execution_count": 21,
      "outputs": [
        {
          "output_type": "execute_result",
          "data": {
            "text/plain": [
              "(0.0, 48166.295095902264)"
            ]
          },
          "metadata": {},
          "execution_count": 21
        },
        {
          "output_type": "display_data",
          "data": {
            "text/plain": [
              "<Figure size 864x720 with 1 Axes>"
            ],
            "image/png": "[encoded data removed]"
          },
          "metadata": {
            "needs_background": "light"
          }
        }
      ]
    },
    {
      "cell_type": "code",
      "source": [
        "plt.figure(figsize=(width, height))\n",
        "sns.regplot(x=\"peak-rpm\", y=\"price\", data=df)\n",
        "plt.ylim(0,)"
      ],
      "metadata": {
        "colab": {
          "base_uri": "https://localhost:8080/",
          "height": 624
        },
        "id": "7YZyffc2Gn7N",
        "outputId": "bfa834aa-cd16-4475-eae3-b190af980351"
      },
      "execution_count": 22,
      "outputs": [
        {
          "output_type": "execute_result",
          "data": {
            "text/plain": [
              "(0.0, 47414.1)"
            ]
          },
          "metadata": {},
          "execution_count": 22
        },
        {
          "output_type": "display_data",
          "data": {
            "text/plain": [
              "<Figure size 864x720 with 1 Axes>"
            ],
            "image/png": "[encoded data removed]"
          },
          "metadata": {
            "needs_background": "light"
          }
        }
      ]
    },
    {
      "cell_type": "markdown",
      "source": [
        "Question #3:\n",
        "Given the regression plots above, is \"peak-rpm\" or \"highway-mpg\" more strongly correlated with \"price\"? Use the method \".corr()\" to verify your answer."
      ],
      "metadata": {
        "id": "G6gX1GbdGp09"
      }
    },
    {
      "cell_type": "code",
      "source": [
        "df[['peak-rpm', 'highway-mpg', 'price']].corr()"
      ],
      "metadata": {
        "colab": {
          "base_uri": "https://localhost:8080/",
          "height": 143
        },
        "id": "Z-2e3lB0GqkV",
        "outputId": "ef5da77d-ba48-4757-d9ee-d56480f4f5dc"
      },
      "execution_count": 23,
      "outputs": [
        {
          "output_type": "execute_result",
          "data": {
            "text/plain": [
              "             peak-rpm  highway-mpg     price\n",
              "peak-rpm     1.000000    -0.058598 -0.101616\n",
              "highway-mpg -0.058598     1.000000 -0.704692\n",
              "price       -0.101616    -0.704692  1.000000"
            ],
            "text/html": [
              "\n",
              "  <div id=\"df-32e19823-a249-45ec-8b82-298a02135d23\">\n",
              "    <div class=\"colab-df-container\">\n",
              "      <div>\n",
              "<style scoped>\n",
              "    .dataframe tbody tr th:only-of-type {\n",
              "        vertical-align: middle;\n",
              "    }\n",
              "\n",
              "    .dataframe tbody tr th {\n",
              "        vertical-align: top;\n",
              "    }\n",
              "\n",
              "    .dataframe thead th {\n",
              "        text-align: right;\n",
              "    }\n",
              "</style>\n",
              "<table border=\"1\" class=\"dataframe\">\n",
              "  <thead>\n",
              "    <tr style=\"text-align: right;\">\n",
              "      <th></th>\n",
              "      <th>peak-rpm</th>\n",
              "      <th>highway-mpg</th>\n",
              "      <th>price</th>\n",
              "    </tr>\n",
              "  </thead>\n",
              "  <tbody>\n",
              "    <tr>\n",
              "      <th>peak-rpm</th>\n",
              "      <td>1.000000</td>\n",
              "      <td>-0.058598</td>\n",
              "      <td>-0.101616</td>\n",
              "    </tr>\n",
              "    <tr>\n",
              "      <th>highway-mpg</th>\n",
              "      <td>-0.058598</td>\n",
              "      <td>1.000000</td>\n",
              "      <td>-0.704692</td>\n",
              "    </tr>\n",
              "    <tr>\n",
              "      <th>price</th>\n",
              "      <td>-0.101616</td>\n",
              "      <td>-0.704692</td>\n",
              "      <td>1.000000</td>\n",
              "    </tr>\n",
              "  </tbody>\n",
              "</table>\n",
              "</div>\n",
              "      <button class=\"colab-df-convert\" onclick=\"convertToInteractive('df-32e19823-a249-45ec-8b82-298a02135d23')\"\n",
              "              title=\"Convert this dataframe to an interactive table.\"\n",
              "              style=\"display:none;\">\n",
              "        \n",
              "  <svg xmlns=\"http://www.w3.org/2000/svg\" height=\"24px\"viewBox=\"0 0 24 24\"\n",
              "       width=\"24px\">\n",
              "    <path d=\"M0 0h24v24H0V0z\" fill=\"none\"/>\n",
              "    <path d=\"M18.56 5.44l.94 2.06.94-2.06 2.06-.94-2.06-.94-.94-2.06-.94 2.06-2.06.94zm-11 1L8.5 8.5l.94-2.06 2.06-.94-2.06-.94L8.5 2.5l-.94 2.06-2.06.94zm10 10l.94 2.06.94-2.06 2.06-.94-2.06-.94-.94-2.06-.94 2.06-2.06.94z\"/><path d=\"M17.41 7.96l-1.37-1.37c-.4-.4-.92-.59-1.43-.59-.52 0-1.04.2-1.43.59L10.3 9.45l-7.72 7.72c-.78.78-.78 2.05 0 2.83L4 21.41c.39.39.9.59 1.41.59.51 0 1.02-.2 1.41-.59l7.78-7.78 2.81-2.81c.8-.78.8-2.07 0-2.86zM5.41 20L4 18.59l7.72-7.72 1.47 1.35L5.41 20z\"/>\n",
              "  </svg>\n",
              "      </button>\n",
              "      \n",
              "  <style>\n",
              "    .colab-df-container {\n",
              "      display:flex;\n",
              "      flex-wrap:wrap;\n",
              "      gap: 12px;\n",
              "    }\n",
              "\n",
              "    .colab-df-convert {\n",
              "      background-color: #E8F0FE;\n",
              "      border: none;\n",
              "      border-radius: 50%;\n",
              "      cursor: pointer;\n",
              "      display: none;\n",
              "      fill: #1967D2;\n",
              "      height: 32px;\n",
              "      padding: 0 0 0 0;\n",
              "      width: 32px;\n",
              "    }\n",
              "\n",
              "    .colab-df-convert:hover {\n",
              "      background-color: #E2EBFA;\n",
              "      box-shadow: 0px 1px 2px rgba(60, 64, 67, 0.3), 0px 1px 3px 1px rgba(60, 64, 67, 0.15);\n",
              "      fill: #174EA6;\n",
              "    }\n",
              "\n",
              "    [theme=dark] .colab-df-convert {\n",
              "      background-color: #3B4455;\n",
              "      fill: #D2E3FC;\n",
              "    }\n",
              "\n",
              "    [theme=dark] .colab-df-convert:hover {\n",
              "      background-color: #434B5C;\n",
              "      box-shadow: 0px 1px 3px 1px rgba(0, 0, 0, 0.15);\n",
              "      filter: drop-shadow(0px 1px 2px rgba(0, 0, 0, 0.3));\n",
              "      fill: #FFFFFF;\n",
              "    }\n",
              "  </style>\n",
              "\n",
              "      <script>\n",
              "        const buttonEl =\n",
              "          document.querySelector('#df-32e19823-a249-45ec-8b82-298a02135d23 button.colab-df-convert');\n",
              "        buttonEl.style.display =\n",
              "          google.colab.kernel.accessAllowed ? 'block' : 'none';\n",
              "\n",
              "        async function convertToInteractive(key) {\n",
              "          const element = document.querySelector('#df-32e19823-a249-45ec-8b82-298a02135d23');\n",
              "          const dataTable =\n",
              "            await google.colab.kernel.invokeFunction('convertToInteractive',\n",
              "                                                     [key], {});\n",
              "          if (!dataTable) return;\n",
              "\n",
              "          const docLinkHtml = 'Like what you see? Visit the ' +\n",
              "            '<a target=\"_blank\" href=https://colab.research.google.com/notebooks/data_table.ipynb>data table notebook</a>'\n",
              "            + ' to learn more about interactive tables.';\n",
              "          element.innerHTML = '';\n",
              "          dataTable['output_type'] = 'display_data';\n",
              "          await google.colab.output.renderOutput(dataTable, element);\n",
              "          const docLink = document.createElement('div');\n",
              "          docLink.innerHTML = docLinkHtml;\n",
              "          element.appendChild(docLink);\n",
              "        }\n",
              "      </script>\n",
              "    </div>\n",
              "  </div>\n",
              "  "
            ]
          },
          "metadata": {},
          "execution_count": 23
        }
      ]
    },
    {
      "cell_type": "markdown",
      "source": [
        "### Residual Plot"
      ],
      "metadata": {
        "id": "A4G4DOsADdcg"
      }
    },
    {
      "cell_type": "code",
      "source": [
        "width = 12\n",
        "height = 10\n",
        "plt.figure(figsize=(width, height))\n",
        "sns.residplot(x=df['highway-mpg'],y=df['price'])\n",
        "plt.show()"
      ],
      "metadata": {
        "colab": {
          "base_uri": "https://localhost:8080/",
          "height": 606
        },
        "id": "A80Qd9jrGysb",
        "outputId": "4062550f-97c8-4523-9d8e-bc3fcfcf2789"
      },
      "execution_count": 24,
      "outputs": [
        {
          "output_type": "display_data",
          "data": {
            "text/plain": [
              "<Figure size 864x720 with 1 Axes>"
            ],
            "image/png": "[encoded data removed]"
          },
          "metadata": {
            "needs_background": "light"
          }
        }
      ]
    },
    {
      "cell_type": "markdown",
      "source": [
        "### Multiple Linear Regression"
      ],
      "metadata": {
        "id": "4UT_YjtsDgY-"
      }
    },
    {
      "cell_type": "code",
      "source": [
        "Y_hat = lm.predict(Z)"
      ],
      "metadata": {
        "id": "sI6tVwHlG2FD"
      },
      "execution_count": 25,
      "outputs": []
    },
    {
      "cell_type": "code",
      "source": [
        "import warnings\n",
        "with warnings.catch_warnings():\n",
        "    warnings.simplefilter(action='ignore', category=FutureWarning)\n",
        "    plt.figure(figsize=(width, height))\n",
        "\n",
        "    ax1 = sns.distplot(df['price'], hist=False, color=\"r\", label=\"Actual Value\")\n",
        "    sns.distplot(Y_hat, hist=False, color=\"b\", label=\"Fitted Values\" , ax=ax1)\n",
        "\n",
        "\n",
        "    plt.title('Actual vs Fitted Values for Price')\n",
        "    plt.xlabel('Price (in dollars)')\n",
        "    plt.ylabel('Proportion of Cars')\n",
        "\n",
        "    plt.show()\n",
        "    plt.close()"
      ],
      "metadata": {
        "colab": {
          "base_uri": "https://localhost:8080/",
          "height": 621
        },
        "id": "amRMmT_aG4fY",
        "outputId": "0d6307e2-00f4-435c-ee16-e6b7bf95ea64"
      },
      "execution_count": 26,
      "outputs": [
        {
          "output_type": "display_data",
          "data": {
            "text/plain": [
              "<Figure size 864x720 with 1 Axes>"
            ],
            "image/png": "[encoded data removed]"
          },
          "metadata": {
            "needs_background": "light"
          }
        }
      ]
    },
    {
      "cell_type": "markdown",
      "source": [
        "## 3. Polynomial Regression and Pipelines"
      ],
      "metadata": {
        "id": "qJLhw_PMDi-0"
      }
    },
    {
      "cell_type": "markdown",
      "source": [
        "### Polynomial regression"
      ],
      "metadata": {
        "id": "l0ncDwXaDo2z"
      }
    },
    {
      "cell_type": "code",
      "source": [
        "def PlotPolly(model, independent_variable, dependent_variabble, Name):\n",
        "    x_new = np.linspace(15, 55, 100)\n",
        "    y_new = model(x_new)\n",
        "\n",
        "    plt.plot(independent_variable, dependent_variabble, '.', x_new, y_new, '-')\n",
        "    plt.title('Polynomial Fit with Matplotlib for Price ~ Length')\n",
        "    ax = plt.gca()\n",
        "    ax.set_facecolor((0.898, 0.898, 0.898))\n",
        "    fig = plt.gcf()\n",
        "    plt.xlabel(Name)\n",
        "    plt.ylabel('Price of Cars')\n",
        "\n",
        "    plt.show()\n",
        "    plt.close()"
      ],
      "metadata": {
        "id": "4ULuYoSWHk6r"
      },
      "execution_count": 27,
      "outputs": []
    },
    {
      "cell_type": "code",
      "source": [
        "x = df['highway-mpg']\n",
        "y = df['price']"
      ],
      "metadata": {
        "id": "-YJ--wvvHmvG"
      },
      "execution_count": 28,
      "outputs": []
    },
    {
      "cell_type": "code",
      "source": [
        "# Here we use a polynomial of the 3rd order (cubic) \n",
        "f = np.polyfit(x, y, 3)\n",
        "p = np.poly1d(f)\n",
        "print(p)"
      ],
      "metadata": {
        "colab": {
          "base_uri": "https://localhost:8080/"
        },
        "id": "BXio3_Y_HpXo",
        "outputId": "e9ce25f2-ae89-4745-ba25-28bcf233a598"
      },
      "execution_count": 29,
      "outputs": [
        {
          "output_type": "stream",
          "name": "stdout",
          "text": [
            "        3         2\n",
            "-1.557 x + 204.8 x - 8965 x + 1.379e+05\n"
          ]
        }
      ]
    },
    {
      "cell_type": "code",
      "source": [
        "PlotPolly(p, x, y, 'highway-mpg')"
      ],
      "metadata": {
        "colab": {
          "base_uri": "https://localhost:8080/",
          "height": 295
        },
        "id": "XCF7fs9cHrwv",
        "outputId": "f4fdbc00-e806-459b-b517-8e5ee37ca2ef"
      },
      "execution_count": 30,
      "outputs": [
        {
          "output_type": "display_data",
          "data": {
            "text/plain": [
              "<Figure size 432x288 with 1 Axes>"
            ],
            "image/png": "[encoded data removed]"
          },
          "metadata": {
            "needs_background": "light"
          }
        }
      ]
    },
    {
      "cell_type": "code",
      "source": [
        "np.polyfit(x, y, 3)"
      ],
      "metadata": {
        "colab": {
          "base_uri": "https://localhost:8080/"
        },
        "id": "x6sAHcUWHuRG",
        "outputId": "6d9a555b-13e0-43c3-a72c-6347e2b13277"
      },
      "execution_count": 31,
      "outputs": [
        {
          "output_type": "execute_result",
          "data": {
            "text/plain": [
              "array([-1.55663829e+00,  2.04754306e+02, -8.96543312e+03,  1.37923594e+05])"
            ]
          },
          "metadata": {},
          "execution_count": 31
        }
      ]
    },
    {
      "cell_type": "markdown",
      "source": [
        "<div class=\"alert alert-danger alertdanger\" style=\"margin-top: 20px\">\n",
        "<h1>Question  #4:</h1>\n",
        "<b>Create 11 order polynomial model with the variables x and y from above.</b>\n",
        "</div>\n"
      ],
      "metadata": {
        "id": "RVxDmtK9HxCL"
      }
    },
    {
      "cell_type": "code",
      "source": [
        "f1 = np.polyfit(x, y, 11)\n",
        "p1 = np.poly1d(f1)\n",
        "print(p1)\n",
        "PlotPolly(p1, x, y, 'Highway MPG')"
      ],
      "metadata": {
        "colab": {
          "base_uri": "https://localhost:8080/",
          "height": 368
        },
        "id": "lPRSpgA3HxpB",
        "outputId": "aa98bcdd-8d47-4389-d0f5-3e5f56f0899c"
      },
      "execution_count": 32,
      "outputs": [
        {
          "output_type": "stream",
          "name": "stdout",
          "text": [
            "            11             10             9           8         7\n",
            "-1.243e-08 x  + 4.722e-06 x  - 0.0008028 x + 0.08056 x - 5.297 x\n",
            "          6        5             4             3             2\n",
            " + 239.5 x - 7588 x + 1.684e+05 x - 2.565e+06 x + 2.551e+07 x - 1.491e+08 x + 3.879e+08\n"
          ]
        },
        {
          "output_type": "display_data",
          "data": {
            "text/plain": [
              "<Figure size 432x288 with 1 Axes>"
            ],
            "image/png": "[encoded data removed]"
          },
          "metadata": {
            "needs_background": "light"
          }
        }
      ]
    },
    {
      "cell_type": "code",
      "source": [
        "from sklearn.preprocessing import PolynomialFeatures"
      ],
      "metadata": {
        "id": "nIKMPuyyIG5n"
      },
      "execution_count": 33,
      "outputs": []
    },
    {
      "cell_type": "code",
      "source": [
        "pr=PolynomialFeatures(degree=2)\n",
        "pr"
      ],
      "metadata": {
        "colab": {
          "base_uri": "https://localhost:8080/"
        },
        "id": "Nhy_Qg-8IH62",
        "outputId": "0ab6b6eb-0a6c-475c-cc8f-6f33a43730c2"
      },
      "execution_count": 34,
      "outputs": [
        {
          "output_type": "execute_result",
          "data": {
            "text/plain": [
              "PolynomialFeatures()"
            ]
          },
          "metadata": {},
          "execution_count": 34
        }
      ]
    },
    {
      "cell_type": "code",
      "source": [
        "Z_pr=pr.fit_transform(Z)"
      ],
      "metadata": {
        "id": "0FjEB6enIJSV"
      },
      "execution_count": 35,
      "outputs": []
    },
    {
      "cell_type": "code",
      "source": [
        "Z.shape"
      ],
      "metadata": {
        "colab": {
          "base_uri": "https://localhost:8080/"
        },
        "id": "ie7LfIdXILSV",
        "outputId": "7c4dbeec-5784-48d1-d8bb-f85b5844d67f"
      },
      "execution_count": 36,
      "outputs": [
        {
          "output_type": "execute_result",
          "data": {
            "text/plain": [
              "(201, 4)"
            ]
          },
          "metadata": {},
          "execution_count": 36
        }
      ]
    },
    {
      "cell_type": "code",
      "source": [
        "Z_pr.shape"
      ],
      "metadata": {
        "colab": {
          "base_uri": "https://localhost:8080/"
        },
        "id": "cUFk8I5MIMiX",
        "outputId": "3269510a-844d-46a1-9fc2-0b07db5edb7d"
      },
      "execution_count": 37,
      "outputs": [
        {
          "output_type": "execute_result",
          "data": {
            "text/plain": [
              "(201, 15)"
            ]
          },
          "metadata": {},
          "execution_count": 37
        }
      ]
    },
    {
      "cell_type": "markdown",
      "source": [
        "### Pipeline"
      ],
      "metadata": {
        "id": "DtXtO-m7DrE8"
      }
    },
    {
      "cell_type": "code",
      "source": [
        "from sklearn.pipeline import Pipeline\n",
        "from sklearn.preprocessing import StandardScaler"
      ],
      "metadata": {
        "id": "o3RkmqjTIdmE"
      },
      "execution_count": 38,
      "outputs": []
    },
    {
      "cell_type": "code",
      "source": [
        "Input=[\n",
        "    ('scale',StandardScaler()),\n",
        "    ('polynomial', PolynomialFeatures(include_bias=False)),\n",
        "    ('model',LinearRegression())\n",
        "]"
      ],
      "metadata": {
        "id": "4w_M3PVqIaqb"
      },
      "execution_count": 39,
      "outputs": []
    },
    {
      "cell_type": "code",
      "source": [
        "pipe=Pipeline(Input)\n",
        "pipe"
      ],
      "metadata": {
        "colab": {
          "base_uri": "https://localhost:8080/"
        },
        "id": "Ruky5Q3rIiKC",
        "outputId": "f8df2453-aa5a-4bf0-bf95-4deb9daae956"
      },
      "execution_count": 40,
      "outputs": [
        {
          "output_type": "execute_result",
          "data": {
            "text/plain": [
              "Pipeline(steps=[('scale', StandardScaler()),\n",
              "                ('polynomial', PolynomialFeatures(include_bias=False)),\n",
              "                ('model', LinearRegression())])"
            ]
          },
          "metadata": {},
          "execution_count": 40
        }
      ]
    },
    {
      "cell_type": "code",
      "source": [
        "Z = Z.astype(float)\n",
        "pipe.fit(Z,df['price'])"
      ],
      "metadata": {
        "colab": {
          "base_uri": "https://localhost:8080/"
        },
        "id": "1tpIxcvXIjvU",
        "outputId": "141e81a9-5e89-459b-e6cd-5583b0286baa"
      },
      "execution_count": 41,
      "outputs": [
        {
          "output_type": "execute_result",
          "data": {
            "text/plain": [
              "Pipeline(steps=[('scale', StandardScaler()),\n",
              "                ('polynomial', PolynomialFeatures(include_bias=False)),\n",
              "                ('model', LinearRegression())])"
            ]
          },
          "metadata": {},
          "execution_count": 41
        }
      ]
    },
    {
      "cell_type": "code",
      "source": [
        "ypipe=pipe.predict(Z)\n",
        "ypipe[0:4]"
      ],
      "metadata": {
        "colab": {
          "base_uri": "https://localhost:8080/"
        },
        "id": "VGpv81CvIvm2",
        "outputId": "baaf97b0-3fc4-48dd-8e5b-26e191157cce"
      },
      "execution_count": 42,
      "outputs": [
        {
          "output_type": "execute_result",
          "data": {
            "text/plain": [
              "array([13102.74784201, 13102.74784201, 18225.54572197, 10390.29636555])"
            ]
          },
          "metadata": {},
          "execution_count": 42
        }
      ]
    },
    {
      "cell_type": "markdown",
      "source": [
        "<div class=\"alert alert-danger alertdanger\" style=\"margin-top: 20px\">\n",
        "<h1>Question #5:</h1>\n",
        "<b>Create a pipeline that standardizes the data, then produce a prediction using a linear regression model using the features Z and target y.</b>\n",
        "</div>\n"
      ],
      "metadata": {
        "id": "ij37quLTIxld"
      }
    },
    {
      "cell_type": "code",
      "source": [
        "Input=[\n",
        "    ('scale',StandardScaler()),\n",
        "    ('model',LinearRegression())\n",
        "]\n",
        "\n",
        "pipe=Pipeline(Input)\n",
        "\n",
        "pipe.fit(Z,y)\n",
        "\n",
        "ypipe=pipe.predict(Z)\n",
        "ypipe[0:10]"
      ],
      "metadata": {
        "colab": {
          "base_uri": "https://localhost:8080/"
        },
        "id": "NnxB0iV2JQv4",
        "outputId": "ee4c25fd-1bbb-426e-d19f-7e0dee1afbbe"
      },
      "execution_count": 43,
      "outputs": [
        {
          "output_type": "execute_result",
          "data": {
            "text/plain": [
              "array([13699.11161184, 13699.11161184, 19051.65470233, 10620.36193015,\n",
              "       15521.31420211, 13869.66673213, 15456.16196732, 15974.00907672,\n",
              "       17612.35917161, 10722.32509097])"
            ]
          },
          "metadata": {},
          "execution_count": 43
        }
      ]
    },
    {
      "cell_type": "markdown",
      "source": [
        "## 4. Measures for In-Sample Evaluation"
      ],
      "metadata": {
        "id": "hOM8PQxSDuKv"
      }
    },
    {
      "cell_type": "markdown",
      "source": [
        "### Model 1: Simple Linear Regression"
      ],
      "metadata": {
        "id": "Yc16FFwhDx5I"
      }
    },
    {
      "cell_type": "code",
      "source": [
        "#highway_mpg_fit\n",
        "lm.fit(X, Y)\n",
        "# Find the R^2\n",
        "print('The R-square is: ', lm.score(X, Y))"
      ],
      "metadata": {
        "colab": {
          "base_uri": "https://localhost:8080/"
        },
        "id": "Y0KrnxqyMOEW",
        "outputId": "eb56e630-768b-44da-c6a1-19f524239011"
      },
      "execution_count": 44,
      "outputs": [
        {
          "output_type": "stream",
          "name": "stdout",
          "text": [
            "The R-square is:  0.4965911884339176\n"
          ]
        }
      ]
    },
    {
      "cell_type": "code",
      "source": [
        "Yhat=lm.predict(X)\n",
        "print('The output of the first four predicted value is: ', Yhat[0:4])"
      ],
      "metadata": {
        "colab": {
          "base_uri": "https://localhost:8080/"
        },
        "id": "gq9_ULFyMQCm",
        "outputId": "6328b7a0-3f66-4ee5-dac3-1e38b12293fc"
      },
      "execution_count": 45,
      "outputs": [
        {
          "output_type": "stream",
          "name": "stdout",
          "text": [
            "The output of the first four predicted value is:  [16236.50464347 16236.50464347 17058.23802179 13771.3045085 ]\n"
          ]
        }
      ]
    },
    {
      "cell_type": "code",
      "source": [
        "from sklearn.metrics import mean_squared_error"
      ],
      "metadata": {
        "id": "MQ-tZWS7MSPY"
      },
      "execution_count": 46,
      "outputs": []
    },
    {
      "cell_type": "code",
      "source": [
        "mse = mean_squared_error(df['price'], Yhat)\n",
        "print('The mean square error of price and predicted value is: ', mse)"
      ],
      "metadata": {
        "colab": {
          "base_uri": "https://localhost:8080/"
        },
        "id": "6VjQGB86MTj2",
        "outputId": "93a4dd45-eebc-46f7-ae72-e888be49cdd4"
      },
      "execution_count": 47,
      "outputs": [
        {
          "output_type": "stream",
          "name": "stdout",
          "text": [
            "The mean square error of price and predicted value is:  31635042.944639888\n"
          ]
        }
      ]
    },
    {
      "cell_type": "markdown",
      "source": [
        "### Model 2: Multiple Linear Regression"
      ],
      "metadata": {
        "id": "wVNUA-7cDz2c"
      }
    },
    {
      "cell_type": "code",
      "source": [
        "# fit the model \n",
        "lm.fit(Z, df['price'])\n",
        "# Find the R^2\n",
        "print('The R-square is: ', lm.score(Z, df['price']))"
      ],
      "metadata": {
        "colab": {
          "base_uri": "https://localhost:8080/"
        },
        "id": "P_gTe1AcMW2c",
        "outputId": "d1305fc5-dcb5-4961-fadd-08cbfd7efa59"
      },
      "execution_count": 48,
      "outputs": [
        {
          "output_type": "stream",
          "name": "stdout",
          "text": [
            "The R-square is:  0.8093562806577457\n"
          ]
        }
      ]
    },
    {
      "cell_type": "code",
      "source": [
        "Y_predict_multifit = lm.predict(Z)"
      ],
      "metadata": {
        "id": "KlNTMgZuMYaw"
      },
      "execution_count": 49,
      "outputs": []
    },
    {
      "cell_type": "code",
      "source": [
        "print('The mean square error of price and predicted value using multifit is: ', \\\n",
        "      mean_squared_error(df['price'], Y_predict_multifit))"
      ],
      "metadata": {
        "colab": {
          "base_uri": "https://localhost:8080/"
        },
        "id": "wdUz3A6rMZns",
        "outputId": "03fd066f-dc3a-46a7-9e95-f19713b0cdf5"
      },
      "execution_count": 50,
      "outputs": [
        {
          "output_type": "stream",
          "name": "stdout",
          "text": [
            "The mean square error of price and predicted value using multifit is:  11980366.87072649\n"
          ]
        }
      ]
    },
    {
      "cell_type": "markdown",
      "source": [
        "### Model 3: Polynomial Fit"
      ],
      "metadata": {
        "id": "z2VbbcXKD2Wd"
      }
    },
    {
      "cell_type": "code",
      "source": [
        "from sklearn.metrics import r2_score"
      ],
      "metadata": {
        "id": "w8gL0IEmMbqy"
      },
      "execution_count": 51,
      "outputs": []
    },
    {
      "cell_type": "code",
      "source": [
        "r_squared = r2_score(y, p(x))\n",
        "print('The R-square value is: ', r_squared)"
      ],
      "metadata": {
        "colab": {
          "base_uri": "https://localhost:8080/"
        },
        "id": "WEyVGYCkMc8Q",
        "outputId": "6a0370ff-52cb-4220-874b-eede10d0b0e6"
      },
      "execution_count": 52,
      "outputs": [
        {
          "output_type": "stream",
          "name": "stdout",
          "text": [
            "The R-square value is:  0.674194666390652\n"
          ]
        }
      ]
    },
    {
      "cell_type": "markdown",
      "source": [
        "### MSE"
      ],
      "metadata": {
        "id": "LRBJYmFxD4vU"
      }
    },
    {
      "cell_type": "code",
      "source": [
        "mean_squared_error(df['price'], p(x))"
      ],
      "metadata": {
        "colab": {
          "base_uri": "https://localhost:8080/"
        },
        "id": "DptX82gvMfAz",
        "outputId": "085db6a0-08f0-4ec9-dc75-4ceeefd95e71"
      },
      "execution_count": 53,
      "outputs": [
        {
          "output_type": "execute_result",
          "data": {
            "text/plain": [
              "20474146.426361218"
            ]
          },
          "metadata": {},
          "execution_count": 53
        }
      ]
    },
    {
      "cell_type": "markdown",
      "source": [
        "## 5. Prediction and Decision Making"
      ],
      "metadata": {
        "id": "JLuqfaAGD7Dg"
      }
    },
    {
      "cell_type": "markdown",
      "source": [
        "### Prediction"
      ],
      "metadata": {
        "id": "4peWhrAzMlYk"
      }
    },
    {
      "cell_type": "code",
      "source": [
        "import matplotlib.pyplot as plt\n",
        "import numpy as np\n",
        "\n",
        "%matplotlib inline "
      ],
      "metadata": {
        "id": "SCsRnxiOMmlj"
      },
      "execution_count": 54,
      "outputs": []
    },
    {
      "cell_type": "code",
      "source": [
        "new_input=np.arange(1, 100, 1).reshape(-1, 1)"
      ],
      "metadata": {
        "id": "XUzKaQi_Mnvi"
      },
      "execution_count": 55,
      "outputs": []
    },
    {
      "cell_type": "code",
      "source": [
        "lm.fit(X, Y)\n",
        "lm"
      ],
      "metadata": {
        "colab": {
          "base_uri": "https://localhost:8080/"
        },
        "id": "ynV05ZGOMonv",
        "outputId": "76d4c2b4-5116-43b0-9efc-ce363814e784"
      },
      "execution_count": 56,
      "outputs": [
        {
          "output_type": "execute_result",
          "data": {
            "text/plain": [
              "LinearRegression()"
            ]
          },
          "metadata": {},
          "execution_count": 56
        }
      ]
    },
    {
      "cell_type": "code",
      "source": [
        "yhat=lm.predict(new_input)\n",
        "yhat[0:5]"
      ],
      "metadata": {
        "colab": {
          "base_uri": "https://localhost:8080/"
        },
        "id": "qdtpXBeUMp5P",
        "outputId": "2a2b1692-d097-47fb-bad3-4fb263e88065"
      },
      "execution_count": 57,
      "outputs": [
        {
          "output_type": "stream",
          "name": "stderr",
          "text": [
            "/usr/local/lib/python3.7/dist-packages/sklearn/base.py:451: UserWarning: X does not have valid feature names, but LinearRegression was fitted with feature names\n",
            "  \"X does not have valid feature names, but\"\n"
          ]
        },
        {
          "output_type": "execute_result",
          "data": {
            "text/plain": [
              "array([37601.57247984, 36779.83910151, 35958.10572319, 35136.37234487,\n",
              "       34314.63896655])"
            ]
          },
          "metadata": {},
          "execution_count": 57
        }
      ]
    },
    {
      "cell_type": "code",
      "source": [
        "plt.plot(new_input, yhat)\n",
        "plt.show()"
      ],
      "metadata": {
        "colab": {
          "base_uri": "https://localhost:8080/",
          "height": 265
        },
        "id": "mHZqVw8aMs0K",
        "outputId": "f192799f-5a9e-407d-ce25-f6082ced9fc4"
      },
      "execution_count": 58,
      "outputs": [
        {
          "output_type": "display_data",
          "data": {
            "text/plain": [
              "<Figure size 432x288 with 1 Axes>"
            ],
            "image/png": "[encoded data removed]"
          },
          "metadata": {
            "needs_background": "light"
          }
        }
      ]
    },
    {
      "cell_type": "markdown",
      "source": [
        "![image.png](data:image/png;base64,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)"
      ],
      "metadata": {
        "id": "YFWDNV5Nh4rY"
      }
    },
    {
      "cell_type": "markdown",
      "source": [
        "---\n",
        "--- Fin ---"
      ],
      "metadata": {
        "id": "OY7AdSMbh7wy"
      }
    }
  ]
}