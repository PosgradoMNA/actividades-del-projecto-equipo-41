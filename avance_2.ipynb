{
  "nbformat": 4,
  "nbformat_minor": 0,
  "metadata": {
    "colab": {
      "provenance": [],
      "collapsed_sections": [],
      "authorship_tag": "ABX9TyOM+kgqQrFQn6M2DBAQ07dz",
      "include_colab_link": true
    },
    "kernelspec": {
      "name": "python3",
      "display_name": "Python 3"
    },
    "language_info": {
      "name": "python"
    }
  },
  "cells": [
    {
      "cell_type": "markdown",
      "metadata": {
        "id": "view-in-github",
        "colab_type": "text"
      },
      "source": [
        "<a href=\"https://colab.research.google.com/github/PosgradoMNA/actividades-del-projecto-equipo-41/blob/main/avance_2.ipynb\" target=\"_parent\"><img src=\"https://colab.research.google.com/assets/colab-badge.svg\" alt=\"Open In Colab\"/></a>"
      ]
    },
    {
      "cell_type": "markdown",
      "source": [
        " ## Objetivos\n",
        "\n",
        "> Identificar y aprender una metodología para usar durante la realización de mi proyecto final. \n",
        "\n",
        "##Instrucciones\n",
        "\n",
        "> Identificar la metodología a usar durante la realización del proyecto.<br>Escribe los pasos estándares en un máximo de 3 oraciones, por cada fase.\n",
        "\n",
        "## CRISP - DM \n",
        "> La metodología a utilizar será **CR**oss-**I**ndustry **S**tandard **P**rocess for **D**ata **M**ining (CRISP-DM), la cual consta de los siguientes pasos:\n",
        "> \n",
        "> 1. Entendimiento del negocios\n",
        "> 2. Entendimiento de los datos\n",
        "> 3. Preparación de los datos\n",
        "> 4. Modelado\n",
        "> 5. Evaluación \n",
        "> 6. Implementación \n",
        "\n",
        "## Referencias\n",
        "\n",
        "  \n",
        "*Hotz, N. (2022, Agosto 8). What is CRISP DM? Data Science Process Alliance. \n",
        "Recupardo Septiembre 21, 2022, de https://www.datascience-pm.com/crisp-dm-2/*\n",
        "\n",
        "*Think Insights (September 20, 2022) CRISP-DM – A framework for Data Mining & Analysis. Retrieved from https://thinkinsights.net/data-literacy/crisp-dm/*\n",
        "\n",
        " \n",
        "\n",
        "\n",
        " "
      ],
      "metadata": {
        "id": "UznGefdxWnhp"
      }
    },
    {
      "cell_type": "markdown",
      "source": [
        "\n"
      ],
      "metadata": {
        "id": "Rzi9WFRhWfbZ"
      }
    },
    {
      "cell_type": "markdown",
      "source": [],
      "metadata": {
        "id": "TNHie6SuWmfP"
      }
    },
    {
      "cell_type": "markdown",
      "source": [],
      "metadata": {
        "id": "EFjpAh8mWhXQ"
      }
    },
    {
      "cell_type": "markdown",
      "source": [],
      "metadata": {
        "id": "cdvHbOMdWd16"
      }
    },
    {
      "cell_type": "markdown",
      "source": [],
      "metadata": {
        "id": "RIlHDlJoWc_7"
      }
    }
  ]
}