{
  "cells": [
    {
      "cell_type": "markdown",
      "metadata": {
        "colab_type": "text",
        "id": "view-in-github"
      },
      "source": [
        "<a href=\"https://colab.research.google.com/github/PosgradoMNA/actividades-del-projecto-equipo-41/blob/main/avance_2.ipynb\" target=\"_parent\"><img src=\"https://colab.research.google.com/assets/colab-badge.svg\" alt=\"Open In Colab\"/></a>"
      ]
    },
    {
      "cell_type": "markdown",
      "metadata": {
        "id": "UznGefdxWnhp"
      },
      "source": [
        " ## Objetivos\n",
        "\n",
        "> Identificar y aprender una metodología para usar durante la realización de mi proyecto final. \n",
        "\n",
        "##Instrucciones\n",
        "\n",
        "> Identificar la metodología a usar durante la realización del proyecto.<br>Escribe los pasos estándares en un máximo de 3 oraciones, por cada fase.\n",
        "\n",
        "## CRISP - DM \n",
        "> La metodología a utilizar será **CR**oss-**I**ndustry **S**tandard **P**rocess for **D**ata **M**ining (CRISP-DM), la cual consta de los siguientes pasos:\n",
        "> \n",
        "> 1. Entendimiento del negocios\n",
        "> <br> *lorem*\n",
        "> 2. Entendimiento de los datos\n",
        "> <br> *ipsum*\n",
        "> 3. Preparación de los datos\n",
        "> <br> *lorem*\n",
        "> 4. Modelado\n",
        "> <br> *ipsum*\n",
        "> 5. Evaluación \n",
        "> <br> *lorem*\n",
        "> 6. Implementación \n",
        "> <br> *ipsum*\n",
        "\n",
        "## Imagen\n",
        "\n",
        "## Referencias\n",
        "\n",
        "  \n",
        "*Hotz, N. (2022, Agosto 8). What is CRISP DM? Data Science Process Alliance. \n",
        "Recupardo Septiembre 21, 2022, de https://www.datascience-pm.com/crisp-dm-2/*\n",
        "\n",
        "*Think Insights (September 20, 2022) CRISP-DM – A framework for Data Mining & Analysis. Retrieved from https://thinkinsights.net/data-literacy/crisp-dm/*\n",
        "\n",
        " \n",
        "\n",
        "\n",
        " "
      ]
    },
    {
      "cell_type": "markdown",
      "metadata": {
        "id": "Rzi9WFRhWfbZ"
      },
      "source": [
        "\n"
      ]
    },
    {
      "cell_type": "markdown",
      "metadata": {
        "id": "TNHie6SuWmfP"
      },
      "source": []
    },
    {
      "cell_type": "markdown",
      "metadata": {
        "id": "EFjpAh8mWhXQ"
      },
      "source": []
    },
    {
      "cell_type": "markdown",
      "metadata": {
        "id": "cdvHbOMdWd16"
      },
      "source": []
    },
    {
      "cell_type": "markdown",
      "metadata": {
        "id": "RIlHDlJoWc_7"
      },
      "source": []
    }
  ],
  "metadata": {
    "colab": {
      "authorship_tag": "ABX9TyPAvez8kzmdXJ8yeRJ8UmPI",
      "collapsed_sections": [],
      "include_colab_link": true,
      "provenance": []
    },
    "kernelspec": {
      "display_name": "Python 3.8.5 64-bit",
      "language": "python",
      "name": "python3"
    },
    "language_info": {
      "name": "python",
      "version": "3.8.5"
    },
    "vscode": {
      "interpreter": {
        "hash": "9650cb4e16cdd4a8e8e2d128bf38d875813998db22a3c986335f89e0cb4d7bb2"
      }
    }
  },
  "nbformat": 4,
  "nbformat_minor": 0
}
