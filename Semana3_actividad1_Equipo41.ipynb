{
  "nbformat": 4,
  "nbformat_minor": 0,
  "metadata": {
    "colab": {
      "provenance": [],
      "collapsed_sections": [],
      "authorship_tag": "ABX9TyOc0rMHRr1EFkOYFUoQlqWT",
      "include_colab_link": true
    },
    "kernelspec": {
      "name": "python3",
      "display_name": "Python 3"
    },
    "language_info": {
      "name": "python"
    }
  },
  "cells": [
    {
      "cell_type": "markdown",
      "metadata": {
        "id": "view-in-github",
        "colab_type": "text"
      },
      "source": [
        "<a href=\"https://colab.research.google.com/github/PosgradoMNA/actividades-del-projecto-equipo-41/blob/main/Semana3_actividad1_Equipo41.ipynb\" target=\"_parent\"><img src=\"https://colab.research.google.com/assets/colab-badge.svg\" alt=\"Open In Colab\"/></a>"
      ]
    },
    {
      "cell_type": "code",
      "execution_count": null,
      "metadata": {
        "id": "Mcj0R98kpECr"
      },
      "outputs": [],
      "source": [
        "---\n",
        "\n",
        "<br>\n",
        "<p align=center>Instituto Tecnológico y de Estudios Superiores de Monterrey</p>\n",
        "<p align=center>Escuela de Ingeniería y Ciencias</p>\n",
        "<p align=center>\n",
        "<br>\n",
        "<img src=\"https://github.com/PosgradoMNA/actividades-del-projecto-equipo-41/blob/main/tec.png?raw=true\" alt=\"Logo\" width=\"250\"/>\n",
        "</p>\n",
        "<br>\n",
        "<p align=center>Maestría en Inteligencia Artificial Aplicada (MNA)</p>\n",
        "<p align=center>TC4029. Ciencia y Analítica de Datos</p>\n",
        "<p align=center></p>\n",
        "<p align=center> Profesor Titular: Jobish Vallikavungal Devassia </p>\n",
        "<br>\n",
        "<p align=center>Presentan:</p>\n",
        "<p align=center>A01150742 | José Ovalle Alvarado</p>\n",
        "<p align=center>A01793023 | Jorge Luis Arroyo Chavelas</p>\n",
        "<p align=center>11 de Octubre de 2022</p>\n",
        "<br>\n",
        "\n",
        "---"
      ]
    }
  ]
}