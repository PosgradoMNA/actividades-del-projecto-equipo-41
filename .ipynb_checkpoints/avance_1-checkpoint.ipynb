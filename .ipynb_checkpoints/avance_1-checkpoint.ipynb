{
 "cells": [
  {
   "cell_type": "markdown",
   "metadata": {
    "colab_type": "text",
    "id": "view-in-github"
   },
   "source": [
    "<a href=\"https://colab.research.google.com/github/PosgradoMNA/actividades-del-projecto-equipo-41/blob/main/avance_1.ipynb\" target=\"_parent\"><img src=\"https://colab.research.google.com/assets/colab-badge.svg\" alt=\"Open In Colab\"/></a>"
   ]
  },
  {
   "cell_type": "markdown",
   "metadata": {
    "id": "E_nuQTD-Kd8O"
   },
   "source": [
    "## Nombre que caracteriza el conjunto de datos.\n",
    "Demanda de reservaciones de Hotel y sus cancelaciones\n",
    "\n",
    "## Organización que generó los datos\n",
    "Extraído de Data in Brief, No. 22, PP 41-49 por Antonio, Almeida & Nunes (2019).\n",
    "\n",
    "## Enlace de Internet donde se puedan descargar el base de datos en línea\n",
    "https://doi.org/10.1016/j.dib.2018.11.126 En Apendíce A: Supplementary Material\n",
    "\n",
    "## Descripción del conjunto de datos\n",
    "Los datos muestran reservaciones de un hotel \"resort\" H1, y un hotel de ciudad H2 en la ciudad de Lisboa, Portugal en el periodo Julio del 2015 a Agosto del 2017. Los datos muestran fecha de la reservación, adultos, niños e infantes de la misma; además se muestra si se utilizó alguna compañia, agente, el tipo de consumidor, si aplicó depósito o no. Otros datos incluyen si se trata de clientes recurrentes, tiempos de espera, tipo de cuarto. etc.\n",
    "\n",
    "## ¿Cuáles son algunas de las preguntas de investigación que podría responder con estos datos? \n",
    "Esperamos con estos datos contestar preguntas cómo:\n",
    "\n",
    "* ¿Cuáles son los clientes con mayor cantidad de peticiones especiales (segmentación de clientes?\n",
    "* ¿Cuáles son los días de la semana con mayor demanda?\n",
    "* ¿Existen compañias o agentes de viaje que sean relevantes para la generación de la demanda?\n",
    "* ¿Existe estacionalidad en general y/o por tipo de hotel?\n",
    "* ¿Cuánto es el promedio de días que los clientes permanecen?\n",
    "* ¿Existen temporadas anómalas a la creencía de demanda sólo en fines de semana?\n",
    "* ¿Cuál es la distribución de tasa de cancelación por días de la semana o temporadas?\n",
    "* ¿Cuáles son los potenciales factores de cancelación (machine learning)?\n",
    "\n",
    "## Aactores interesados en las preguntas mencionadas:\n",
    "Estas preguntas pueden aydar al sector privado hotelero y agencias de viaje a comprender mejor lo esperado en la demanda, así mismo también puede convenir al sector gobierno y/o organizaciones sin fines de lucro para programas de turismo y fechas importantes.\n",
    "\n",
    "## Referencias\n",
    "* *Antonio, N., de Almeida, A., & Nunes, L. (2019). Hotel booking demand datasets. Data in brief, 22, 41-49.*"
   ]
  },
  {
   "cell_type": "markdown",
   "metadata": {},
   "source": [
    "## Probando cambios Ovalle"
   ]
  },
  {
   "cell_type": "code",
   "execution_count": null,
   "metadata": {},
   "outputs": [],
   "source": []
  }
 ],
 "metadata": {
  "colab": {
   "include_colab_link": true,
   "provenance": []
  },
  "kernelspec": {
   "display_name": "Python 3",
   "language": "python",
   "name": "python3"
  },
  "language_info": {
   "codemirror_mode": {
    "name": "ipython",
    "version": 3
   },
   "file_extension": ".py",
   "mimetype": "text/x-python",
   "name": "python",
   "nbconvert_exporter": "python",
   "pygments_lexer": "ipython3",
   "version": "3.8.5"
  },
  "vscode": {
   "interpreter": {
    "hash": "9650cb4e16cdd4a8e8e2d128bf38d875813998db22a3c986335f89e0cb4d7bb2"
   }
  }
 },
 "nbformat": 4,
 "nbformat_minor": 4
}
